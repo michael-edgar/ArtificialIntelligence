{
  "cells": [
    {
      "metadata": {
        "trusted": true
      },
      "cell_type": "code",
      "source": "class CurrentBoard:\n    def __init__(self, setup_of_board = \"         \"):\n        self.X = \"X\"\n        self.O = \"O\"\n        self.space = \" \"\n        self.board_size = 9\n    \n        if len(setup_of_board) != self.board_size:\n            print(\"Invalid Setup Error, Length expected: 9, Length provided: {}\".format(len(setup_of_board)))\n        else:\n            self.board = setup_of_board\n        self.outcome = self.game_won()\n            \n    def display(self):\n        c = self.board\n        print(\"{}|{}|{}\".format(c[0], c[1], c[2]))\n        print(\"------\")\n        print(\"{}|{}|{}\".format(c[3], c[4], c[5]))\n        print(\"------\")\n        print(\"{}|{}|{}\".format(c[6], c[7], c[8]))\n            \n    def equal3(self, a, b, c):\n        return (self.board[a] == self.board[b]) and (self.board[a] == self.board[c]) and (self.board[a] != self.space)\n            \n    def game_won(self):\n        # returns x if x wins, o if o wins, \" \" if no result or d if draw\n        if self.equal3(0, 1, 2) or self.equal3(0, 3, 6) or self.equal3(0, 4, 8):\n            return self.board[0]\n        elif self.equal3(1, 4, 7):\n            return self.board[1]\n        elif self.equal3(2, 5, 8) or self.equal3(2, 4, 6):\n            return self.board[2]\n        elif self.equal3(3, 4, 5):\n            return self.board[3]\n        elif self.equal3(6, 7, 8):\n            return self.board[6]\n        else:\n            return self.space\n        \n    def other(self, character):\n        if character == self.X:\n            return self.O\n        if character == self.O:\n            return self.X\n        print(\"Error character not recognised\")\n        return self.space\n        \n    def display_string(self):\n        print(\"{}{}{}{}{}{}{}{}{}\".format(self.board[0], self.board[1], self.board[2], self.board[3], self.board[4], self.board[5], self.board[6], self.board[7], self.board[8]))\n    \n    def all_possible_moves_for(self, choosing_this_character):\n        #returns (as GameStates) a list of all possible moves\n        list_of_all_moves = []\n        if self.game_won() != \" \":\n            print(\"Game has ended, no possible moves\")\n        else:\n            for i in range(self.board_size):\n                if(self.board[i] == self.space):\n                    list_of_all_moves.append(CurrentBoard(self.board[:i]+choosing_this_character+self.board[i+1:]))\n        return list_of_all_moves",
      "execution_count": null,
      "outputs": []
    },
    {
      "metadata": {
        "trusted": true
      },
      "cell_type": "code",
      "source": "class SearchTreeNode():\n    def __init__(self, just_after_choosing_character, current_game = None, Ply_Depth = 0):\n        self.children = []\n        self.ply_depth = Ply_Depth\n        self.is_node_value_assigned = False\n        self.node_value = 0\n        self.choosing_character = just_after_choosing_character\n        \n        if current_game == None:\n            self.game_at_this_node = CurrentBoard()\n        else:\n            self.game_at_this_node = current_game\n            \n        self.generate_children()\n        \n    def generate_children(self):\n        if self.game_at_this_node.game_won() != self.game_at_this_node.space:\n            #This is a leaf, apply utility value function\n            if (self.ply_depth) % 2 == 1:\n                self.node_value = 1\n            else:\n                self.node_value = -1\n            self.is_node_value_assigned = True\n            \n        else:\n            all_moves = self.game_at_this_node.all_possible_moves_for(self.game_at_this_node.other(self.choosing_character))\n            if (len(all_moves) == 0):\n                self.node_value = 0\n                self.is_node_value_assigned = True\n            else:\n                for new_game in all_moves:\n                    self.children.append(SearchTreeNode(new_game.other(self.choosing_character), new_game, self.ply_depth+1))\n        \n    def get_node_value(self):\n        if not self.is_node_value_assigned:\n            self.is_node_value_assigned = True\n            self.children = sorted(self.children, key = lambda x: x.get_node_value())\n            \n            if (self.ply_depth % 2) == 0: # Maximising Layer\n                self.node_value = self.children[-1].node_value\n            else: # Minimising Layer\n                self.node_value = self.children[0].node_value\n            \n        return self.node_value\n",
      "execution_count": null,
      "outputs": []
    },
    {
      "metadata": {
        "trusted": true
      },
      "cell_type": "code",
      "source": "class TicTacToeDriver():\n    def __init__(self, player_character): # X goes first\n        self.game_board = CurrentBoard()\n        if(player_character == self.game_board.X)",
      "execution_count": null,
      "outputs": []
    },
    {
      "metadata": {
        "trusted": true
      },
      "cell_type": "code",
      "source": "Game = SearchTreeNode(\"X\", CurrentBoard(\"X  XO    \"))",
      "execution_count": null,
      "outputs": []
    },
    {
      "metadata": {
        "trusted": true
      },
      "cell_type": "code",
      "source": "Game.game_at_this_node.display()",
      "execution_count": null,
      "outputs": []
    },
    {
      "metadata": {
        "trusted": true
      },
      "cell_type": "code",
      "source": "Game.get_node_value()",
      "execution_count": null,
      "outputs": []
    },
    {
      "metadata": {
        "trusted": true
      },
      "cell_type": "code",
      "source": "for b in Game.children[3].children[0].children:\n    print()\n    b.game_at_this_node.display()\n    print(b.node_value)\n    print()",
      "execution_count": null,
      "outputs": []
    },
    {
      "metadata": {
        "trusted": true
      },
      "cell_type": "code",
      "source": "Game.children[3].children[1].children[3].game_at_this_node.display()",
      "execution_count": null,
      "outputs": []
    },
    {
      "metadata": {
        "trusted": true
      },
      "cell_type": "code",
      "source": "Game.children[3].children[1].is_node_value_assigned",
      "execution_count": null,
      "outputs": []
    },
    {
      "metadata": {
        "trusted": true
      },
      "cell_type": "code",
      "source": "cb = CurrentBoard(\"OX  O XX\")",
      "execution_count": null,
      "outputs": []
    },
    {
      "metadata": {
        "trusted": true
      },
      "cell_type": "code",
      "source": "cb.display()",
      "execution_count": null,
      "outputs": []
    },
    {
      "metadata": {
        "trusted": true
      },
      "cell_type": "code",
      "source": "all_moves = cb.all_possible_moves_for(\"O\")",
      "execution_count": null,
      "outputs": []
    },
    {
      "metadata": {
        "trusted": true
      },
      "cell_type": "code",
      "source": "all_moves",
      "execution_count": null,
      "outputs": []
    },
    {
      "metadata": {
        "trusted": true
      },
      "cell_type": "code",
      "source": "for b in all_moves:\n    print()\n    b.display()",
      "execution_count": null,
      "outputs": []
    }
  ],
  "metadata": {
    "kernelspec": {
      "name": "python36",
      "display_name": "Python 3.6",
      "language": "python"
    },
    "language_info": {
      "mimetype": "text/x-python",
      "nbconvert_exporter": "python",
      "name": "python",
      "pygments_lexer": "ipython3",
      "version": "3.6.6",
      "file_extension": ".py",
      "codemirror_mode": {
        "version": 3,
        "name": "ipython"
      }
    }
  },
  "nbformat": 4,
  "nbformat_minor": 2
}