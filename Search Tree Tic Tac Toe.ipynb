{
 "cells": [
  {
   "cell_type": "code",
   "execution_count": 1,
   "metadata": {},
   "outputs": [],
   "source": [
    "import numpy as np"
   ]
  },
  {
   "cell_type": "code",
   "execution_count": 2,
   "metadata": {},
   "outputs": [],
   "source": [
    "class CurrentBoard:\n",
    "    def __init__(self, setup_of_board = \"         \"):\n",
    "        self.X = \"X\"\n",
    "        self.O = \"O\"\n",
    "        self.space = \" \"\n",
    "        self.board_size = 9\n",
    "    \n",
    "        if len(setup_of_board) != self.board_size:\n",
    "            print(\"Invalid Setup Error, Length expected: 9, Length provided: {}\".format(len(setup_of_board)))\n",
    "        else:\n",
    "            self.board = setup_of_board\n",
    "        self.outcome = self.game_won()\n",
    "        self.game_board = self.construct_display_string()\n",
    "\n",
    "    \n",
    "    def display(self, board_string = \"\"):\n",
    "        if board_string == \"\":\n",
    "            c = self.construct_display_string()\n",
    "        else:\n",
    "            c = board_string\n",
    "        print(\"{}|{}|{}\".format(c[0], c[1], c[2]))\n",
    "        print(\"------\")\n",
    "        print(\"{}|{}|{}\".format(c[3], c[4], c[5]))\n",
    "        print(\"------\")\n",
    "        print(\"{}|{}|{}\".format(c[6], c[7], c[8]))\n",
    "    \n",
    "    def construct_display_string(self):\n",
    "        hold = \"\"\n",
    "        for i in range(self.board_size):\n",
    "            if self.board[i] == self.space:\n",
    "                hold += str(i)\n",
    "            else:\n",
    "                hold += self.board[i]\n",
    "        return hold\n",
    "            \n",
    "    def equal3(self, a, b, c):\n",
    "        return (self.board[a] == self.board[b]) and (self.board[a] == self.board[c]) and (self.board[a] != self.space)\n",
    "            \n",
    "    def game_won(self):\n",
    "        # returns x if x wins, o if o wins, \" \" if no result or d if draw\n",
    "        if self.equal3(0, 1, 2) or self.equal3(0, 3, 6) or self.equal3(0, 4, 8):\n",
    "            return self.board[0]\n",
    "        elif self.equal3(1, 4, 7):\n",
    "            return self.board[1]\n",
    "        elif self.equal3(2, 5, 8) or self.equal3(2, 4, 6):\n",
    "            return self.board[2]\n",
    "        elif self.equal3(3, 4, 5):\n",
    "            return self.board[3]\n",
    "        elif self.equal3(6, 7, 8):\n",
    "            return self.board[6]\n",
    "        else:\n",
    "            return self.space\n",
    "        \n",
    "    def other(self, character):\n",
    "        if character == self.X:\n",
    "            return self.O\n",
    "        if character == self.O:\n",
    "            return self.X\n",
    "        print(\"Error character not recognised\")\n",
    "        return self.space\n",
    "    \n",
    "    def all_possible_moves_for(self, choosing_this_character):\n",
    "        #returns (as GameStates) a list of all possible moves\n",
    "        list_of_all_moves = []\n",
    "        if self.game_won() != \" \":\n",
    "            print(\"Game has ended, no possible moves\")\n",
    "        else:\n",
    "            for i in range(self.board_size):\n",
    "                if(self.board[i] == self.space):\n",
    "                    list_of_all_moves.append(CurrentBoard(self.board[:i]+choosing_this_character+self.board[i+1:]))\n",
    "        return list_of_all_moves"
   ]
  },
  {
   "cell_type": "code",
   "execution_count": 3,
   "metadata": {},
   "outputs": [],
   "source": [
    "class SearchTreeNode():\n",
    "    def __init__(self, just_after_choosing_character, current_game = None, Ply_Depth = 0):\n",
    "        self.children = []\n",
    "        self.ply_depth = Ply_Depth\n",
    "        self.is_node_value_assigned = False\n",
    "        self.node_value = 0\n",
    "        self.choosing_character = just_after_choosing_character\n",
    "        \n",
    "        if current_game == None:\n",
    "            self.game_at_this_node = CurrentBoard()\n",
    "        else:\n",
    "            self.game_at_this_node = current_game\n",
    "            \n",
    "        self.generate_children()\n",
    "        \n",
    "    def generate_children(self):\n",
    "        if self.game_at_this_node.game_won() != self.game_at_this_node.space:\n",
    "            #This is a leaf, apply utility value function\n",
    "            if (self.ply_depth) % 2 == 1:\n",
    "                self.node_value = 1\n",
    "            else:\n",
    "                self.node_value = -1\n",
    "            self.is_node_value_assigned = True\n",
    "            \n",
    "        else:\n",
    "            all_moves = self.game_at_this_node.all_possible_moves_for(self.game_at_this_node.other(self.choosing_character))\n",
    "            if (len(all_moves) == 0):\n",
    "                self.node_value = 0\n",
    "                self.is_node_value_assigned = True\n",
    "            else:\n",
    "                for new_game in all_moves:\n",
    "                    self.children.append(SearchTreeNode(new_game.other(self.choosing_character), new_game, self.ply_depth+1))\n",
    "        \n",
    "    def get_node_value(self):\n",
    "        if not self.is_node_value_assigned:\n",
    "            self.is_node_value_assigned = True\n",
    "            self.children = sorted(self.children, key = lambda x: x.get_node_value())\n",
    "            \n",
    "            if (self.ply_depth % 2) == 0: # Maximising Layer\n",
    "                self.node_value = self.children[-1].node_value\n",
    "            else: # Minimising Layer\n",
    "                self.node_value = self.children[0].node_value\n",
    "            \n",
    "        return self.node_value\n"
   ]
  },
  {
   "cell_type": "code",
   "execution_count": 5,
   "metadata": {},
   "outputs": [],
   "source": [
    "def play_tic_tac_toe():\n",
    "    current_board = None\n",
    "    player_choosing = \"\"\n",
    "    computer_choosing = \"\"\n",
    "    choice = input(\"Do you want to go first? y/n \")\n",
    "    player_going_first = (choice == \"y\" or choice == \"Y\")\n",
    "    choice = input(\"Do you want to play as X? y/n \")\n",
    "    if choice == \"y\" or choice == \"Y\":\n",
    "        player_choosing = \"X\"\n",
    "        computer_choosing = \"O\"\n",
    "    else:\n",
    "        player_choosing = \"O\"\n",
    "        computer_choosing = \"X\"\n",
    "    if player_going_first:    \n",
    "        current_board = CurrentBoard()\n",
    "    else:\n",
    "        #Choose a random move\n",
    "        current_board = CurrentBoard()\n",
    "        ind = np.random.randint(current_board.board_size)\n",
    "        current_board = CurrentBoard(current_board.board[:ind] + computer_choosing + current_board.board[ind+1:])\n",
    "        \n",
    "    for i in range(9):\n",
    "        current_board.display()\n",
    "        index_as_string = input(\"Choose your move \")\n",
    "        ind = int(index_as_string)\n",
    "        current_board = CurrentBoard(current_board.board[:ind] + player_choosing + current_board.board[ind+1:])\n",
    "        if current_board.outcome != current_board.space:\n",
    "            print(\"I can't believe you've won!!\")\n",
    "            current_board.display()\n",
    "            break\n",
    "        elif len(current_board.all_possible_moves_for(computer_choosing)) == 0:\n",
    "            print(\"this is a draw\")\n",
    "            current_board.display()\n",
    "            break\n",
    "        search_tree = SearchTreeNode(player_choosing, current_board)\n",
    "        search_tree.get_node_value()\n",
    "        current_board = search_tree.children[-1].game_at_this_node\n",
    "        if current_board.outcome != current_board.space:\n",
    "            print(\"Haha you lost loser\")\n",
    "            current_board.display()\n",
    "            break\n",
    "        elif len(current_board.all_possible_moves_for(player_choosing)) == 0:\n",
    "            print(\"issa draw\")\n",
    "            current_board.display()\n",
    "            break\n",
    "        \n",
    "    return player_going_first, player_choosing, current_board"
   ]
  },
  {
   "cell_type": "code",
   "execution_count": 6,
   "metadata": {},
   "outputs": [
    {
     "name": "stdout",
     "output_type": "stream",
     "text": [
      "Do you want to go first? y/n y\n",
      "Do you want to play as X? y/n o\n",
      "0|1|2\n",
      "------\n",
      "3|4|5\n",
      "------\n",
      "6|7|8\n",
      "Choose your move 4\n",
      "0|1|2\n",
      "------\n",
      "3|O|5\n",
      "------\n",
      "6|7|X\n",
      "Choose your move 7\n",
      "0|X|2\n",
      "------\n",
      "3|O|5\n",
      "------\n",
      "6|O|X\n",
      "Choose your move 5\n",
      "0|X|2\n",
      "------\n",
      "X|O|O\n",
      "------\n",
      "6|O|X\n",
      "Choose your move 0\n",
      "O|X|2\n",
      "------\n",
      "X|O|O\n",
      "------\n",
      "X|O|X\n",
      "Choose your move 2\n",
      "this is a draw\n",
      "O|X|O\n",
      "------\n",
      "X|O|O\n",
      "------\n",
      "X|O|X\n"
     ]
    }
   ],
   "source": [
    "a,b,c = play_tic_tac_toe()"
   ]
  },
  {
   "cell_type": "code",
   "execution_count": null,
   "metadata": {},
   "outputs": [],
   "source": [
    "Game = SearchTreeNode(\"X\", CurrentBoard(\" X  XO   \"))"
   ]
  },
  {
   "cell_type": "code",
   "execution_count": null,
   "metadata": {},
   "outputs": [],
   "source": [
    "Game.game_at_this_node.display_gameboard()"
   ]
  },
  {
   "cell_type": "code",
   "execution_count": null,
   "metadata": {},
   "outputs": [],
   "source": [
    "test = CurrentBoard()"
   ]
  },
  {
   "cell_type": "code",
   "execution_count": null,
   "metadata": {},
   "outputs": [],
   "source": [
    "test.display()"
   ]
  },
  {
   "cell_type": "code",
   "execution_count": null,
   "metadata": {},
   "outputs": [],
   "source": [
    "test.display()"
   ]
  },
  {
   "cell_type": "code",
   "execution_count": null,
   "metadata": {},
   "outputs": [],
   "source": [
    "Game.get_node_value()"
   ]
  },
  {
   "cell_type": "code",
   "execution_count": null,
   "metadata": {},
   "outputs": [],
   "source": [
    "for b in Game.children[3].children[0].children:\n",
    "    print()\n",
    "    b.game_at_this_node.display()\n",
    "    print(b.node_value)\n",
    "    print()"
   ]
  },
  {
   "cell_type": "code",
   "execution_count": null,
   "metadata": {},
   "outputs": [],
   "source": [
    "Game.children[3].children[1].children[3].game_at_this_node.display()"
   ]
  },
  {
   "cell_type": "code",
   "execution_count": null,
   "metadata": {},
   "outputs": [],
   "source": [
    "Game.children[3].children[1].is_node_value_assigned"
   ]
  },
  {
   "cell_type": "code",
   "execution_count": null,
   "metadata": {},
   "outputs": [],
   "source": [
    "cb = CurrentBoard(\"OX  O XX\")"
   ]
  },
  {
   "cell_type": "code",
   "execution_count": null,
   "metadata": {},
   "outputs": [],
   "source": [
    "cb.display()"
   ]
  },
  {
   "cell_type": "code",
   "execution_count": null,
   "metadata": {},
   "outputs": [],
   "source": [
    "all_moves = cb.all_possible_moves_for(\"O\")"
   ]
  },
  {
   "cell_type": "code",
   "execution_count": null,
   "metadata": {},
   "outputs": [],
   "source": [
    "all_moves"
   ]
  },
  {
   "cell_type": "code",
   "execution_count": null,
   "metadata": {},
   "outputs": [],
   "source": [
    "for b in all_moves:\n",
    "    print()\n",
    "    b.display()"
   ]
  }
 ],
 "metadata": {
  "kernelspec": {
   "display_name": "Python 3",
   "language": "python",
   "name": "python3"
  },
  "language_info": {
   "codemirror_mode": {
    "name": "ipython",
    "version": 3
   },
   "file_extension": ".py",
   "mimetype": "text/x-python",
   "name": "python",
   "nbconvert_exporter": "python",
   "pygments_lexer": "ipython3",
   "version": "3.7.4"
  }
 },
 "nbformat": 4,
 "nbformat_minor": 2
}
