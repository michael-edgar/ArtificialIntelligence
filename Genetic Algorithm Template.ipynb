{
 "cells": [
  {
   "cell_type": "code",
   "execution_count": 32,
   "metadata": {},
   "outputs": [],
   "source": [
    "# imports here\n",
    "import numpy as np\n",
    "\n",
    "from copy import deepcopy\n"
   ]
  },
  {
   "cell_type": "code",
   "execution_count": 7,
   "metadata": {},
   "outputs": [],
   "source": [
    "x = np.array([ 0.03,9.34,0.12])"
   ]
  },
  {
   "cell_type": "code",
   "execution_count": 8,
   "metadata": {},
   "outputs": [],
   "source": [
    "# Test Function\n",
    "def sphere_function(x):\n",
    "    return sum(x**2)\n",
    "   \n",
    "    \n",
    "    \n"
   ]
  },
  {
   "cell_type": "code",
   "execution_count": 9,
   "metadata": {},
   "outputs": [
    {
     "data": {
      "text/plain": [
       "87.25089999999999"
      ]
     },
     "execution_count": 9,
     "metadata": {},
     "output_type": "execute_result"
    }
   ],
   "source": [
    "sphere_function(x)"
   ]
  },
  {
   "cell_type": "code",
   "execution_count": 11,
   "metadata": {},
   "outputs": [],
   "source": [
    "# Problem to be defined here as a class (or struct)\n",
    "\n",
    "class problem:\n",
    "    \n",
    "    def __init__(self):\n",
    "    # Cost function\n",
    "        self.cost_function = sphere_function\n",
    "    # number of genes (variables) in an individial\n",
    "        self.number_of_genes = 5\n",
    "\n",
    "    #  Max gene value\n",
    "        self.maximum_value = 10\n",
    "    # Min Gene Value\n",
    "        self.minimum_value = -10\n"
   ]
  },
  {
   "cell_type": "code",
   "execution_count": 12,
   "metadata": {},
   "outputs": [],
   "source": [
    "p1 = problem()"
   ]
  },
  {
   "cell_type": "code",
   "execution_count": 14,
   "metadata": {},
   "outputs": [
    {
     "data": {
      "text/plain": [
       "-10"
      ]
     },
     "execution_count": 14,
     "metadata": {},
     "output_type": "execute_result"
    }
   ],
   "source": [
    "p1.minimum_value"
   ]
  },
  {
   "cell_type": "code",
   "execution_count": 42,
   "metadata": {},
   "outputs": [],
   "source": [
    "#Genetic Algorithm Parameters here as a class or struct\n",
    "class parameters():\n",
    "    def __init__(self):\n",
    "        \n",
    "\n",
    "# Number of iterations of genetic algorithm\n",
    "        self.number_of_iterations = 100\n",
    "# Number of individuals in Population \n",
    "        self.number_in_population = 50\n",
    "    \n",
    "# Rate of new children pre iteration\n",
    "        self.child_rate = 1\n",
    "# Number of children \n",
    "        self.number_of_children = self.number_in_population * self.child_rate\n",
    "#  etc.   laters...\n",
    "\n",
    "\n",
    "\n",
    "\n"
   ]
  },
  {
   "cell_type": "code",
   "execution_count": 41,
   "metadata": {},
   "outputs": [],
   "source": [
    "# Structure for an individual of the population as a class or struct\n",
    "class individual:\n",
    "    \n",
    "\n",
    "# Genotype or Chromosone\n",
    "    chromosone = None\n",
    "# Cost for the individual\n",
    "    cost = 0\n",
    "# Constructor(s)\n",
    "\n",
    "    # if problem is passed as parameter to constructor, a random individual is generated\n",
    "    #   https://docs.python.org/3/glossary.html#term-argument\n",
    "    def __init__(self, problem = None):\n",
    "        \n",
    "        if problem is not None:\n",
    "            self.chromosone = np.random.uniform(problem.minimum_value,problem.maximum_value,problem.number_of_genes)\n",
    "            self.cost = problem.cost_function(self.chromosone)\n",
    "# Crossover with another individual  method\n",
    "\n",
    "# Mutate method\n"
   ]
  },
  {
   "cell_type": "code",
   "execution_count": 21,
   "metadata": {},
   "outputs": [],
   "source": [
    "i = individual(p1)"
   ]
  },
  {
   "cell_type": "code",
   "execution_count": 24,
   "metadata": {},
   "outputs": [
    {
     "data": {
      "text/plain": [
       "range(0, 10)"
      ]
     },
     "execution_count": 24,
     "metadata": {},
     "output_type": "execute_result"
    }
   ],
   "source": [
    "def choose_distinct_pair_from(population_size):\n",
    "    index1 = np.random.randint(population_size)\n",
    "    index2 = np.random.randint(population_size)\n",
    "    if index1 == index2:\n",
    "        return choose_distint_pair_from_size(population_size)\n",
    "    else:\n",
    "        return index1, index2"
   ]
  },
  {
   "cell_type": "code",
   "execution_count": 36,
   "metadata": {},
   "outputs": [],
   "source": [
    "# Main Genetic method\n",
    "\n",
    "def run_genetic ( problem, parameters):\n",
    "    \n",
    "    #  read problem\n",
    "\n",
    "    \n",
    "    # read paramaters\n",
    "    number_in_population = parameters.number_in_population\n",
    "    number_of_iterations = parameters.number_of_iterations\n",
    "    number_of_children = parameters.number_of_children\n",
    "    \n",
    "    # placeholder for best solution\n",
    "    best_solution = deepcopy(individual())\n",
    "    best_solution.cost = np.infty\n",
    "    \n",
    "    \n",
    "    \n",
    "    population = []\n",
    "    #  initialize population for the above problem, i.e. generate random individuals \n",
    "    for i in range(number_in_population):\n",
    "        new_individual = individual(problem)\n",
    "        population.append(new_individual)\n",
    "        if new_individual.cost < best_solution.cost:\n",
    "            best_solution = deepcopy(new_individual)\n",
    "        \n",
    "    \n",
    "     # Main Loop for algorithm   (number of iterations)\n",
    "    \n",
    "    for iteration in range(number_of_iterations):\n",
    "        \n",
    "        # generate a new population of children\n",
    "        children = []\n",
    "        \n",
    "        # How many children? \n",
    "        while len(children) < number_of_children:\n",
    "                \n",
    "                # Select 2 Parents\n",
    "                parent1_index, parent2_index = choose_distinct_pair_from(number_in_population)\n",
    "                \n",
    "                # Use crossover to produce 2 children\n",
    "                \n",
    "                # Mutate these children\n",
    "                \n",
    "                # calculate costs for these children\n",
    "                \n",
    "                # add to the children population\n",
    "                \n",
    "        # Merge parent and child population \n",
    "        \n",
    "        \n",
    "        # Sort into ascending order for cost\n",
    "        \n",
    "        # Select population next iteration\n",
    "        \n",
    "        # Update best solution\n",
    "        \n",
    "        # print iteration results\n",
    "        \n",
    "        #output results ?? class/struct/ best solution/ population?\n",
    "                \n",
    "                \n",
    "    return population ,best_solution\n",
    "        \n",
    "    \n",
    "    \n",
    "    \n",
    "    \n",
    "    \n",
    "    "
   ]
  },
  {
   "cell_type": "code",
   "execution_count": 30,
   "metadata": {},
   "outputs": [],
   "source": [
    "q = parameters()"
   ]
  },
  {
   "cell_type": "code",
   "execution_count": 37,
   "metadata": {},
   "outputs": [],
   "source": [
    "pop, best_soln = run_genetic(p1,q)"
   ]
  },
  {
   "cell_type": "code",
   "execution_count": 35,
   "metadata": {},
   "outputs": [
    {
     "data": {
      "text/plain": [
       "array([-2.97479189, -9.33872222,  6.27799102,  8.74461249,  6.8139068 ])"
      ]
     },
     "execution_count": 35,
     "metadata": {},
     "output_type": "execute_result"
    }
   ],
   "source": [
    "pop[5].chromosone"
   ]
  },
  {
   "cell_type": "code",
   "execution_count": 40,
   "metadata": {},
   "outputs": [
    {
     "data": {
      "text/plain": [
       "array([ 3.74423358, -1.43824925,  0.2917981 , -0.27500443, -3.23552819])"
      ]
     },
     "execution_count": 40,
     "metadata": {},
     "output_type": "execute_result"
    }
   ],
   "source": [
    "best_soln.chromosone"
   ]
  },
  {
   "cell_type": "code",
   "execution_count": null,
   "metadata": {},
   "outputs": [],
   "source": []
  }
 ],
 "metadata": {
  "kernelspec": {
   "display_name": "Python 3",
   "language": "python",
   "name": "python3"
  },
  "language_info": {
   "codemirror_mode": {
    "name": "ipython",
    "version": 3
   },
   "file_extension": ".py",
   "mimetype": "text/x-python",
   "name": "python",
   "nbconvert_exporter": "python",
   "pygments_lexer": "ipython3",
   "version": "3.6.9"
  }
 },
 "nbformat": 4,
 "nbformat_minor": 2
}
