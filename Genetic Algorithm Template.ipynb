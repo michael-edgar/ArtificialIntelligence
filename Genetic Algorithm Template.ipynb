{
 "cells": [
  {
   "cell_type": "code",
   "execution_count": 1,
   "metadata": {},
   "outputs": [
    {
     "ename": "ModuleNotFoundError",
     "evalue": "No module named 'numpy'",
     "output_type": "error",
     "traceback": [
      "\u001b[1;31m---------------------------------------------------------------------------\u001b[0m",
      "\u001b[1;31mModuleNotFoundError\u001b[0m                       Traceback (most recent call last)",
      "\u001b[1;32m<ipython-input-1-6aed063323dc>\u001b[0m in \u001b[0;36m<module>\u001b[1;34m\u001b[0m\n\u001b[0;32m      1\u001b[0m \u001b[1;31m# imports here\u001b[0m\u001b[1;33m\u001b[0m\u001b[1;33m\u001b[0m\u001b[1;33m\u001b[0m\u001b[0m\n\u001b[1;32m----> 2\u001b[1;33m \u001b[1;32mimport\u001b[0m \u001b[0mnumpy\u001b[0m \u001b[1;32mas\u001b[0m \u001b[0mnp\u001b[0m\u001b[1;33m\u001b[0m\u001b[1;33m\u001b[0m\u001b[0m\n\u001b[0m\u001b[0;32m      3\u001b[0m \u001b[1;32mimport\u001b[0m \u001b[0mmatplotlib\u001b[0m\u001b[1;33m.\u001b[0m\u001b[0mpyplot\u001b[0m \u001b[1;32mas\u001b[0m \u001b[0mplt\u001b[0m\u001b[1;33m\u001b[0m\u001b[1;33m\u001b[0m\u001b[0m\n\u001b[0;32m      4\u001b[0m \u001b[1;32mimport\u001b[0m \u001b[0mtime\u001b[0m\u001b[1;33m\u001b[0m\u001b[1;33m\u001b[0m\u001b[0m\n\u001b[0;32m      5\u001b[0m \u001b[1;32mfrom\u001b[0m \u001b[0mcopy\u001b[0m \u001b[1;32mimport\u001b[0m \u001b[0mdeepcopy\u001b[0m\u001b[1;33m\u001b[0m\u001b[1;33m\u001b[0m\u001b[0m\n",
      "\u001b[1;31mModuleNotFoundError\u001b[0m: No module named 'numpy'"
     ]
    }
   ],
   "source": [
    "# imports here\n",
    "import numpy as np\n",
    "import matplotlib.pyplot as plt\n",
    "import time\n",
    "from copy import deepcopy\n"
   ]
  },
  {
   "cell_type": "code",
   "execution_count": null,
   "metadata": {},
   "outputs": [],
   "source": [
    "# Test Function\n",
    "def sphere_function(x):\n",
    "    return sum((x**2 - 2*x - 4) ** 2)\n",
    "   \n",
    "    \n",
    "    \n"
   ]
  },
  {
   "cell_type": "code",
   "execution_count": null,
   "metadata": {},
   "outputs": [],
   "source": [
    "# Problem to be defined here as a class (or struct)\n",
    "\n",
    "class problem:\n",
    "    \n",
    "    def __init__(self):\n",
    "    # Cost function\n",
    "        self.cost_function = sphere_function\n",
    "    # number of genes (variables) in an individial\n",
    "        self.number_of_genes = 5\n",
    "\n",
    "    #  Max gene value\n",
    "        self.maximum_value = 10\n",
    "    # Min Gene Value\n",
    "        self.minimum_value = -10\n"
   ]
  },
  {
   "cell_type": "code",
   "execution_count": null,
   "metadata": {},
   "outputs": [],
   "source": [
    "#Genetic Algorithm Parameters here as a class or struct\n",
    "class parameters():\n",
    "    def __init__(self):\n",
    "        \n",
    "\n",
    "# Number of iterations of genetic algorithm\n",
    "        self.number_of_iterations = 100\n",
    "# Number of individuals in Population \n",
    "        self.number_in_population = 50\n",
    "    \n",
    "# Rate of new children pre iteration\n",
    "        self.child_rate = 1\n",
    "# Number of children \n",
    "        self.number_of_children = self.number_in_population * self.child_rate\n",
    "# Exploration Rate (Gamma)\n",
    "        self.explore_rate = 0.2\n",
    "    \n",
    "# Mutation Rate (Probability that a given gene will be mutated)\n",
    "        self.mutation_rate = 0.2\n",
    "# Mutation Range (Determines the amount of change of an individual gene)\n",
    "        self.mutation_range = 0.2\n",
    "#  etc.   laters...\n",
    "\n",
    "\n",
    "    def to_String(self):\n",
    "        return (\"Population: {}  Child Rate: {}  Explore Rate: {}  Mutation Rate: {}  Mutation Range: {}\"\n",
    "                .format(self.number_in_population, self.child_rate, self.explore_rate, self.mutation_rate, self.mutation_range))\n",
    "\n"
   ]
  },
  {
   "cell_type": "code",
   "execution_count": null,
   "metadata": {},
   "outputs": [],
   "source": [
    "# Structure for an individual of the population as a class or struct\n",
    "class individual:\n",
    "    \n",
    "\n",
    "# Genotype or Chromosone\n",
    "    chromosone = None\n",
    "# Cost for the individual\n",
    "    cost = 0\n",
    "# Constructor(s)\n",
    "\n",
    "    # if problem is passed as parameter to constructor, a random individual is generated\n",
    "    #   https://docs.python.org/3/glossary.html#term-argument\n",
    "    def __init__(self, problem = None):\n",
    "        \n",
    "        if problem is not None:\n",
    "            self.chromosone = np.random.uniform(problem.minimum_value,problem.maximum_value,problem.number_of_genes)\n",
    "            self.cost = problem.cost_function(self.chromosone)\n",
    "# Crossover with another individual  method\n",
    "    def crossover(self, other_individual, explore_rate):\n",
    "        child1 = deepcopy(self)\n",
    "        child2 = deepcopy(other_individual)\n",
    "        alpha = np.random.uniform(-explore_rate, 1+explore_rate, child1.chromosone.shape)\n",
    "        child1.chromosone = alpha*self.chromosone + (1-alpha) * other_individual.chromosone\n",
    "        child2.chromosone = alpha*other_individual.chromosone + (1-alpha) * self.chromosone\n",
    "        return child1, child2\n",
    "        \n",
    "# Mutate method\n",
    "    def mutate(self, rate, range_of_change):\n",
    "        for i in range(len(self.chromosone)):\n",
    "            if np.random.rand() < rate:\n",
    "                self.chromosone[i] += np.random.randn() * range_of_change\n"
   ]
  },
  {
   "cell_type": "code",
   "execution_count": null,
   "metadata": {},
   "outputs": [],
   "source": [
    "def choose_distinct_pair_from(population_size):\n",
    "    index1 = np.random.randint(population_size)\n",
    "    index2 = np.random.randint(population_size)\n",
    "    if index1 == index2:\n",
    "        return choose_distinct_pair_from(population_size)\n",
    "    else:\n",
    "        return index1, index2"
   ]
  },
  {
   "cell_type": "code",
   "execution_count": null,
   "metadata": {},
   "outputs": [],
   "source": [
    "# Main Genetic method\n",
    "\n",
    "def run_genetic (problem, parameters, max_error = 0):\n",
    "    \n",
    "    #  read problem\n",
    "    cost_function = problem.cost_function\n",
    "    \n",
    "    # read parameters\n",
    "    number_in_population = parameters.number_in_population\n",
    "    number_of_iterations = parameters.number_of_iterations\n",
    "    number_of_children = parameters.number_of_children\n",
    "    explore_rate = parameters.explore_rate\n",
    "    mutation_rate = parameters.mutation_rate\n",
    "    mutation_range = parameters.mutation_range\n",
    "    \n",
    "    \n",
    "    # placeholder for best solution\n",
    "    best_solution = deepcopy(individual())\n",
    "    best_solution.cost = np.infty\n",
    "    \n",
    "    # placeholder for best cost at each iteration\n",
    "    #best_costs = []\n",
    "    \n",
    "    population = []\n",
    "    #  initialize population for the above problem, i.e. generate random individuals \n",
    "    for i in range(number_in_population):\n",
    "        new_individual = individual(problem)\n",
    "        population.append(new_individual)\n",
    "        if new_individual.cost < best_solution.cost:\n",
    "            best_solution = deepcopy(new_individual)\n",
    "        \n",
    "    \n",
    "     # Main Loop for algorithm   (number of iterations)\n",
    "    \n",
    "    for iteration in range(number_of_iterations):\n",
    "        \n",
    "        # generate a new population of children\n",
    "        children = []\n",
    "        \n",
    "        # How many children? \n",
    "        while len(children) < number_of_children:\n",
    "                \n",
    "                # Select 2 Parents\n",
    "                parent1_index, parent2_index = choose_distinct_pair_from(number_in_population)\n",
    "                parent1 = population[parent1_index]\n",
    "                parent2 = population[parent2_index]\n",
    "                \n",
    "                # Use crossover to produce 2 children\n",
    "                child1, child2 = parent1.crossover(parent2, explore_rate)\n",
    "                # Mutate these children\n",
    "                child1.mutate(mutation_rate, mutation_range)\n",
    "                child2.mutate(mutation_rate, mutation_range)\n",
    "                # calculate costs for these children\n",
    "                child1.cost = cost_function(child1.chromosone)\n",
    "                child2.cost = cost_function(child2.chromosone)\n",
    "                \n",
    "                # add to the children population of new children\n",
    "                children.append(child1)\n",
    "                children.append(child2)\n",
    "                \n",
    "        # Merge parent and child population\n",
    "        population += children\n",
    "        \n",
    "        # Sort into ascending order for cost\n",
    "        population = sorted(population, key = lambda x: x.cost)\n",
    "        \n",
    "        # Select population next iteration\n",
    "        population = population[0:number_in_population]\n",
    "        \n",
    "        # Update best solution\n",
    "        if population[0].cost < best_solution.cost:\n",
    "            best_solution = deepcopy(population[0])\n",
    "        \n",
    "        # print iteration results\n",
    "        #print(\"Iteration {} Cost {}\".format(iteration, best_solution.cost))\n",
    "        \n",
    "        #output results ?? class/struct/ best solution/ population?\n",
    "        #best_costs.append(best_solution.cost)\n",
    "        \n",
    "        if best_solution.cost < max_error:\n",
    "            #print(\"Stopped at iteration: {}\".format(iteration))\n",
    "            break\n",
    "                \n",
    "    #plt.plot(best_costs)\n",
    "    #plt.semilogy(best_costs)\n",
    "    #plt.xlabel(\"Iteration\")\n",
    "    #plt.ylabel(\"Best Cost\")\n",
    "    #plt.title(\"Genetic Algorithm \\n {}\".format(parameters.to_String()))\n",
    "    return population, best_solution\n",
    "        \n",
    "    \n",
    "    \n",
    "    \n",
    "    \n",
    "    \n",
    "    "
   ]
  },
  {
   "cell_type": "code",
   "execution_count": null,
   "metadata": {},
   "outputs": [],
   "source": [
    "prob = problem()"
   ]
  },
  {
   "cell_type": "code",
   "execution_count": null,
   "metadata": {},
   "outputs": [],
   "source": [
    "pars = parameters()"
   ]
  },
  {
   "cell_type": "code",
   "execution_count": null,
   "metadata": {},
   "outputs": [],
   "source": [
    "final_pop, best_solution = run_genetic(prob, pars)"
   ]
  },
  {
   "cell_type": "code",
   "execution_count": null,
   "metadata": {},
   "outputs": [],
   "source": [
    "def test_genetic(number_of_runs, problem, parameters, max_error):\n",
    "    start_time = time.perf_counter()\n",
    "    for i in range(number_of_runs):\n",
    "        run_genetic(problem, parameters, max_error)\n",
    "    return(time.perf_counter() - start_time)"
   ]
  },
  {
   "cell_type": "code",
   "execution_count": null,
   "metadata": {},
   "outputs": [],
   "source": [
    "def test_explore(range_start, range_end, explore_range = 1, range_steps = 1):\n",
    "    times_for_explore_rate = []\n",
    "    explore_rates = []\n",
    "    for i in range(range_start, range_end):\n",
    "        explore_rate = float(i)/float(explore_range)\n",
    "        print(\"Start: {}\".format(explore_rate))\n",
    "        pars.explore_rate = explore_rate\n",
    "        explore_rates.append(pars.explore_rate)\n",
    "        times_for_explore_rate.append(test_genetic(100, prob, pars, 0.00001))\n",
    "        print(\"Time: {}\".format(times_for_explore_rate[i-range_start]))\n",
    "        print()\n",
    "    plt.plot(explore_rates, times_for_explore_rate)\n",
    "    plt.xlabel(\"Explore rate\")\n",
    "    plt.ylabel(\"Time in seconds\")"
   ]
  },
  {
   "cell_type": "markdown",
   "metadata": {},
   "source": [
    "# First Test gets range of explore rate from 0 to 100 in steps of 10 (shows 10 to be quickest)"
   ]
  },
  {
   "cell_type": "code",
   "execution_count": null,
   "metadata": {},
   "outputs": [],
   "source": [
    "first_test = test_explore(0,10, 0.1)"
   ]
  },
  {
   "cell_type": "markdown",
   "metadata": {},
   "source": [
    "# Second test gets explore rate from 0 to 20 in steps of 2 (shows 13 to be quickest)"
   ]
  },
  {
   "cell_type": "code",
   "execution_count": null,
   "metadata": {},
   "outputs": [],
   "source": [
    "second_test = test_explore(0, 21, 1, 2)"
   ]
  },
  {
   "cell_type": "markdown",
   "metadata": {},
   "source": [
    "# Third test gets explore rate from 12.5 to 13.5 in steps of 0.1"
   ]
  },
  {
   "cell_type": "code",
   "execution_count": null,
   "metadata": {},
   "outputs": [],
   "source": [
    "third_test = test_explore(125,135, 10)"
   ]
  },
  {
   "cell_type": "code",
   "execution_count": null,
   "metadata": {},
   "outputs": [],
   "source": []
  }
 ],
 "metadata": {
  "kernelspec": {
   "display_name": "Python 3",
   "language": "python",
   "name": "python3"
  },
  "language_info": {
   "codemirror_mode": {
    "name": "ipython",
    "version": 3
   },
   "file_extension": ".py",
   "mimetype": "text/x-python",
   "name": "python",
   "nbconvert_exporter": "python",
   "pygments_lexer": "ipython3",
   "version": "3.6.9"
  }
 },
 "nbformat": 4,
 "nbformat_minor": 2
}
