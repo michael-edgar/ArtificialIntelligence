{
 "cells": [
  {
   "cell_type": "code",
   "execution_count": 43,
   "metadata": {},
   "outputs": [],
   "source": [
    "# imports here\n",
    "import numpy as np\n",
    "import matplotlib.pyplot as plt\n",
    "import time\n",
    "from copy import deepcopy\n"
   ]
  },
  {
   "cell_type": "code",
   "execution_count": 44,
   "metadata": {},
   "outputs": [],
   "source": [
    "# Test Function\n",
    "def sphere_function(x):\n",
    "    ##return sum((x**2 - 2*x - 4) ** 2)\n",
    "    return sum(x**2)"
   ]
  },
  {
   "cell_type": "code",
   "execution_count": 45,
   "metadata": {},
   "outputs": [],
   "source": [
    "# Problem to be defined here as a class (or struct)\n",
    "\n",
    "class problem:\n",
    "    \n",
    "    def __init__(self):\n",
    "    # Cost function\n",
    "        self.cost_function = sphere_function\n",
    "    # number of genes (variables) in an individial\n",
    "        self.number_of_genes = 5\n",
    "\n",
    "    #  Max gene value\n",
    "        self.maximum_value = 10\n",
    "    # Min Gene Value\n",
    "        self.minimum_value = -10\n"
   ]
  },
  {
   "cell_type": "code",
   "execution_count": 46,
   "metadata": {},
   "outputs": [],
   "source": [
    "#Genetic Algorithm Parameters here as a class or struct\n",
    "class parameters():\n",
    "    def __init__(self):\n",
    "        \n",
    "# Number of iterations of genetic algorithm\n",
    "        self.number_of_iterations = 60\n",
    "# Number of individuals in Population \n",
    "        self.number_in_population = 15\n",
    "    \n",
    "# Rate of new children pre iteration\n",
    "        self.child_rate = 0.5\n",
    "# Number of children \n",
    "        self.number_of_children = self.number_in_population * self.child_rate\n",
    "# Exploration Rate (Gamma)\n",
    "        self.explore_rate = 0.2\n",
    "    \n",
    "# Mutation Rate (Probability that a given gene will be mutated)\n",
    "        self.mutation_rate = 0.1\n",
    "# Mutation Range (Determines the amount of change of an individual gene)\n",
    "        self.mutation_range = 0.1\n",
    "# Percentage Change of Explore Rate after each iteration\n",
    "        self.explore_rate_change = 0.98\n",
    "# Percentage Change of Mutation Rate after each iteration\n",
    "        self.mutation_rate_change = 0.98\n",
    "\n",
    "\n",
    "    def to_String(self):\n",
    "        return (\"Population: {}  Child Rate: {}  Explore Rate: {}  Mutation Rate: {}  Mutation Range: {} Explore Rate Change: {}\"\n",
    "                .format(self.number_in_population, self.child_rate, self.explore_rate, self.mutation_rate, self.mutation_range, self.explore_rate_change))\n",
    "\n"
   ]
  },
  {
   "cell_type": "code",
   "execution_count": 47,
   "metadata": {},
   "outputs": [],
   "source": [
    "# Structure for an individual of the population as a class or struct\n",
    "class individual:\n",
    "    \n",
    "\n",
    "# Genotype or Chromosone\n",
    "    chromosone = None\n",
    "# Cost for the individual\n",
    "    cost = 0\n",
    "# Fitness of the individual (for selection of parents)\n",
    "    fitness = 0\n",
    "# Constructor(s)\n",
    "\n",
    "    # if problem is passed as parameter to constructor, a random individual is generated\n",
    "    #   https://docs.python.org/3/glossary.html#term-argument\n",
    "    def __init__(self, problem = None):\n",
    "        \n",
    "        if problem is not None:\n",
    "            self.chromosone = np.random.uniform(problem.minimum_value,problem.maximum_value,problem.number_of_genes)\n",
    "            self.cost = problem.cost_function(self.chromosone)\n",
    "            if self.cost is not 0:\n",
    "                self.fitness = (float)(1.0)/self.cost\n",
    "            else:\n",
    "                #For this test 0.000001 is the minimum cost for an individual, so if cost is 0, it should be less than that\n",
    "                self.fitness = (float)(1.0)/0.0000009\n",
    "# Crossover with another individual  method\n",
    "    def crossover(self, other_individual, explore_rate):\n",
    "        child1 = deepcopy(self)\n",
    "        child2 = deepcopy(other_individual)\n",
    "        alpha = np.random.uniform(-explore_rate, 1+explore_rate, child1.chromosone.shape)\n",
    "        child1.chromosone = alpha*self.chromosone + (1-alpha) * other_individual.chromosone\n",
    "        child2.chromosone = alpha*other_individual.chromosone + (1-alpha) * self.chromosone\n",
    "        return child1, child2\n",
    "        \n",
    "# Mutate method\n",
    "    def mutate(self, rate, range_of_change):\n",
    "        for i in range(len(self.chromosone)):\n",
    "            if np.random.rand() < rate:\n",
    "                self.chromosone[i] += np.random.randn() * range_of_change\n"
   ]
  },
  {
   "cell_type": "code",
   "execution_count": 48,
   "metadata": {},
   "outputs": [],
   "source": [
    "def roulette_parent_selection(population):\n",
    "    wheel_size = 0\n",
    "    for i in range(len(population)):\n",
    "        wheel_size += population[i].fitness\n",
    "    \n",
    "    index1 = np.random.uniform(0, wheel_size)\n",
    "    index2 = np.random.uniform(0, wheel_size)\n",
    "    if index1 == index2:\n",
    "        return roulette_parent_selection(population)\n",
    "    else:\n",
    "        selection1 = 0\n",
    "        selection2 = 0\n",
    "        parent1 = individual()\n",
    "        parent2 = individual()\n",
    "        for i in range(len(population)):\n",
    "            selection1 += population[i].fitness\n",
    "            selection2 += population[i].fitness\n",
    "            if selection1 >= index1:\n",
    "                parent1 = population[i]\n",
    "            elif selection2 >= index2:\n",
    "                parent2 = population[i]\n",
    "    \n",
    "        if parent1 == parent2 or parent1.chromosone is None or parent2.chromosone is None:\n",
    "            return roulette_parent_selection(population)\n",
    "        else:\n",
    "            return parent1, parent2"
   ]
  },
  {
   "cell_type": "code",
   "execution_count": 49,
   "metadata": {},
   "outputs": [],
   "source": [
    "def choose_distinct_pair_from(population_size):\n",
    "    index1 = np.random.randint(population_size)\n",
    "    index2 = np.random.randint(population_size)\n",
    "    if index1 == index2:\n",
    "        return choose_distinct_pair_from(population_size)\n",
    "    else:\n",
    "        return index1, index2"
   ]
  },
  {
   "cell_type": "code",
   "execution_count": 64,
   "metadata": {},
   "outputs": [],
   "source": [
    "# Main Genetic method\n",
    "\n",
    "def run_genetic (problem, parameters, max_error = 0):\n",
    "    \n",
    "    #  read problem\n",
    "    cost_function = problem.cost_function\n",
    "    \n",
    "    # read parameters\n",
    "    number_in_population = parameters.number_in_population\n",
    "    number_of_iterations = parameters.number_of_iterations\n",
    "    number_of_children = parameters.number_of_children\n",
    "    explore_rate = parameters.explore_rate\n",
    "    mutation_rate = parameters.mutation_rate\n",
    "    mutation_range = parameters.mutation_range\n",
    "    explore_rate_change = parameters.explore_rate_change\n",
    "    mutation_rate_change = parameters.mutation_rate_change\n",
    "    \n",
    "    \n",
    "    # placeholder for best solution\n",
    "    best_solution = deepcopy(individual())\n",
    "    best_solution.cost = np.infty\n",
    "    \n",
    "    # placeholder for best cost at each iteration\n",
    "    #best_costs = []\n",
    "    \n",
    "    population = []\n",
    "    #  initialize population for the above problem, i.e. generate random individuals \n",
    "    for i in range(number_in_population):\n",
    "        new_individual = individual(problem)\n",
    "        population.append(new_individual)\n",
    "        if new_individual.cost < best_solution.cost:\n",
    "            best_solution = deepcopy(new_individual)\n",
    "        \n",
    "    \n",
    "     # Main Loop for algorithm   (number of iterations)\n",
    "    \n",
    "    for iteration in range(number_of_iterations):\n",
    "        \n",
    "        # generate a new population of children\n",
    "        children = []\n",
    "        \n",
    "        # How many children? \n",
    "        while len(children) < number_of_children:\n",
    "                \n",
    "                # Select 2 Parents\n",
    "                #Roulette Selection\n",
    "                #parent1, parent2 = roulette_parent_selection(population)\n",
    "                \n",
    "                #Initial Selection\n",
    "                parent1_index, parent2_index = choose_distinct_pair_from(number_in_population)\n",
    "                parent1 = population[parent1_index]\n",
    "                parent2 = population[parent2_index]\n",
    "                \n",
    "                # Use crossover to produce 2 children\n",
    "                child1, child2 = parent1.crossover(parent2, explore_rate)\n",
    "                \n",
    "                #explore_rate *= explore_rate_change\n",
    "                \n",
    "                # Mutate these children\n",
    "                child1.mutate(mutation_rate, mutation_range)\n",
    "                child2.mutate(mutation_rate, mutation_range)\n",
    "                \n",
    "                mutation_rate *= mutation_rate_change\n",
    "                \n",
    "                # calculate costs for these children\n",
    "                child1.cost = cost_function(child1.chromosone)\n",
    "                child2.cost = cost_function(child2.chromosone)\n",
    "                \n",
    "                # add to the children population of new children\n",
    "                children.append(child1)\n",
    "                children.append(child2)\n",
    "                \n",
    "        # Merge parent and child population\n",
    "        population += children\n",
    "        \n",
    "        # Sort into ascending order for cost\n",
    "        population = sorted(population, key = lambda x: x.cost)\n",
    "        \n",
    "        # Select population next iteration\n",
    "        population = population[0:number_in_population]\n",
    "        \n",
    "        # Update best solution\n",
    "        if population[0].cost < best_solution.cost:\n",
    "            best_solution = deepcopy(population[0])\n",
    "        \n",
    "        # print iteration results\n",
    "        #print(\"Iteration {} Cost {}\".format(iteration, best_solution.cost))\n",
    "        \n",
    "        #output results ?? class/struct/ best solution/ population?\n",
    "        #best_costs.append(best_solution.cost)\n",
    "        \n",
    "        if best_solution.cost < max_error:\n",
    "            #print(\"Stopped at iteration: {}\".format(iteration))\n",
    "            break\n",
    "    \n",
    "    #print(\"Ended at iteration: {}\".format(iteration))\n",
    "                \n",
    "    #plt.plot(best_costs)\n",
    "    #plt.semilogy(best_costs)\n",
    "    #plt.xlabel(\"Iteration\")\n",
    "    #plt.ylabel(\"Best Cost\")\n",
    "    #plt.title(\"Genetic Algorithm \\n {}\".format(parameters.to_String()))\n",
    "    return population, best_solution\n",
    "        \n",
    "    \n",
    "    \n",
    "    \n",
    "    \n",
    "    \n",
    "    "
   ]
  },
  {
   "cell_type": "code",
   "execution_count": 51,
   "metadata": {},
   "outputs": [],
   "source": [
    "prob = problem()"
   ]
  },
  {
   "cell_type": "code",
   "execution_count": 52,
   "metadata": {},
   "outputs": [],
   "source": [
    "pars = parameters()"
   ]
  },
  {
   "cell_type": "code",
   "execution_count": 53,
   "metadata": {},
   "outputs": [],
   "source": [
    "final_pop, best_solution = run_genetic(prob, pars)"
   ]
  },
  {
   "cell_type": "code",
   "execution_count": 54,
   "metadata": {},
   "outputs": [],
   "source": [
    "def test_genetic(number_of_runs, problem, parameters, max_error):\n",
    "    start_time = time.perf_counter()\n",
    "    for i in range(number_of_runs):\n",
    "        run_genetic(problem, parameters, max_error)\n",
    "    return(time.perf_counter() - start_time)"
   ]
  },
  {
   "cell_type": "code",
   "execution_count": 65,
   "metadata": {},
   "outputs": [],
   "source": [
    "final_test = test_genetic(100, prob, pars, 0.00001)"
   ]
  },
  {
   "cell_type": "code",
   "execution_count": 56,
   "metadata": {},
   "outputs": [
    {
     "data": {
      "text/plain": [
       "'Population: 15  Child Rate: 0.5  Explore Rate: 0.2  Mutation Rate: 0.1  Mutation Range: 0.1 Explore Rate Change: 0.98'"
      ]
     },
     "execution_count": 56,
     "metadata": {},
     "output_type": "execute_result"
    }
   ],
   "source": [
    "pars.to_String()"
   ]
  },
  {
   "cell_type": "markdown",
   "metadata": {},
   "source": [
    "# Using initial parent selection, no explore rate or mutation changes"
   ]
  },
  {
   "cell_type": "code",
   "execution_count": 57,
   "metadata": {},
   "outputs": [
    {
     "name": "stdout",
     "output_type": "stream",
     "text": [
      "1.3242572999988624\n"
     ]
    }
   ],
   "source": [
    "print(final_test)"
   ]
  },
  {
   "cell_type": "markdown",
   "metadata": {},
   "source": [
    "# Using roulette parent selection"
   ]
  },
  {
   "cell_type": "code",
   "execution_count": 60,
   "metadata": {},
   "outputs": [
    {
     "name": "stdout",
     "output_type": "stream",
     "text": [
      "1.879272199999832\n"
     ]
    }
   ],
   "source": [
    "print(final_test)"
   ]
  },
  {
   "cell_type": "markdown",
   "metadata": {},
   "source": [
    "# Using explore rate change"
   ]
  },
  {
   "cell_type": "code",
   "execution_count": 63,
   "metadata": {},
   "outputs": [
    {
     "name": "stdout",
     "output_type": "stream",
     "text": [
      "1.4097194999994827\n"
     ]
    }
   ],
   "source": [
    "print(final_test)"
   ]
  },
  {
   "cell_type": "markdown",
   "metadata": {},
   "source": [
    "# Using mutation rate change"
   ]
  },
  {
   "cell_type": "code",
   "execution_count": 66,
   "metadata": {},
   "outputs": [
    {
     "name": "stdout",
     "output_type": "stream",
     "text": [
      "1.2181888000013714\n"
     ]
    }
   ],
   "source": [
    "print(final_test)"
   ]
  },
  {
   "cell_type": "markdown",
   "metadata": {},
   "source": [
    "# Conclusion, changing the mutation rate after each iteration is the only method shown that improves the time in which it takes to get a result"
   ]
  }
 ],
 "metadata": {
  "kernelspec": {
   "display_name": "Python 3",
   "language": "python",
   "name": "python3"
  },
  "language_info": {
   "codemirror_mode": {
    "name": "ipython",
    "version": 3
   },
   "file_extension": ".py",
   "mimetype": "text/x-python",
   "name": "python",
   "nbconvert_exporter": "python",
   "pygments_lexer": "ipython3",
   "version": "3.7.4"
  }
 },
 "nbformat": 4,
 "nbformat_minor": 2
}
