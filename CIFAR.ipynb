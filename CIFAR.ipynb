{
 "cells": [
  {
   "cell_type": "code",
   "execution_count": 20,
   "metadata": {},
   "outputs": [],
   "source": [
    "from keras.datasets import cifar10\n",
    "from keras.utils import to_categorical\n",
    "from matplotlib import pyplot\n",
    "from keras.models import Sequential\n",
    "from keras.layers import Dense, Conv2D, MaxPooling2D, Dropout, Flatten"
   ]
  },
  {
   "cell_type": "code",
   "execution_count": 5,
   "metadata": {},
   "outputs": [
    {
     "name": "stdout",
     "output_type": "stream",
     "text": [
      "Downloading data from https://www.cs.toronto.edu/~kriz/cifar-10-python.tar.gz\n",
      "170500096/170498071 [==============================] - 12s 0us/step\n"
     ]
    }
   ],
   "source": [
    "(x_train, y_train), (x_test, y_test) = cifar10.load_data()"
   ]
  },
  {
   "cell_type": "code",
   "execution_count": 6,
   "metadata": {},
   "outputs": [
    {
     "name": "stdout",
     "output_type": "stream",
     "text": [
      "(50000, 32, 32, 3)\n",
      "(50000, 1)\n",
      "(10000, 32, 32, 3)\n",
      "(10000, 1)\n"
     ]
    }
   ],
   "source": [
    "print(x_train.shape)\n",
    "print(y_train.shape)\n",
    "print(x_test.shape)\n",
    "print(y_test.shape)"
   ]
  },
  {
   "cell_type": "code",
   "execution_count": 7,
   "metadata": {},
   "outputs": [
    {
     "data": {
      "text/plain": [
       "<matplotlib.image.AxesImage at 0x24db7b00108>"
      ]
     },
     "execution_count": 7,
     "metadata": {},
     "output_type": "execute_result"
    },
    {
     "data": {
      "image/png": "[encoded data removed]",
      "text/plain": [
       "<Figure size 432x288 with 1 Axes>"
      ]
     },
     "metadata": {
      "needs_background": "light"
     },
     "output_type": "display_data"
    }
   ],
   "source": [
    "pyplot.imshow(x_train[100])"
   ]
  },
  {
   "cell_type": "code",
   "execution_count": 9,
   "metadata": {},
   "outputs": [
    {
     "data": {
      "text/plain": [
       "array([[6],\n",
       "       [9],\n",
       "       [9],\n",
       "       ...,\n",
       "       [9],\n",
       "       [1],\n",
       "       [1]], dtype=uint8)"
      ]
     },
     "execution_count": 9,
     "metadata": {},
     "output_type": "execute_result"
    }
   ],
   "source": [
    "y_train"
   ]
  },
  {
   "cell_type": "code",
   "execution_count": 15,
   "metadata": {},
   "outputs": [],
   "source": [
    "model = Sequential()"
   ]
  },
  {
   "cell_type": "code",
   "execution_count": 16,
   "metadata": {},
   "outputs": [],
   "source": [
    "model.add(Conv2D(32, (3,3), activation = 'relu', input_shape = (32,32,3)))\n",
    "model.add(MaxPooling2D(2,2))\n",
    "model.add(Flatten())\n",
    "model.add(Dense(10, activation = 'softmax'))"
   ]
  },
  {
   "cell_type": "code",
   "execution_count": 17,
   "metadata": {},
   "outputs": [],
   "source": [
    "model.compile(optimizer = 'adam', loss = 'categorical_crossentropy', metrics = ['accuracy'])"
   ]
  },
  {
   "cell_type": "code",
   "execution_count": 18,
   "metadata": {},
   "outputs": [],
   "source": [
    "x_train_norm = x_train/255"
   ]
  },
  {
   "cell_type": "code",
   "execution_count": 19,
   "metadata": {},
   "outputs": [],
   "source": [
    "x_test_norm = x_test/255"
   ]
  },
  {
   "cell_type": "code",
   "execution_count": 21,
   "metadata": {},
   "outputs": [],
   "source": [
    "y_train_cat = to_categorical(y_train)"
   ]
  },
  {
   "cell_type": "code",
   "execution_count": 22,
   "metadata": {},
   "outputs": [],
   "source": [
    "y_test_cat = to_categorical(y_test)"
   ]
  },
  {
   "cell_type": "code",
   "execution_count": 25,
   "metadata": {},
   "outputs": [
    {
     "name": "stdout",
     "output_type": "stream",
     "text": [
      "Train on 50000 samples, validate on 10000 samples\n",
      "Epoch 1/100\n",
      "50000/50000 [==============================] - 10s 210us/step - loss: 1.0085 - accuracy: 0.6537 - val_loss: 1.1052 - val_accuracy: 0.6208\n",
      "Epoch 2/100\n",
      "50000/50000 [==============================] - 12s 237us/step - loss: 0.9605 - accuracy: 0.6686 - val_loss: 1.1709 - val_accuracy: 0.5970\n",
      "Epoch 3/100\n",
      "50000/50000 [==============================] - 12s 247us/step - loss: 0.9282 - accuracy: 0.6812 - val_loss: 1.0709 - val_accuracy: 0.6356\n",
      "Epoch 4/100\n",
      "50000/50000 [==============================] - 12s 235us/step - loss: 0.8924 - accuracy: 0.6928 - val_loss: 1.0785 - val_accuracy: 0.6265\n",
      "Epoch 5/100\n",
      "50000/50000 [==============================] - 11s 223us/step - loss: 0.8666 - accuracy: 0.7033 - val_loss: 1.0531 - val_accuracy: 0.6343\n",
      "Epoch 6/100\n",
      "50000/50000 [==============================] - 11s 225us/step - loss: 0.8419 - accuracy: 0.7095 - val_loss: 1.0505 - val_accuracy: 0.6456\n",
      "Epoch 7/100\n",
      "50000/50000 [==============================] - 11s 223us/step - loss: 0.8192 - accuracy: 0.7178 - val_loss: 1.0623 - val_accuracy: 0.6440\n",
      "Epoch 8/100\n",
      "50000/50000 [==============================] - 11s 223us/step - loss: 0.7963 - accuracy: 0.7263 - val_loss: 1.0571 - val_accuracy: 0.6407\n",
      "Epoch 9/100\n",
      "50000/50000 [==============================] - 11s 223us/step - loss: 0.7801 - accuracy: 0.7310 - val_loss: 1.0376 - val_accuracy: 0.6490\n",
      "Epoch 10/100\n",
      "50000/50000 [==============================] - 12s 232us/step - loss: 0.7597 - accuracy: 0.7380 - val_loss: 1.0929 - val_accuracy: 0.6332\n",
      "Epoch 11/100\n",
      "50000/50000 [==============================] - 12s 235us/step - loss: 0.7485 - accuracy: 0.7433 - val_loss: 1.1034 - val_accuracy: 0.6332\n",
      "Epoch 12/100\n",
      "50000/50000 [==============================] - 11s 225us/step - loss: 0.7285 - accuracy: 0.7500 - val_loss: 1.0811 - val_accuracy: 0.6413\n",
      "Epoch 13/100\n",
      "50000/50000 [==============================] - 11s 229us/step - loss: 0.7134 - accuracy: 0.7541 - val_loss: 1.0833 - val_accuracy: 0.6401\n",
      "Epoch 14/100\n",
      "50000/50000 [==============================] - 11s 222us/step - loss: 0.6984 - accuracy: 0.7597 - val_loss: 1.1155 - val_accuracy: 0.6331\n",
      "Epoch 15/100\n",
      "50000/50000 [==============================] - 11s 227us/step - loss: 0.6883 - accuracy: 0.7622 - val_loss: 1.1066 - val_accuracy: 0.6383\n",
      "Epoch 16/100\n",
      "50000/50000 [==============================] - 12s 234us/step - loss: 0.6717 - accuracy: 0.7659 - val_loss: 1.1421 - val_accuracy: 0.6316\n",
      "Epoch 17/100\n",
      "50000/50000 [==============================] - 11s 227us/step - loss: 0.6591 - accuracy: 0.7732 - val_loss: 1.1339 - val_accuracy: 0.6359\n",
      "Epoch 18/100\n",
      "50000/50000 [==============================] - 11s 224us/step - loss: 0.6511 - accuracy: 0.7746 - val_loss: 1.1543 - val_accuracy: 0.6336\n",
      "Epoch 19/100\n",
      "50000/50000 [==============================] - 11s 223us/step - loss: 0.6391 - accuracy: 0.7790 - val_loss: 1.1692 - val_accuracy: 0.6309\n",
      "Epoch 20/100\n",
      "50000/50000 [==============================] - 11s 224us/step - loss: 0.6239 - accuracy: 0.7833 - val_loss: 1.1768 - val_accuracy: 0.6288\n",
      "Epoch 21/100\n",
      "50000/50000 [==============================] - 12s 241us/step - loss: 0.6168 - accuracy: 0.7865 - val_loss: 1.1794 - val_accuracy: 0.6359\n",
      "Epoch 22/100\n",
      "50000/50000 [==============================] - 11s 227us/step - loss: 0.6035 - accuracy: 0.7910 - val_loss: 1.1949 - val_accuracy: 0.6313\n",
      "Epoch 23/100\n",
      "50000/50000 [==============================] - 11s 223us/step - loss: 0.5950 - accuracy: 0.7937 - val_loss: 1.2264 - val_accuracy: 0.6267\n",
      "Epoch 24/100\n",
      "50000/50000 [==============================] - 11s 223us/step - loss: 0.5875 - accuracy: 0.7969 - val_loss: 1.2345 - val_accuracy: 0.6232\n",
      "Epoch 25/100\n",
      "50000/50000 [==============================] - 11s 225us/step - loss: 0.5776 - accuracy: 0.7997 - val_loss: 1.2215 - val_accuracy: 0.6318\n",
      "Epoch 26/100\n",
      "50000/50000 [==============================] - 11s 224us/step - loss: 0.5663 - accuracy: 0.8045 - val_loss: 1.2427 - val_accuracy: 0.6338\n",
      "Epoch 27/100\n",
      "50000/50000 [==============================] - 11s 225us/step - loss: 0.5613 - accuracy: 0.8032 - val_loss: 1.2633 - val_accuracy: 0.6271\n",
      "Epoch 28/100\n",
      "50000/50000 [==============================] - 11s 223us/step - loss: 0.5504 - accuracy: 0.8079 - val_loss: 1.2953 - val_accuracy: 0.6211\n",
      "Epoch 29/100\n",
      "50000/50000 [==============================] - 11s 226us/step - loss: 0.5411 - accuracy: 0.8125 - val_loss: 1.2872 - val_accuracy: 0.6259\n",
      "Epoch 30/100\n",
      "50000/50000 [==============================] - 11s 228us/step - loss: 0.5336 - accuracy: 0.8134 - val_loss: 1.3091 - val_accuracy: 0.6250\n",
      "Epoch 31/100\n",
      "50000/50000 [==============================] - 12s 232us/step - loss: 0.5268 - accuracy: 0.8163 - val_loss: 1.3413 - val_accuracy: 0.6161\n",
      "Epoch 32/100\n",
      "50000/50000 [==============================] - 12s 236us/step - loss: 0.5186 - accuracy: 0.8190 - val_loss: 1.3341 - val_accuracy: 0.6206\n",
      "Epoch 33/100\n",
      "50000/50000 [==============================] - 11s 223us/step - loss: 0.5070 - accuracy: 0.8237 - val_loss: 1.3383 - val_accuracy: 0.6286\n",
      "Epoch 34/100\n",
      "50000/50000 [==============================] - 11s 224us/step - loss: 0.5061 - accuracy: 0.8222 - val_loss: 1.3614 - val_accuracy: 0.6185\n",
      "Epoch 35/100\n",
      "50000/50000 [==============================] - 11s 224us/step - loss: 0.4932 - accuracy: 0.8295 - val_loss: 1.3648 - val_accuracy: 0.6226\n",
      "Epoch 36/100\n",
      "50000/50000 [==============================] - 11s 225us/step - loss: 0.4877 - accuracy: 0.8294 - val_loss: 1.4227 - val_accuracy: 0.6138\n",
      "Epoch 37/100\n",
      "50000/50000 [==============================] - 11s 228us/step - loss: 0.4879 - accuracy: 0.8319 - val_loss: 1.4036 - val_accuracy: 0.6149\n",
      "Epoch 38/100\n",
      "50000/50000 [==============================] - 11s 222us/step - loss: 0.4771 - accuracy: 0.8327 - val_loss: 1.4232 - val_accuracy: 0.6105\n",
      "Epoch 39/100\n",
      "50000/50000 [==============================] - 11s 224us/step - loss: 0.4713 - accuracy: 0.8364 - val_loss: 1.4312 - val_accuracy: 0.6130\n",
      "Epoch 40/100\n",
      "50000/50000 [==============================] - 11s 225us/step - loss: 0.4656 - accuracy: 0.8373 - val_loss: 1.4574 - val_accuracy: 0.6172\n",
      "Epoch 41/100\n",
      "50000/50000 [==============================] - 11s 223us/step - loss: 0.4601 - accuracy: 0.8386 - val_loss: 1.5371 - val_accuracy: 0.6037\n",
      "Epoch 42/100\n",
      "50000/50000 [==============================] - 13s 252us/step - loss: 0.4559 - accuracy: 0.8407 - val_loss: 1.5185 - val_accuracy: 0.6112\n",
      "Epoch 43/100\n",
      "50000/50000 [==============================] - 12s 232us/step - loss: 0.4431 - accuracy: 0.8438 - val_loss: 1.5104 - val_accuracy: 0.6149\n",
      "Epoch 44/100\n",
      "50000/50000 [==============================] - 11s 226us/step - loss: 0.4409 - accuracy: 0.8466 - val_loss: 1.5548 - val_accuracy: 0.6104\n",
      "Epoch 45/100\n",
      "50000/50000 [==============================] - 11s 225us/step - loss: 0.4373 - accuracy: 0.8461 - val_loss: 1.5508 - val_accuracy: 0.6086\n",
      "Epoch 46/100\n",
      "50000/50000 [==============================] - 12s 232us/step - loss: 0.4307 - accuracy: 0.8480 - val_loss: 1.5654 - val_accuracy: 0.6094\n",
      "Epoch 47/100\n",
      "50000/50000 [==============================] - 11s 224us/step - loss: 0.4235 - accuracy: 0.8532 - val_loss: 1.5535 - val_accuracy: 0.6112\n",
      "Epoch 48/100\n",
      "50000/50000 [==============================] - 11s 224us/step - loss: 0.4207 - accuracy: 0.8515 - val_loss: 1.6307 - val_accuracy: 0.6069\n",
      "Epoch 49/100\n",
      "50000/50000 [==============================] - 11s 224us/step - loss: 0.4118 - accuracy: 0.8573 - val_loss: 1.6489 - val_accuracy: 0.6024\n",
      "Epoch 50/100\n",
      "50000/50000 [==============================] - 11s 223us/step - loss: 0.4109 - accuracy: 0.8546 - val_loss: 1.6149 - val_accuracy: 0.6039\n",
      "Epoch 51/100\n",
      "50000/50000 [==============================] - 11s 224us/step - loss: 0.4020 - accuracy: 0.8583 - val_loss: 1.6584 - val_accuracy: 0.5945\n",
      "Epoch 52/100\n",
      "50000/50000 [==============================] - 11s 229us/step - loss: 0.4001 - accuracy: 0.8598 - val_loss: 1.7386 - val_accuracy: 0.5996\n",
      "Epoch 53/100\n",
      "50000/50000 [==============================] - 12s 247us/step - loss: 0.3942 - accuracy: 0.8623 - val_loss: 1.6828 - val_accuracy: 0.5986\n",
      "Epoch 54/100\n",
      "50000/50000 [==============================] - 12s 237us/step - loss: 0.3886 - accuracy: 0.8643 - val_loss: 1.6895 - val_accuracy: 0.6032\n"
     ]
    },
    {
     "name": "stdout",
     "output_type": "stream",
     "text": [
      "Epoch 55/100\n",
      "50000/50000 [==============================] - 11s 227us/step - loss: 0.3903 - accuracy: 0.8630 - val_loss: 1.7063 - val_accuracy: 0.6047\n",
      "Epoch 56/100\n",
      "50000/50000 [==============================] - 12s 232us/step - loss: 0.3791 - accuracy: 0.8667 - val_loss: 1.7369 - val_accuracy: 0.6017\n",
      "Epoch 57/100\n",
      "50000/50000 [==============================] - 12s 233us/step - loss: 0.3728 - accuracy: 0.8706 - val_loss: 1.7782 - val_accuracy: 0.5978\n",
      "Epoch 58/100\n",
      "50000/50000 [==============================] - 12s 234us/step - loss: 0.3761 - accuracy: 0.8683 - val_loss: 1.7476 - val_accuracy: 0.5994\n",
      "Epoch 59/100\n",
      "50000/50000 [==============================] - 11s 227us/step - loss: 0.3702 - accuracy: 0.8717 - val_loss: 1.7674 - val_accuracy: 0.5977\n",
      "Epoch 60/100\n",
      "50000/50000 [==============================] - 11s 227us/step - loss: 0.3602 - accuracy: 0.8752 - val_loss: 1.7745 - val_accuracy: 0.5995\n",
      "Epoch 61/100\n",
      "50000/50000 [==============================] - 11s 227us/step - loss: 0.3612 - accuracy: 0.8731 - val_loss: 1.8177 - val_accuracy: 0.6037\n",
      "Epoch 62/100\n",
      "50000/50000 [==============================] - 11s 224us/step - loss: 0.3577 - accuracy: 0.8733 - val_loss: 1.8131 - val_accuracy: 0.5994\n",
      "Epoch 63/100\n",
      "50000/50000 [==============================] - 12s 241us/step - loss: 0.3547 - accuracy: 0.8753 - val_loss: 1.8534 - val_accuracy: 0.5929\n",
      "Epoch 64/100\n",
      "50000/50000 [==============================] - 12s 232us/step - loss: 0.3494 - accuracy: 0.8780 - val_loss: 1.8883 - val_accuracy: 0.5871\n",
      "Epoch 65/100\n",
      "50000/50000 [==============================] - 13s 267us/step - loss: 0.3435 - accuracy: 0.8788 - val_loss: 1.8735 - val_accuracy: 0.5935\n",
      "Epoch 66/100\n",
      "50000/50000 [==============================] - 14s 270us/step - loss: 0.3412 - accuracy: 0.8790 - val_loss: 1.8808 - val_accuracy: 0.5979\n",
      "Epoch 67/100\n",
      "50000/50000 [==============================] - 12s 249us/step - loss: 0.3374 - accuracy: 0.8834 - val_loss: 1.9198 - val_accuracy: 0.5960\n",
      "Epoch 68/100\n",
      "50000/50000 [==============================] - 12s 236us/step - loss: 0.3321 - accuracy: 0.8834 - val_loss: 1.9235 - val_accuracy: 0.5947\n",
      "Epoch 69/100\n",
      "50000/50000 [==============================] - 12s 234us/step - loss: 0.3291 - accuracy: 0.8843 - val_loss: 1.9383 - val_accuracy: 0.5945\n",
      "Epoch 70/100\n",
      "50000/50000 [==============================] - 12s 233us/step - loss: 0.3225 - accuracy: 0.8861 - val_loss: 2.0016 - val_accuracy: 0.5873\n",
      "Epoch 71/100\n",
      "50000/50000 [==============================] - 12s 232us/step - loss: 0.3237 - accuracy: 0.8865 - val_loss: 2.0111 - val_accuracy: 0.5873\n",
      "Epoch 72/100\n",
      "50000/50000 [==============================] - 12s 233us/step - loss: 0.3200 - accuracy: 0.8857 - val_loss: 2.0114 - val_accuracy: 0.5940\n",
      "Epoch 73/100\n",
      "50000/50000 [==============================] - 12s 243us/step - loss: 0.3169 - accuracy: 0.8883 - val_loss: 2.0709 - val_accuracy: 0.5890\n",
      "Epoch 74/100\n",
      "50000/50000 [==============================] - 11s 227us/step - loss: 0.3126 - accuracy: 0.8893 - val_loss: 2.0403 - val_accuracy: 0.5955\n",
      "Epoch 75/100\n",
      "50000/50000 [==============================] - 11s 225us/step - loss: 0.3072 - accuracy: 0.8907 - val_loss: 2.0818 - val_accuracy: 0.5881\n",
      "Epoch 76/100\n",
      "50000/50000 [==============================] - 11s 226us/step - loss: 0.3080 - accuracy: 0.8897 - val_loss: 2.1088 - val_accuracy: 0.5936\n",
      "Epoch 77/100\n",
      "50000/50000 [==============================] - 11s 223us/step - loss: 0.3030 - accuracy: 0.8941 - val_loss: 2.1229 - val_accuracy: 0.5889\n",
      "Epoch 78/100\n",
      "50000/50000 [==============================] - 11s 224us/step - loss: 0.2978 - accuracy: 0.8957 - val_loss: 2.2523 - val_accuracy: 0.5795\n",
      "Epoch 79/100\n",
      "50000/50000 [==============================] - 11s 223us/step - loss: 0.2981 - accuracy: 0.8953 - val_loss: 2.2013 - val_accuracy: 0.5790\n",
      "Epoch 80/100\n",
      "50000/50000 [==============================] - 11s 223us/step - loss: 0.2920 - accuracy: 0.8970 - val_loss: 2.1655 - val_accuracy: 0.5909\n",
      "Epoch 81/100\n",
      "50000/50000 [==============================] - 11s 223us/step - loss: 0.2893 - accuracy: 0.8996 - val_loss: 2.1727 - val_accuracy: 0.5858\n",
      "Epoch 82/100\n",
      "50000/50000 [==============================] - 11s 223us/step - loss: 0.2896 - accuracy: 0.8968 - val_loss: 2.2115 - val_accuracy: 0.5896\n",
      "Epoch 83/100\n",
      "50000/50000 [==============================] - 12s 230us/step - loss: 0.2871 - accuracy: 0.8987 - val_loss: 2.2241 - val_accuracy: 0.5898\n",
      "Epoch 84/100\n",
      "50000/50000 [==============================] - 12s 232us/step - loss: 0.2816 - accuracy: 0.9017 - val_loss: 2.2351 - val_accuracy: 0.5899\n",
      "Epoch 85/100\n",
      "50000/50000 [==============================] - 11s 226us/step - loss: 0.2812 - accuracy: 0.9002 - val_loss: 2.2908 - val_accuracy: 0.5889\n",
      "Epoch 86/100\n",
      "50000/50000 [==============================] - 11s 222us/step - loss: 0.2780 - accuracy: 0.9015 - val_loss: 2.2698 - val_accuracy: 0.5876\n",
      "Epoch 87/100\n",
      "50000/50000 [==============================] - 11s 224us/step - loss: 0.2750 - accuracy: 0.9048 - val_loss: 2.2930 - val_accuracy: 0.5850\n",
      "Epoch 88/100\n",
      "50000/50000 [==============================] - 11s 224us/step - loss: 0.2682 - accuracy: 0.9063 - val_loss: 2.3735 - val_accuracy: 0.5763\n",
      "Epoch 89/100\n",
      "50000/50000 [==============================] - 11s 225us/step - loss: 0.2682 - accuracy: 0.9058 - val_loss: 2.3515 - val_accuracy: 0.5842\n",
      "Epoch 90/100\n",
      "50000/50000 [==============================] - 11s 224us/step - loss: 0.2691 - accuracy: 0.9044 - val_loss: 2.3630 - val_accuracy: 0.5806\n",
      "Epoch 91/100\n",
      "50000/50000 [==============================] - 11s 225us/step - loss: 0.2601 - accuracy: 0.9100 - val_loss: 2.4043 - val_accuracy: 0.5835\n",
      "Epoch 92/100\n",
      "50000/50000 [==============================] - 11s 226us/step - loss: 0.2637 - accuracy: 0.9062 - val_loss: 2.4522 - val_accuracy: 0.5844\n",
      "Epoch 93/100\n",
      "50000/50000 [==============================] - 11s 225us/step - loss: 0.2581 - accuracy: 0.9090 - val_loss: 2.4464 - val_accuracy: 0.5837\n",
      "Epoch 94/100\n",
      "50000/50000 [==============================] - 12s 236us/step - loss: 0.2570 - accuracy: 0.9106 - val_loss: 2.4339 - val_accuracy: 0.5889\n",
      "Epoch 95/100\n",
      "50000/50000 [==============================] - 11s 229us/step - loss: 0.2567 - accuracy: 0.9092 - val_loss: 2.5090 - val_accuracy: 0.5782\n",
      "Epoch 96/100\n",
      "50000/50000 [==============================] - 11s 224us/step - loss: 0.2499 - accuracy: 0.9126 - val_loss: 2.4717 - val_accuracy: 0.5832\n",
      "Epoch 97/100\n",
      "50000/50000 [==============================] - 11s 224us/step - loss: 0.2498 - accuracy: 0.9123 - val_loss: 2.5101 - val_accuracy: 0.5832\n",
      "Epoch 98/100\n",
      "50000/50000 [==============================] - 11s 225us/step - loss: 0.2463 - accuracy: 0.9132 - val_loss: 2.5245 - val_accuracy: 0.5846\n",
      "Epoch 99/100\n",
      "50000/50000 [==============================] - 11s 225us/step - loss: 0.2492 - accuracy: 0.9126 - val_loss: 2.5801 - val_accuracy: 0.5800\n",
      "Epoch 100/100\n",
      "50000/50000 [==============================] - 11s 226us/step - loss: 0.2383 - accuracy: 0.9173 - val_loss: 2.5724 - val_accuracy: 0.5799\n"
     ]
    }
   ],
   "source": [
    "model_report = model.fit(x_train_norm, y_train_cat, epochs = 100, validation_data = (x_test_norm, y_test_cat))"
   ]
  },
  {
   "cell_type": "code",
   "execution_count": null,
   "metadata": {},
   "outputs": [],
   "source": []
  },
  {
   "cell_type": "code",
   "execution_count": null,
   "metadata": {},
   "outputs": [],
   "source": []
  },
  {
   "cell_type": "code",
   "execution_count": null,
   "metadata": {},
   "outputs": [],
   "source": []
  },
  {
   "cell_type": "code",
   "execution_count": null,
   "metadata": {},
   "outputs": [],
   "source": []
  },
  {
   "cell_type": "code",
   "execution_count": null,
   "metadata": {},
   "outputs": [],
   "source": []
  },
  {
   "cell_type": "code",
   "execution_count": null,
   "metadata": {},
   "outputs": [],
   "source": []
  },
  {
   "cell_type": "code",
   "execution_count": null,
   "metadata": {},
   "outputs": [],
   "source": []
  }
 ],
 "metadata": {
  "kernelspec": {
   "display_name": "Python 3",
   "language": "python",
   "name": "python3"
  },
  "language_info": {
   "codemirror_mode": {
    "name": "ipython",
    "version": 3
   },
   "file_extension": ".py",
   "mimetype": "text/x-python",
   "name": "python",
   "nbconvert_exporter": "python",
   "pygments_lexer": "ipython3",
   "version": "3.7.4"
  }
 },
 "nbformat": 4,
 "nbformat_minor": 2
}
