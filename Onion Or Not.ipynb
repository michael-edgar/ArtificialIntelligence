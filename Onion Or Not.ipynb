{
 "cells": [
  {
   "cell_type": "markdown",
   "metadata": {},
   "source": [
    "# Based on notebook found here: \n",
    "https://www.kaggle.com/salmanhiro/onn-onion-neural-network-with-lstm-85-accuracy"
   ]
  },
  {
   "cell_type": "markdown",
   "metadata": {},
   "source": [
    "## Note: both pydot and graphviz are required to run this notebook successfully"
   ]
  },
  {
   "cell_type": "code",
   "execution_count": 1,
   "metadata": {},
   "outputs": [
    {
     "name": "stderr",
     "output_type": "stream",
     "text": [
      "Using TensorFlow backend.\n"
     ]
    }
   ],
   "source": [
    "import numpy as np #linear algebra\n",
    "import pandas as pd #data processing, CSV file I/O\n",
    "import os\n",
    "import matplotlib.pyplot as plt\n",
    "import re\n",
    "from keras.preprocessing.text import Tokenizer\n",
    "from keras.preprocessing import sequence\n",
    "from sklearn.model_selection import train_test_split\n",
    "import nltk\n",
    "from keras.models import Sequential\n",
    "from keras.layers import Input, Dense, LSTM, Dropout, Flatten, Embedding, Bidirectional, GlobalMaxPool1D\n",
    "from keras.models import Model\n",
    "from keras.utils import plot_model\n",
    "import matplotlib.image as mpimg\n",
    "from keras.callbacks import EarlyStopping, ModelCheckpoint\n",
    "\n",
    "#required to use keras.utils plot_model\n",
    "import pydot as pyd"
   ]
  },
  {
   "cell_type": "code",
   "execution_count": 2,
   "metadata": {},
   "outputs": [
    {
     "name": "stdout",
     "output_type": "stream",
     "text": [
      "/OneDrive/Documents/GitHub/ArtificialIntelligence/.gitignore\n",
      "/OneDrive/Documents/GitHub/ArtificialIntelligence/.library.json\n",
      "/OneDrive/Documents/GitHub/ArtificialIntelligence/Assignment 1 Genetic Algorithm  Due Friday 14th Feb.docx\n",
      "/OneDrive/Documents/GitHub/ArtificialIntelligence/banana.jpg\n",
      "/OneDrive/Documents/GitHub/ArtificialIntelligence/CIFAR.ipynb\n",
      "/OneDrive/Documents/GitHub/ArtificialIntelligence/faster_rcnn.ipynb\n",
      "/OneDrive/Documents/GitHub/ArtificialIntelligence/Genetic Algorithm Changed.ipynb\n",
      "/OneDrive/Documents/GitHub/ArtificialIntelligence/Genetic Algorithm Template.ipynb\n",
      "/OneDrive/Documents/GitHub/ArtificialIntelligence/Links.txt\n",
      "/OneDrive/Documents/GitHub/ArtificialIntelligence/Machine Learning.ipynb\n",
      "/OneDrive/Documents/GitHub/ArtificialIntelligence/MNIST.ipynb\n",
      "/OneDrive/Documents/GitHub/ArtificialIntelligence/NewOnionOrNot.csv\n",
      "/OneDrive/Documents/GitHub/ArtificialIntelligence/Onion Or Not.ipynb\n",
      "/OneDrive/Documents/GitHub/ArtificialIntelligence/onion.png\n",
      "/OneDrive/Documents/GitHub/ArtificialIntelligence/OnionOrNot.csv\n",
      "/OneDrive/Documents/GitHub/ArtificialIntelligence/README.md\n",
      "/OneDrive/Documents/GitHub/ArtificialIntelligence/save.hd5\n",
      "/OneDrive/Documents/GitHub/ArtificialIntelligence/Search Tree Connect Four.ipynb\n",
      "/OneDrive/Documents/GitHub/ArtificialIntelligence/Search Tree Tic Tac Toe.ipynb\n",
      "/OneDrive/Documents/GitHub/ArtificialIntelligence/.git\\COMMIT_EDITMSG\n",
      "/OneDrive/Documents/GitHub/ArtificialIntelligence/.git\\config\n",
      "/OneDrive/Documents/GitHub/ArtificialIntelligence/.git\\description\n",
      "/OneDrive/Documents/GitHub/ArtificialIntelligence/.git\\FETCH_HEAD\n",
      "/OneDrive/Documents/GitHub/ArtificialIntelligence/.git\\HEAD\n",
      "/OneDrive/Documents/GitHub/ArtificialIntelligence/.git\\index\n",
      "/OneDrive/Documents/GitHub/ArtificialIntelligence/.git\\ORIG_HEAD\n",
      "/OneDrive/Documents/GitHub/ArtificialIntelligence/.git\\packed-refs\n",
      "/OneDrive/Documents/GitHub/ArtificialIntelligence/.git\\hooks\\applypatch-msg.sample\n",
      "/OneDrive/Documents/GitHub/ArtificialIntelligence/.git\\hooks\\commit-msg.sample\n",
      "/OneDrive/Documents/GitHub/ArtificialIntelligence/.git\\hooks\\fsmonitor-watchman.sample\n",
      "/OneDrive/Documents/GitHub/ArtificialIntelligence/.git\\hooks\\post-update.sample\n",
      "/OneDrive/Documents/GitHub/ArtificialIntelligence/.git\\hooks\\pre-applypatch.sample\n",
      "/OneDrive/Documents/GitHub/ArtificialIntelligence/.git\\hooks\\pre-commit.sample\n",
      "/OneDrive/Documents/GitHub/ArtificialIntelligence/.git\\hooks\\pre-push.sample\n",
      "/OneDrive/Documents/GitHub/ArtificialIntelligence/.git\\hooks\\pre-rebase.sample\n",
      "/OneDrive/Documents/GitHub/ArtificialIntelligence/.git\\hooks\\pre-receive.sample\n",
      "/OneDrive/Documents/GitHub/ArtificialIntelligence/.git\\hooks\\prepare-commit-msg.sample\n",
      "/OneDrive/Documents/GitHub/ArtificialIntelligence/.git\\hooks\\update.sample\n",
      "/OneDrive/Documents/GitHub/ArtificialIntelligence/.git\\info\\exclude\n",
      "/OneDrive/Documents/GitHub/ArtificialIntelligence/.git\\logs\\HEAD\n",
      "/OneDrive/Documents/GitHub/ArtificialIntelligence/.git\\logs\\refs\\heads\\master\n",
      "/OneDrive/Documents/GitHub/ArtificialIntelligence/.git\\logs\\refs\\remotes\\origin\\HEAD\n",
      "/OneDrive/Documents/GitHub/ArtificialIntelligence/.git\\logs\\refs\\remotes\\origin\\master\n",
      "/OneDrive/Documents/GitHub/ArtificialIntelligence/.git\\objects\\12\\44093a41a86ba9bc1962135c456c5ab1fd5e5c\n",
      "/OneDrive/Documents/GitHub/ArtificialIntelligence/.git\\objects\\1e\\4ba9aab165cc752591628d2238091764ef3d4f\n",
      "/OneDrive/Documents/GitHub/ArtificialIntelligence/.git\\objects\\1f\\79ca8ffd8ee7921695fe6d9f38b1935944a614\n",
      "/OneDrive/Documents/GitHub/ArtificialIntelligence/.git\\objects\\26\\4213034695e16f7cab0c94084f3fd50f7c2a97\n",
      "/OneDrive/Documents/GitHub/ArtificialIntelligence/.git\\objects\\2b\\5190bad0b3abf2fcef6e12beed96c4b1b16495\n",
      "/OneDrive/Documents/GitHub/ArtificialIntelligence/.git\\objects\\39\\b904afcaa6c009f969f8663dc894080c86f5e3\n",
      "/OneDrive/Documents/GitHub/ArtificialIntelligence/.git\\objects\\3b\\d3815f50d259459eca1e0f827c304cae4f6b47\n",
      "/OneDrive/Documents/GitHub/ArtificialIntelligence/.git\\objects\\3e\\c21fa18f4dc9872313b042ab03379535df03a5\n",
      "/OneDrive/Documents/GitHub/ArtificialIntelligence/.git\\objects\\47\\240acf29cbe4fa065416dd3e2ee38d2160746e\n",
      "/OneDrive/Documents/GitHub/ArtificialIntelligence/.git\\objects\\48\\f7e024accd4169fbd7abd41687899c29e17b66\n",
      "/OneDrive/Documents/GitHub/ArtificialIntelligence/.git\\objects\\4e\\d81cd8482e0c0a8f59644559a8b83b8438fbeb\n",
      "/OneDrive/Documents/GitHub/ArtificialIntelligence/.git\\objects\\50\\6c9aac9e8738583f9f30c510ee684cd4309e3b\n",
      "/OneDrive/Documents/GitHub/ArtificialIntelligence/.git\\objects\\61\\e6585fb3b1fe4d3342a91f686b9ff4ff03d63b\n",
      "/OneDrive/Documents/GitHub/ArtificialIntelligence/.git\\objects\\69\\ae2f47d282d768b9403fa9c7b353211edc605f\n",
      "/OneDrive/Documents/GitHub/ArtificialIntelligence/.git\\objects\\6d\\ce3152974da913eb31c83affcf5108c5f5d41c\n",
      "/OneDrive/Documents/GitHub/ArtificialIntelligence/.git\\objects\\7e\\cd1d41c6162e69bbc65b1e0908ff3637513cfb\n",
      "/OneDrive/Documents/GitHub/ArtificialIntelligence/.git\\objects\\83\\202f79fe649461921efaf916e7f0496c152902\n",
      "/OneDrive/Documents/GitHub/ArtificialIntelligence/.git\\objects\\87\\6f1ab76faa23bed2c84f70f6b0f46f00f71b88\n",
      "/OneDrive/Documents/GitHub/ArtificialIntelligence/.git\\objects\\9d\\92d1319bef516e2c342a7ac1451193cdd978fa\n",
      "/OneDrive/Documents/GitHub/ArtificialIntelligence/.git\\objects\\a5\\c98839ef50b4fe58efa2d6916a877f47580b6f\n",
      "/OneDrive/Documents/GitHub/ArtificialIntelligence/.git\\objects\\ad\\fc3c5f0f3c71922cdfcc682ab6826b156c0690\n",
      "/OneDrive/Documents/GitHub/ArtificialIntelligence/.git\\objects\\b3\\54ee365b04657e2bec5c7bab4e19aad804b863\n",
      "/OneDrive/Documents/GitHub/ArtificialIntelligence/.git\\objects\\b6\\e47617de110dea7ca47e087ff1347cc2646eda\n",
      "/OneDrive/Documents/GitHub/ArtificialIntelligence/.git\\objects\\bc\\0b0abd848d6dbe50cb6fb71cb53c5e669394d0\n",
      "/OneDrive/Documents/GitHub/ArtificialIntelligence/.git\\objects\\d2\\060b20802d051c50e843fba689c999726cbfdf\n",
      "/OneDrive/Documents/GitHub/ArtificialIntelligence/.git\\objects\\d8\\f015905ac7b8135c7b8dba98f4067cfce0e1a5\n",
      "/OneDrive/Documents/GitHub/ArtificialIntelligence/.git\\objects\\db\\53d32d0c37b611999610fba689fadc7d90b3c9\n",
      "/OneDrive/Documents/GitHub/ArtificialIntelligence/.git\\objects\\e6\\9de29bb2d1d6434b8b29ae775ad8c2e48c5391\n",
      "/OneDrive/Documents/GitHub/ArtificialIntelligence/.git\\objects\\pack\\pack-09f359f35879a92889e0f94395e16286dfcb3844.idx\n",
      "/OneDrive/Documents/GitHub/ArtificialIntelligence/.git\\objects\\pack\\pack-09f359f35879a92889e0f94395e16286dfcb3844.pack\n",
      "/OneDrive/Documents/GitHub/ArtificialIntelligence/.git\\objects\\pack\\pack-4f3105f939c729ad410f735897529337ec2cfe41.idx\n",
      "/OneDrive/Documents/GitHub/ArtificialIntelligence/.git\\objects\\pack\\pack-4f3105f939c729ad410f735897529337ec2cfe41.pack\n",
      "/OneDrive/Documents/GitHub/ArtificialIntelligence/.git\\refs\\heads\\master\n",
      "/OneDrive/Documents/GitHub/ArtificialIntelligence/.git\\refs\\remotes\\origin\\HEAD\n",
      "/OneDrive/Documents/GitHub/ArtificialIntelligence/.git\\refs\\remotes\\origin\\master\n",
      "/OneDrive/Documents/GitHub/ArtificialIntelligence/.ipynb_checkpoints\\CIFAR-checkpoint.ipynb\n",
      "/OneDrive/Documents/GitHub/ArtificialIntelligence/.ipynb_checkpoints\\faster_rcnn-checkpoint.ipynb\n",
      "/OneDrive/Documents/GitHub/ArtificialIntelligence/.ipynb_checkpoints\\Genetic Algorithm Changed-checkpoint.ipynb\n",
      "/OneDrive/Documents/GitHub/ArtificialIntelligence/.ipynb_checkpoints\\Genetic Algorithm Template-checkpoint.ipynb\n",
      "/OneDrive/Documents/GitHub/ArtificialIntelligence/.ipynb_checkpoints\\Machine Learning-checkpoint.ipynb\n",
      "/OneDrive/Documents/GitHub/ArtificialIntelligence/.ipynb_checkpoints\\MNIST-checkpoint.ipynb\n",
      "/OneDrive/Documents/GitHub/ArtificialIntelligence/.ipynb_checkpoints\\Onion Or Not-checkpoint.ipynb\n",
      "/OneDrive/Documents/GitHub/ArtificialIntelligence/.ipynb_checkpoints\\Search Tree Connect Four-checkpoint.ipynb\n",
      "/OneDrive/Documents/GitHub/ArtificialIntelligence/.ipynb_checkpoints\\Search Tree Tic Tac Toe-checkpoint.ipynb\n"
     ]
    }
   ],
   "source": [
    "for dirname, _, filenames in os.walk('/OneDrive/Documents/GitHub/ArtificialIntelligence/'):\n",
    "    for filename in filenames:\n",
    "        print(os.path.join(dirname, filename))"
   ]
  },
  {
   "cell_type": "code",
   "execution_count": 3,
   "metadata": {},
   "outputs": [],
   "source": [
    "data = pd.read_csv('/OneDrive/Documents/GitHub/ArtificialIntelligence/OnionOrNot.csv')"
   ]
  },
  {
   "cell_type": "code",
   "execution_count": 4,
   "metadata": {},
   "outputs": [
    {
     "data": {
      "text/plain": [
       "(24000, 2)"
      ]
     },
     "execution_count": 4,
     "metadata": {},
     "output_type": "execute_result"
    }
   ],
   "source": [
    "data.shape"
   ]
  },
  {
   "cell_type": "code",
   "execution_count": 5,
   "metadata": {},
   "outputs": [
    {
     "data": {
      "text/html": [
       "<div>\n",
       "<style scoped>\n",
       "    .dataframe tbody tr th:only-of-type {\n",
       "        vertical-align: middle;\n",
       "    }\n",
       "\n",
       "    .dataframe tbody tr th {\n",
       "        vertical-align: top;\n",
       "    }\n",
       "\n",
       "    .dataframe thead th {\n",
       "        text-align: right;\n",
       "    }\n",
       "</style>\n",
       "<table border=\"1\" class=\"dataframe\">\n",
       "  <thead>\n",
       "    <tr style=\"text-align: right;\">\n",
       "      <th></th>\n",
       "      <th>text</th>\n",
       "      <th>label</th>\n",
       "    </tr>\n",
       "  </thead>\n",
       "  <tbody>\n",
       "    <tr>\n",
       "      <td>0</td>\n",
       "      <td>Entire Facebook Staff Laughs As Man Tightens P...</td>\n",
       "      <td>1</td>\n",
       "    </tr>\n",
       "    <tr>\n",
       "      <td>1</td>\n",
       "      <td>Muslim Woman Denied Soda Can for Fear She Coul...</td>\n",
       "      <td>0</td>\n",
       "    </tr>\n",
       "    <tr>\n",
       "      <td>2</td>\n",
       "      <td>Bold Move: Hulu Has Announced That They’re Gon...</td>\n",
       "      <td>1</td>\n",
       "    </tr>\n",
       "    <tr>\n",
       "      <td>3</td>\n",
       "      <td>Despondent Jeff Bezos Realizes He’ll Have To W...</td>\n",
       "      <td>1</td>\n",
       "    </tr>\n",
       "    <tr>\n",
       "      <td>4</td>\n",
       "      <td>For men looking for great single women, online...</td>\n",
       "      <td>1</td>\n",
       "    </tr>\n",
       "    <tr>\n",
       "      <td>5</td>\n",
       "      <td>Kim Jong-Un Wonders If Nuclear Threats Distrac...</td>\n",
       "      <td>1</td>\n",
       "    </tr>\n",
       "    <tr>\n",
       "      <td>6</td>\n",
       "      <td>Omaha dad finds pot brownies, eats 4 of them, ...</td>\n",
       "      <td>0</td>\n",
       "    </tr>\n",
       "    <tr>\n",
       "      <td>7</td>\n",
       "      <td>Pokémon Go player stabbed, keeps playing</td>\n",
       "      <td>0</td>\n",
       "    </tr>\n",
       "    <tr>\n",
       "      <td>8</td>\n",
       "      <td>Job Placement Service Helps Students Who Fail ...</td>\n",
       "      <td>1</td>\n",
       "    </tr>\n",
       "    <tr>\n",
       "      <td>9</td>\n",
       "      <td>Idiot Zoo Animal With Zero Predators Still Pro...</td>\n",
       "      <td>1</td>\n",
       "    </tr>\n",
       "  </tbody>\n",
       "</table>\n",
       "</div>"
      ],
      "text/plain": [
       "                                                text  label\n",
       "0  Entire Facebook Staff Laughs As Man Tightens P...      1\n",
       "1  Muslim Woman Denied Soda Can for Fear She Coul...      0\n",
       "2  Bold Move: Hulu Has Announced That They’re Gon...      1\n",
       "3  Despondent Jeff Bezos Realizes He’ll Have To W...      1\n",
       "4  For men looking for great single women, online...      1\n",
       "5  Kim Jong-Un Wonders If Nuclear Threats Distrac...      1\n",
       "6  Omaha dad finds pot brownies, eats 4 of them, ...      0\n",
       "7           Pokémon Go player stabbed, keeps playing      0\n",
       "8  Job Placement Service Helps Students Who Fail ...      1\n",
       "9  Idiot Zoo Animal With Zero Predators Still Pro...      1"
      ]
     },
     "execution_count": 5,
     "metadata": {},
     "output_type": "execute_result"
    }
   ],
   "source": [
    "data.head(10)"
   ]
  },
  {
   "cell_type": "code",
   "execution_count": 6,
   "metadata": {},
   "outputs": [
    {
     "data": {
      "text/plain": [
       "'Euclid man accused of egging neighbor’s house more than 100 times'"
      ]
     },
     "metadata": {},
     "output_type": "display_data"
    }
   ],
   "source": [
    "display(data['text'][100])"
   ]
  },
  {
   "cell_type": "code",
   "execution_count": 7,
   "metadata": {},
   "outputs": [],
   "source": [
    "#labels = ['Onion','r/NotTheOnion']\n",
    "labels = [1, 0]"
   ]
  },
  {
   "cell_type": "code",
   "execution_count": 8,
   "metadata": {},
   "outputs": [
    {
     "data": {
      "text/plain": [
       "Text(0.5, 1.0, 'Onions or not')"
      ]
     },
     "execution_count": 8,
     "metadata": {},
     "output_type": "execute_result"
    },
    {
     "data": {
      "image/png": "[encoded data removed]",
      "text/plain": [
       "<Figure size 432x288 with 1 Axes>"
      ]
     },
     "metadata": {},
     "output_type": "display_data"
    }
   ],
   "source": [
    "plt.pie(data['label'].value_counts())\n",
    "plt.legend(labels)\n",
    "plt.title('Onions or not')"
   ]
  },
  {
   "cell_type": "code",
   "execution_count": 9,
   "metadata": {},
   "outputs": [],
   "source": [
    "data_process = data.copy()"
   ]
  },
  {
   "cell_type": "code",
   "execution_count": 10,
   "metadata": {},
   "outputs": [
    {
     "data": {
      "text/html": [
       "<div>\n",
       "<style scoped>\n",
       "    .dataframe tbody tr th:only-of-type {\n",
       "        vertical-align: middle;\n",
       "    }\n",
       "\n",
       "    .dataframe tbody tr th {\n",
       "        vertical-align: top;\n",
       "    }\n",
       "\n",
       "    .dataframe thead th {\n",
       "        text-align: right;\n",
       "    }\n",
       "</style>\n",
       "<table border=\"1\" class=\"dataframe\">\n",
       "  <thead>\n",
       "    <tr style=\"text-align: right;\">\n",
       "      <th></th>\n",
       "      <th>text</th>\n",
       "      <th>label</th>\n",
       "    </tr>\n",
       "  </thead>\n",
       "  <tbody>\n",
       "    <tr>\n",
       "      <td>0</td>\n",
       "      <td>Entire Facebook Staff Laughs As Man Tightens P...</td>\n",
       "      <td>1</td>\n",
       "    </tr>\n",
       "    <tr>\n",
       "      <td>1</td>\n",
       "      <td>Muslim Woman Denied Soda Can for Fear She Coul...</td>\n",
       "      <td>0</td>\n",
       "    </tr>\n",
       "    <tr>\n",
       "      <td>2</td>\n",
       "      <td>Bold Move: Hulu Has Announced That They’re Gon...</td>\n",
       "      <td>1</td>\n",
       "    </tr>\n",
       "    <tr>\n",
       "      <td>3</td>\n",
       "      <td>Despondent Jeff Bezos Realizes He’ll Have To W...</td>\n",
       "      <td>1</td>\n",
       "    </tr>\n",
       "    <tr>\n",
       "      <td>4</td>\n",
       "      <td>For men looking for great single women, online...</td>\n",
       "      <td>1</td>\n",
       "    </tr>\n",
       "  </tbody>\n",
       "</table>\n",
       "</div>"
      ],
      "text/plain": [
       "                                                text  label\n",
       "0  Entire Facebook Staff Laughs As Man Tightens P...      1\n",
       "1  Muslim Woman Denied Soda Can for Fear She Coul...      0\n",
       "2  Bold Move: Hulu Has Announced That They’re Gon...      1\n",
       "3  Despondent Jeff Bezos Realizes He’ll Have To W...      1\n",
       "4  For men looking for great single women, online...      1"
      ]
     },
     "execution_count": 10,
     "metadata": {},
     "output_type": "execute_result"
    }
   ],
   "source": [
    "data_process.head()"
   ]
  },
  {
   "cell_type": "code",
   "execution_count": 11,
   "metadata": {},
   "outputs": [],
   "source": [
    "data_process['text'] = data_process['text'].str.replace('[^a-zA-Z]', ' ', regex=True)"
   ]
  },
  {
   "cell_type": "code",
   "execution_count": 12,
   "metadata": {},
   "outputs": [
    {
     "data": {
      "text/plain": [
       "'Bold Move: Hulu Has Announced That They’re Gonna Go Ahead And Reboot ‘Shrill’ While It’s Still On Since You Idiots Will Watch Anything'"
      ]
     },
     "metadata": {},
     "output_type": "display_data"
    }
   ],
   "source": [
    "display(data['text'][2])"
   ]
  },
  {
   "cell_type": "code",
   "execution_count": 13,
   "metadata": {},
   "outputs": [
    {
     "data": {
      "text/plain": [
       "'Bold Move  Hulu Has Announced That They re Gonna Go Ahead And Reboot  Shrill  While It s Still On Since You Idiots Will Watch Anything'"
      ]
     },
     "metadata": {},
     "output_type": "display_data"
    }
   ],
   "source": [
    "display(data_process['text'][2])"
   ]
  },
  {
   "cell_type": "code",
   "execution_count": 14,
   "metadata": {},
   "outputs": [],
   "source": [
    "data_process['text'] = data_process['text'].str.lower()"
   ]
  },
  {
   "cell_type": "code",
   "execution_count": 15,
   "metadata": {},
   "outputs": [
    {
     "data": {
      "text/plain": [
       "'bold move  hulu has announced that they re gonna go ahead and reboot  shrill  while it s still on since you idiots will watch anything'"
      ]
     },
     "metadata": {},
     "output_type": "display_data"
    }
   ],
   "source": [
    "display(data_process['text'][2])"
   ]
  },
  {
   "cell_type": "code",
   "execution_count": 16,
   "metadata": {},
   "outputs": [],
   "source": [
    "num_words = 20000\n",
    "max_len = 150\n",
    "emb_size = 128\n",
    "X = data_process['text']"
   ]
  },
  {
   "cell_type": "code",
   "execution_count": 17,
   "metadata": {},
   "outputs": [
    {
     "data": {
      "text/plain": [
       "0        entire facebook staff laughs as man tightens p...\n",
       "1        muslim woman denied soda can for fear she coul...\n",
       "2        bold move  hulu has announced that they re gon...\n",
       "3        despondent jeff bezos realizes he ll have to w...\n",
       "4        for men looking for great single women  online...\n",
       "                               ...                        \n",
       "23995    teen pregnancy rate prompting more high school...\n",
       "23996    connecticut tv station under fire after using ...\n",
       "23997     jurisprudence fetishist gets off on technicality\n",
       "23998    employees from other department announce plan ...\n",
       "23999          police drone crashes into police swat team \n",
       "Name: text, Length: 24000, dtype: object"
      ]
     },
     "execution_count": 17,
     "metadata": {},
     "output_type": "execute_result"
    }
   ],
   "source": [
    "X"
   ]
  },
  {
   "cell_type": "code",
   "execution_count": 18,
   "metadata": {},
   "outputs": [],
   "source": [
    "token = Tokenizer(num_words=num_words)"
   ]
  },
  {
   "cell_type": "code",
   "execution_count": 19,
   "metadata": {},
   "outputs": [],
   "source": [
    "token.fit_on_texts(list(X))"
   ]
  },
  {
   "cell_type": "code",
   "execution_count": 20,
   "metadata": {},
   "outputs": [],
   "source": [
    "X = token.texts_to_sequences(X)"
   ]
  },
  {
   "cell_type": "code",
   "execution_count": 21,
   "metadata": {},
   "outputs": [
    {
     "data": {
      "text/plain": [
       "'Bold Move: Hulu Has Announced That They’re Gonna Go Ahead And Reboot ‘Shrill’ While It’s Still On Since You Idiots Will Watch Anything'"
      ]
     },
     "metadata": {},
     "output_type": "display_data"
    },
    {
     "data": {
      "text/plain": [
       "'bold move  hulu has announced that they re gonna go ahead and reboot  shrill  while it s still on since you idiots will watch anything'"
      ]
     },
     "metadata": {},
     "output_type": "display_data"
    },
    {
     "data": {
      "text/plain": [
       "[2417,\n",
       " 968,\n",
       " 6349,\n",
       " 32,\n",
       " 516,\n",
       " 20,\n",
       " 37,\n",
       " 111,\n",
       " 3436,\n",
       " 145,\n",
       " 1413,\n",
       " 11,\n",
       " 4238,\n",
       " 14123,\n",
       " 107,\n",
       " 14,\n",
       " 6,\n",
       " 129,\n",
       " 8,\n",
       " 626,\n",
       " 27,\n",
       " 4239,\n",
       " 52,\n",
       " 318,\n",
       " 660]"
      ]
     },
     "metadata": {},
     "output_type": "display_data"
    }
   ],
   "source": [
    "display(data['text'][2])\n",
    "display(data_process['text'][2])\n",
    "display(X[2])"
   ]
  },
  {
   "cell_type": "code",
   "execution_count": 22,
   "metadata": {},
   "outputs": [
    {
     "data": {
      "text/plain": [
       "Text(0.5, 1.0, 'Bold Move: Hulu Has Announced That They’re Gonna Go Ahead And Reboot ‘Shrill’ While It’s Still On Since You Idiots Will Watch Anything')"
      ]
     },
     "execution_count": 22,
     "metadata": {},
     "output_type": "execute_result"
    },
    {
     "data": {
      "image/png": "[encoded data removed]",
      "text/plain": [
       "<Figure size 432x288 with 1 Axes>"
      ]
     },
     "metadata": {
      "needs_background": "light"
     },
     "output_type": "display_data"
    }
   ],
   "source": [
    "plt.plot(X[2], label = 'sample text spectra')\n",
    "plt.title(str(data['text'][2]))"
   ]
  },
  {
   "cell_type": "code",
   "execution_count": 23,
   "metadata": {},
   "outputs": [],
   "source": [
    "X = sequence.pad_sequences(X, maxlen = max_len)\n",
    "Y = pd.get_dummies(data_process['label'])"
   ]
  },
  {
   "cell_type": "code",
   "execution_count": 24,
   "metadata": {},
   "outputs": [],
   "source": [
    "Y = Y.values"
   ]
  },
  {
   "cell_type": "code",
   "execution_count": 25,
   "metadata": {},
   "outputs": [],
   "source": [
    "x_train, x_test, y_train, y_test = train_test_split(X,Y, test_size = 0.1, random_state = 42)"
   ]
  },
  {
   "cell_type": "code",
   "execution_count": 26,
   "metadata": {},
   "outputs": [],
   "source": [
    "def model():\n",
    "    inp = Input(shape = (max_len, ))\n",
    "    layer = Embedding(num_words, emb_size)(inp)\n",
    "    layer = Bidirectional(LSTM(50, return_sequences = True, recurrent_dropout = 0.1))(layer)\n",
    "    \n",
    "    layer = GlobalMaxPool1D()(layer)\n",
    "    layer = Dropout(0.2)(layer)\n",
    "    \n",
    "    layer = Dense(50, activation = 'relu')(layer)\n",
    "    layer = Dropout(0.2)(layer)\n",
    "    layer = Dense(50, activation = 'relu')(layer)\n",
    "    layer = Dropout(0.2)(layer)\n",
    "    layer = Dense(50, activation = 'relu')(layer)\n",
    "    layer = Dropout(0.2)(layer)\n",
    "    \n",
    "    layer = Dense(2, activation = 'softmax')(layer)\n",
    "    model = Model(inputs = inp, outputs = layer)\n",
    "    \n",
    "    model.compile(loss = 'binary_crossentropy', optimizer = 'nadam', metrics = ['accuracy'])\n",
    "    return model"
   ]
  },
  {
   "cell_type": "code",
   "execution_count": 27,
   "metadata": {},
   "outputs": [
    {
     "name": "stdout",
     "output_type": "stream",
     "text": [
      "Model: \"model_1\"\n",
      "_________________________________________________________________\n",
      "Layer (type)                 Output Shape              Param #   \n",
      "=================================================================\n",
      "input_1 (InputLayer)         (None, 150)               0         \n",
      "_________________________________________________________________\n",
      "embedding_1 (Embedding)      (None, 150, 128)          2560000   \n",
      "_________________________________________________________________\n",
      "bidirectional_1 (Bidirection (None, 150, 100)          71600     \n",
      "_________________________________________________________________\n",
      "global_max_pooling1d_1 (Glob (None, 100)               0         \n",
      "_________________________________________________________________\n",
      "dropout_1 (Dropout)          (None, 100)               0         \n",
      "_________________________________________________________________\n",
      "dense_1 (Dense)              (None, 50)                5050      \n",
      "_________________________________________________________________\n",
      "dropout_2 (Dropout)          (None, 50)                0         \n",
      "_________________________________________________________________\n",
      "dense_2 (Dense)              (None, 50)                2550      \n",
      "_________________________________________________________________\n",
      "dropout_3 (Dropout)          (None, 50)                0         \n",
      "_________________________________________________________________\n",
      "dense_3 (Dense)              (None, 50)                2550      \n",
      "_________________________________________________________________\n",
      "dropout_4 (Dropout)          (None, 50)                0         \n",
      "_________________________________________________________________\n",
      "dense_4 (Dense)              (None, 2)                 102       \n",
      "=================================================================\n",
      "Total params: 2,641,852\n",
      "Trainable params: 2,641,852\n",
      "Non-trainable params: 0\n",
      "_________________________________________________________________\n"
     ]
    },
    {
     "data": {
      "image/png": "[encoded data removed]",
      "text/plain": [
       "<Figure size 2160x1440 with 1 Axes>"
      ]
     },
     "metadata": {
      "needs_background": "light"
     },
     "output_type": "display_data"
    }
   ],
   "source": [
    "model = model()\n",
    "model.summary()\n",
    "\n",
    "plot_model(model, to_file = '/OneDrive/Documents/GitHub/ArtificialIntelligence/onion.png', show_shapes=True, show_layer_names = True)\n",
    "plt.figure(figsize = (30,20))\n",
    "img = mpimg.imread('/OneDrive/Documents/GitHub/ArtificialIntelligence/onion.png')\n",
    "imgplot = plt.imshow(img)"
   ]
  },
  {
   "cell_type": "code",
   "execution_count": 28,
   "metadata": {},
   "outputs": [],
   "source": [
    "file_path = 'save.hd5'\n",
    "checkpoint = ModelCheckpoint(file_path, monitor= 'val_loss', save_best_only=True)\n",
    "early_stop = EarlyStopping(monitor= 'loss', patience=1)"
   ]
  },
  {
   "cell_type": "code",
   "execution_count": 29,
   "metadata": {},
   "outputs": [
    {
     "name": "stderr",
     "output_type": "stream",
     "text": [
      "C:\\ProgramData\\Anaconda3\\lib\\site-packages\\tensorflow_core\\python\\framework\\indexed_slices.py:433: UserWarning: Converting sparse IndexedSlices to a dense Tensor of unknown shape. This may consume a large amount of memory.\n",
      "  \"Converting sparse IndexedSlices to a dense Tensor of unknown shape. \"\n"
     ]
    },
    {
     "name": "stdout",
     "output_type": "stream",
     "text": [
      "Train on 19440 samples, validate on 2160 samples\n",
      "Epoch 1/3\n",
      "19440/19440 [==============================] - 64s 3ms/step - loss: 0.4273 - accuracy: 0.8063 - val_loss: 0.3489 - val_accuracy: 0.8569\n",
      "Epoch 2/3\n",
      "19440/19440 [==============================] - 66s 3ms/step - loss: 0.1867 - accuracy: 0.9306 - val_loss: 0.3818 - val_accuracy: 0.8333\n",
      "Epoch 3/3\n",
      "19440/19440 [==============================] - 64s 3ms/step - loss: 0.0844 - accuracy: 0.9713 - val_loss: 0.5497 - val_accuracy: 0.8477\n"
     ]
    }
   ],
   "source": [
    "history = model.fit(x_train, y_train, batch_size = 32, epochs = 3, validation_split = 0.1, callbacks = [checkpoint, early_stop])\n",
    "backs = [checkpoint, early_stop]"
   ]
  },
  {
   "cell_type": "code",
   "execution_count": 30,
   "metadata": {},
   "outputs": [],
   "source": [
    "val_loss = history.history['val_loss']\n",
    "loss = history.history['loss']"
   ]
  },
  {
   "cell_type": "code",
   "execution_count": 31,
   "metadata": {},
   "outputs": [
    {
     "name": "stdout",
     "output_type": "stream",
     "text": [
      "validation loss:  0.549686469523995\n",
      "training loss:  0.0844171449754755\n"
     ]
    }
   ],
   "source": [
    "print('validation loss: ', val_loss[-1])\n",
    "print('training loss: ', loss[-1])"
   ]
  },
  {
   "cell_type": "code",
   "execution_count": 32,
   "metadata": {},
   "outputs": [
    {
     "name": "stdout",
     "output_type": "stream",
     "text": [
      "2400/2400 [==============================] - 1s 603us/step\n",
      "['loss', 'accuracy']\n",
      "[0.5269204421838125, 0.8566666841506958]\n",
      "test loss:  0.5269204421838125\n",
      "test accuracy:  0.8566666841506958\n"
     ]
    }
   ],
   "source": [
    "score = model.evaluate(x_test, y_test)\n",
    "print(model.metrics_names)\n",
    "print(score)\n",
    "print('test loss: ', score[0])\n",
    "print('test accuracy: ', score[1])"
   ]
  },
  {
   "cell_type": "code",
   "execution_count": 33,
   "metadata": {},
   "outputs": [
    {
     "data": {
      "text/plain": [
       "{'val_loss': [0.3489141411251492, 0.38182996610800424, 0.549686469523995],\n",
       " 'val_accuracy': [0.8569444417953491, 0.8333333134651184, 0.8476851582527161],\n",
       " 'loss': [0.4272889544443829, 0.18673624054455953, 0.0844171449754755],\n",
       " 'accuracy': [0.80632716, 0.930607, 0.9712963]}"
      ]
     },
     "execution_count": 33,
     "metadata": {},
     "output_type": "execute_result"
    }
   ],
   "source": [
    "history.history"
   ]
  },
  {
   "cell_type": "markdown",
   "metadata": {},
   "source": [
    "# My improvements, aim for test accuracy >= 0.9"
   ]
  },
  {
   "cell_type": "markdown",
   "metadata": {},
   "source": [
    "Through the scikit-learn algorithm cheat-sheet, I've found that the best estimator to use is Linear SVC or Naive Bayes. This is because my aim is to predict a category (Onion or Not), I have <100k samples (24k). This leads to Linear SVC, but if this does not work, since this is text data, the next estimator would be Naive Bayes. I will use KFold cross validation to split the training and test data."
   ]
  },
  {
   "cell_type": "code",
   "execution_count": 34,
   "metadata": {},
   "outputs": [],
   "source": [
    "from sklearn.svm import LinearSVC\n",
    "from sklearn.metrics import confusion_matrix\n",
    "from sklearn.model_selection import KFold\n",
    "from keras.utils import to_categorical"
   ]
  },
  {
   "cell_type": "code",
   "execution_count": 35,
   "metadata": {},
   "outputs": [],
   "source": [
    "kf = KFold(n_splits=10, shuffle=True)"
   ]
  },
  {
   "cell_type": "code",
   "execution_count": 36,
   "metadata": {},
   "outputs": [],
   "source": [
    "clf = LinearSVC()"
   ]
  },
  {
   "cell_type": "code",
   "execution_count": 37,
   "metadata": {},
   "outputs": [],
   "source": [
    "Y2 = data_process['label']"
   ]
  },
  {
   "cell_type": "code",
   "execution_count": 38,
   "metadata": {},
   "outputs": [
    {
     "data": {
      "text/plain": [
       "(24000,)"
      ]
     },
     "execution_count": 38,
     "metadata": {},
     "output_type": "execute_result"
    }
   ],
   "source": [
    "data_process['label'].shape"
   ]
  },
  {
   "cell_type": "code",
   "execution_count": 39,
   "metadata": {},
   "outputs": [
    {
     "name": "stderr",
     "output_type": "stream",
     "text": [
      "C:\\ProgramData\\Anaconda3\\lib\\site-packages\\sklearn\\svm\\base.py:929: ConvergenceWarning: Liblinear failed to converge, increase the number of iterations.\n",
      "  \"the number of iterations.\", ConvergenceWarning)\n"
     ]
    },
    {
     "name": "stdout",
     "output_type": "stream",
     "text": [
      "0.5704166666666667\n",
      "\n"
     ]
    },
    {
     "name": "stderr",
     "output_type": "stream",
     "text": [
      "C:\\ProgramData\\Anaconda3\\lib\\site-packages\\sklearn\\svm\\base.py:929: ConvergenceWarning: Liblinear failed to converge, increase the number of iterations.\n",
      "  \"the number of iterations.\", ConvergenceWarning)\n"
     ]
    },
    {
     "name": "stdout",
     "output_type": "stream",
     "text": [
      "0.4975\n",
      "\n"
     ]
    },
    {
     "name": "stderr",
     "output_type": "stream",
     "text": [
      "C:\\ProgramData\\Anaconda3\\lib\\site-packages\\sklearn\\svm\\base.py:929: ConvergenceWarning: Liblinear failed to converge, increase the number of iterations.\n",
      "  \"the number of iterations.\", ConvergenceWarning)\n"
     ]
    },
    {
     "name": "stdout",
     "output_type": "stream",
     "text": [
      "0.5479166666666667\n",
      "\n"
     ]
    },
    {
     "name": "stderr",
     "output_type": "stream",
     "text": [
      "C:\\ProgramData\\Anaconda3\\lib\\site-packages\\sklearn\\svm\\base.py:929: ConvergenceWarning: Liblinear failed to converge, increase the number of iterations.\n",
      "  \"the number of iterations.\", ConvergenceWarning)\n"
     ]
    },
    {
     "name": "stdout",
     "output_type": "stream",
     "text": [
      "0.52625\n",
      "\n"
     ]
    },
    {
     "name": "stderr",
     "output_type": "stream",
     "text": [
      "C:\\ProgramData\\Anaconda3\\lib\\site-packages\\sklearn\\svm\\base.py:929: ConvergenceWarning: Liblinear failed to converge, increase the number of iterations.\n",
      "  \"the number of iterations.\", ConvergenceWarning)\n"
     ]
    },
    {
     "name": "stdout",
     "output_type": "stream",
     "text": [
      "0.6033333333333334\n",
      "\n"
     ]
    },
    {
     "name": "stderr",
     "output_type": "stream",
     "text": [
      "C:\\ProgramData\\Anaconda3\\lib\\site-packages\\sklearn\\svm\\base.py:929: ConvergenceWarning: Liblinear failed to converge, increase the number of iterations.\n",
      "  \"the number of iterations.\", ConvergenceWarning)\n"
     ]
    },
    {
     "name": "stdout",
     "output_type": "stream",
     "text": [
      "0.47625\n",
      "\n"
     ]
    },
    {
     "name": "stderr",
     "output_type": "stream",
     "text": [
      "C:\\ProgramData\\Anaconda3\\lib\\site-packages\\sklearn\\svm\\base.py:929: ConvergenceWarning: Liblinear failed to converge, increase the number of iterations.\n",
      "  \"the number of iterations.\", ConvergenceWarning)\n"
     ]
    },
    {
     "name": "stdout",
     "output_type": "stream",
     "text": [
      "0.5808333333333333\n",
      "\n"
     ]
    },
    {
     "name": "stderr",
     "output_type": "stream",
     "text": [
      "C:\\ProgramData\\Anaconda3\\lib\\site-packages\\sklearn\\svm\\base.py:929: ConvergenceWarning: Liblinear failed to converge, increase the number of iterations.\n",
      "  \"the number of iterations.\", ConvergenceWarning)\n"
     ]
    },
    {
     "name": "stdout",
     "output_type": "stream",
     "text": [
      "0.5291666666666667\n",
      "\n"
     ]
    },
    {
     "name": "stderr",
     "output_type": "stream",
     "text": [
      "C:\\ProgramData\\Anaconda3\\lib\\site-packages\\sklearn\\svm\\base.py:929: ConvergenceWarning: Liblinear failed to converge, increase the number of iterations.\n",
      "  \"the number of iterations.\", ConvergenceWarning)\n"
     ]
    },
    {
     "name": "stdout",
     "output_type": "stream",
     "text": [
      "0.45708333333333334\n",
      "\n",
      "0.5133333333333333\n",
      "\n"
     ]
    },
    {
     "name": "stderr",
     "output_type": "stream",
     "text": [
      "C:\\ProgramData\\Anaconda3\\lib\\site-packages\\sklearn\\svm\\base.py:929: ConvergenceWarning: Liblinear failed to converge, increase the number of iterations.\n",
      "  \"the number of iterations.\", ConvergenceWarning)\n"
     ]
    }
   ],
   "source": [
    "for train_index, test_index in kf.split(X):\n",
    "    x_train, x_test = X[train_index], X[test_index]\n",
    "    y_train, y_test = Y2[train_index], Y2[test_index]\n",
    "    clf.fit(x_train, y_train)\n",
    "    print(clf.score(x_test, y_test))\n",
    "    print()"
   ]
  },
  {
   "cell_type": "markdown",
   "metadata": {},
   "source": [
    "## Due to convergence warning and low accuracy, I normalized my training data using StandardScaler"
   ]
  },
  {
   "cell_type": "code",
   "execution_count": 40,
   "metadata": {},
   "outputs": [],
   "source": [
    "from sklearn.preprocessing import StandardScaler\n",
    "import statistics"
   ]
  },
  {
   "cell_type": "code",
   "execution_count": 41,
   "metadata": {},
   "outputs": [],
   "source": [
    "scaler = StandardScaler()"
   ]
  },
  {
   "cell_type": "code",
   "execution_count": 42,
   "metadata": {},
   "outputs": [],
   "source": [
    "X2 = X"
   ]
  },
  {
   "cell_type": "code",
   "execution_count": 43,
   "metadata": {},
   "outputs": [
    {
     "data": {
      "text/plain": [
       "StandardScaler(copy=True, with_mean=True, with_std=True)"
      ]
     },
     "execution_count": 43,
     "metadata": {},
     "output_type": "execute_result"
    }
   ],
   "source": [
    "scaler.fit(X2)"
   ]
  },
  {
   "cell_type": "code",
   "execution_count": 44,
   "metadata": {},
   "outputs": [],
   "source": [
    "X3 = scaler.transform(X2)"
   ]
  },
  {
   "cell_type": "code",
   "execution_count": 45,
   "metadata": {},
   "outputs": [
    {
     "data": {
      "text/plain": [
       "array([[ 0.        ,  0.        ,  0.        , ...,  3.74828244,\n",
       "         0.06294408,  1.82921958],\n",
       "       [ 0.        ,  0.        ,  0.        , ..., -0.50016743,\n",
       "        -0.51960901, -0.07700169],\n",
       "       [ 0.        ,  0.        ,  0.        , ..., -0.49112817,\n",
       "        -0.42874942, -0.57932005],\n",
       "       ...,\n",
       "       [ 0.        ,  0.        ,  0.        , ..., -0.48781378,\n",
       "        -0.51931685,  2.05070853],\n",
       "       [ 0.        ,  0.        ,  0.        , ..., -0.50649491,\n",
       "        -0.50237198, -0.00911423],\n",
       "       [ 0.        ,  0.        ,  0.        , ..., -0.49745565,\n",
       "         0.79274229, -0.66527828]])"
      ]
     },
     "execution_count": 45,
     "metadata": {},
     "output_type": "execute_result"
    }
   ],
   "source": [
    "X3"
   ]
  },
  {
   "cell_type": "code",
   "execution_count": 46,
   "metadata": {},
   "outputs": [
    {
     "name": "stderr",
     "output_type": "stream",
     "text": [
      "C:\\ProgramData\\Anaconda3\\lib\\site-packages\\sklearn\\svm\\base.py:929: ConvergenceWarning: Liblinear failed to converge, increase the number of iterations.\n",
      "  \"the number of iterations.\", ConvergenceWarning)\n"
     ]
    },
    {
     "name": "stdout",
     "output_type": "stream",
     "text": [
      "0.65125\n",
      "\n"
     ]
    },
    {
     "name": "stderr",
     "output_type": "stream",
     "text": [
      "C:\\ProgramData\\Anaconda3\\lib\\site-packages\\sklearn\\svm\\base.py:929: ConvergenceWarning: Liblinear failed to converge, increase the number of iterations.\n",
      "  \"the number of iterations.\", ConvergenceWarning)\n"
     ]
    },
    {
     "name": "stdout",
     "output_type": "stream",
     "text": [
      "0.64375\n",
      "\n"
     ]
    },
    {
     "name": "stderr",
     "output_type": "stream",
     "text": [
      "C:\\ProgramData\\Anaconda3\\lib\\site-packages\\sklearn\\svm\\base.py:929: ConvergenceWarning: Liblinear failed to converge, increase the number of iterations.\n",
      "  \"the number of iterations.\", ConvergenceWarning)\n"
     ]
    },
    {
     "name": "stdout",
     "output_type": "stream",
     "text": [
      "0.6566666666666666\n",
      "\n"
     ]
    },
    {
     "name": "stderr",
     "output_type": "stream",
     "text": [
      "C:\\ProgramData\\Anaconda3\\lib\\site-packages\\sklearn\\svm\\base.py:929: ConvergenceWarning: Liblinear failed to converge, increase the number of iterations.\n",
      "  \"the number of iterations.\", ConvergenceWarning)\n"
     ]
    },
    {
     "name": "stdout",
     "output_type": "stream",
     "text": [
      "0.65375\n",
      "\n"
     ]
    },
    {
     "name": "stderr",
     "output_type": "stream",
     "text": [
      "C:\\ProgramData\\Anaconda3\\lib\\site-packages\\sklearn\\svm\\base.py:929: ConvergenceWarning: Liblinear failed to converge, increase the number of iterations.\n",
      "  \"the number of iterations.\", ConvergenceWarning)\n"
     ]
    },
    {
     "name": "stdout",
     "output_type": "stream",
     "text": [
      "0.6495833333333333\n",
      "\n"
     ]
    },
    {
     "name": "stderr",
     "output_type": "stream",
     "text": [
      "C:\\ProgramData\\Anaconda3\\lib\\site-packages\\sklearn\\svm\\base.py:929: ConvergenceWarning: Liblinear failed to converge, increase the number of iterations.\n",
      "  \"the number of iterations.\", ConvergenceWarning)\n"
     ]
    },
    {
     "name": "stdout",
     "output_type": "stream",
     "text": [
      "0.6745833333333333\n",
      "\n"
     ]
    },
    {
     "name": "stderr",
     "output_type": "stream",
     "text": [
      "C:\\ProgramData\\Anaconda3\\lib\\site-packages\\sklearn\\svm\\base.py:929: ConvergenceWarning: Liblinear failed to converge, increase the number of iterations.\n",
      "  \"the number of iterations.\", ConvergenceWarning)\n"
     ]
    },
    {
     "name": "stdout",
     "output_type": "stream",
     "text": [
      "0.6441666666666667\n",
      "\n"
     ]
    },
    {
     "name": "stderr",
     "output_type": "stream",
     "text": [
      "C:\\ProgramData\\Anaconda3\\lib\\site-packages\\sklearn\\svm\\base.py:929: ConvergenceWarning: Liblinear failed to converge, increase the number of iterations.\n",
      "  \"the number of iterations.\", ConvergenceWarning)\n"
     ]
    },
    {
     "name": "stdout",
     "output_type": "stream",
     "text": [
      "0.6470833333333333\n",
      "\n"
     ]
    },
    {
     "name": "stderr",
     "output_type": "stream",
     "text": [
      "C:\\ProgramData\\Anaconda3\\lib\\site-packages\\sklearn\\svm\\base.py:929: ConvergenceWarning: Liblinear failed to converge, increase the number of iterations.\n",
      "  \"the number of iterations.\", ConvergenceWarning)\n"
     ]
    },
    {
     "name": "stdout",
     "output_type": "stream",
     "text": [
      "0.6591666666666667\n",
      "\n",
      "0.6675\n",
      "\n"
     ]
    },
    {
     "name": "stderr",
     "output_type": "stream",
     "text": [
      "C:\\ProgramData\\Anaconda3\\lib\\site-packages\\sklearn\\svm\\base.py:929: ConvergenceWarning: Liblinear failed to converge, increase the number of iterations.\n",
      "  \"the number of iterations.\", ConvergenceWarning)\n"
     ]
    }
   ],
   "source": [
    "for train_index, test_index in kf.split(X3):\n",
    "    x_train, x_test = X3[train_index], X3[test_index]\n",
    "    y_train, y_test = Y2[train_index], Y2[test_index]\n",
    "    clf.fit(x_train, y_train)\n",
    "    print(clf.score(x_test, y_test))\n",
    "    print()"
   ]
  },
  {
   "cell_type": "markdown",
   "metadata": {},
   "source": [
    "## While this has improved the results, they are still much lower than the desired  >= 0.9, for this reason I to use the Naive Bayes algorithm\n",
    "This algorithm contains five seperate methods, which I will test and see which gets the best results"
   ]
  },
  {
   "cell_type": "code",
   "execution_count": 47,
   "metadata": {},
   "outputs": [],
   "source": [
    "from sklearn.naive_bayes import GaussianNB\n",
    "from sklearn.naive_bayes import MultinomialNB\n",
    "from sklearn.naive_bayes import ComplementNB\n",
    "from sklearn.naive_bayes import BernoulliNB\n",
    "\n",
    "# Does not work\n",
    "#from sklearn.naive_bayes import CategoricalNB"
   ]
  },
  {
   "cell_type": "code",
   "execution_count": 48,
   "metadata": {},
   "outputs": [],
   "source": [
    "x_train, x_test, y_train, y_test = train_test_split(X,Y2, test_size = 0.1)"
   ]
  },
  {
   "cell_type": "code",
   "execution_count": 49,
   "metadata": {},
   "outputs": [],
   "source": [
    "gnb = GaussianNB()\n",
    "mnb = MultinomialNB()\n",
    "cnb = ComplementNB()\n",
    "bnb = BernoulliNB()"
   ]
  },
  {
   "cell_type": "code",
   "execution_count": 50,
   "metadata": {},
   "outputs": [],
   "source": [
    "y_pred_g = gnb.fit(x_train, y_train).predict(x_test)\n",
    "y_pred_m = mnb.fit(x_train, y_train).predict(x_test)\n",
    "y_pred_c = cnb.fit(x_train, y_train).predict(x_test)\n",
    "y_pred_b = bnb.fit(x_train, y_train).predict(x_test)"
   ]
  },
  {
   "cell_type": "code",
   "execution_count": 51,
   "metadata": {},
   "outputs": [
    {
     "name": "stdout",
     "output_type": "stream",
     "text": [
      "Number of mislabeled points out of a total 2400 points: 1543\n",
      "Number of mislabeled points out of a total 2400 points: 835\n",
      "Number of mislabeled points out of a total 2400 points: 835\n",
      "Number of mislabeled points out of a total 2400 points: 768\n"
     ]
    }
   ],
   "source": [
    "print('Number of mislabeled points out of a total {} points: {}'.format(x_test.shape[0], (y_test != y_pred_g).sum()))\n",
    "print('Number of mislabeled points out of a total {} points: {}'.format(x_test.shape[0], (y_test != y_pred_m).sum()))\n",
    "print('Number of mislabeled points out of a total {} points: {}'.format(x_test.shape[0], (y_test != y_pred_c).sum()))\n",
    "print('Number of mislabeled points out of a total {} points: {}'.format(x_test.shape[0], (y_test != y_pred_b).sum()))"
   ]
  },
  {
   "cell_type": "code",
   "execution_count": 52,
   "metadata": {},
   "outputs": [
    {
     "data": {
      "text/plain": [
       "0.3570833333333333"
      ]
     },
     "execution_count": 52,
     "metadata": {},
     "output_type": "execute_result"
    }
   ],
   "source": [
    "gnb.score(x_test, y_test)"
   ]
  },
  {
   "cell_type": "code",
   "execution_count": 53,
   "metadata": {},
   "outputs": [
    {
     "data": {
      "text/plain": [
       "0.6520833333333333"
      ]
     },
     "execution_count": 53,
     "metadata": {},
     "output_type": "execute_result"
    }
   ],
   "source": [
    "mnb.score(x_test, y_test)"
   ]
  },
  {
   "cell_type": "code",
   "execution_count": 54,
   "metadata": {},
   "outputs": [
    {
     "data": {
      "text/plain": [
       "0.6520833333333333"
      ]
     },
     "execution_count": 54,
     "metadata": {},
     "output_type": "execute_result"
    }
   ],
   "source": [
    "cnb.score(x_test, y_test)"
   ]
  },
  {
   "cell_type": "code",
   "execution_count": 55,
   "metadata": {},
   "outputs": [
    {
     "data": {
      "text/plain": [
       "0.68"
      ]
     },
     "execution_count": 55,
     "metadata": {},
     "output_type": "execute_result"
    }
   ],
   "source": [
    "bnb.score(x_test, y_test)"
   ]
  },
  {
   "cell_type": "code",
   "execution_count": 56,
   "metadata": {},
   "outputs": [
    {
     "name": "stdout",
     "output_type": "stream",
     "text": [
      "0.3675\n",
      "0.635\n",
      "0.635\n",
      "0.6604166666666667\n",
      "\n",
      "0.3754166666666667\n",
      "0.6345833333333334\n",
      "0.6345833333333334\n",
      "0.6545833333333333\n",
      "\n",
      "0.38333333333333336\n",
      "0.6420833333333333\n",
      "0.6420833333333333\n",
      "0.6683333333333333\n",
      "\n",
      "0.37375\n",
      "0.6404166666666666\n",
      "0.6404166666666666\n",
      "0.6766666666666666\n",
      "\n",
      "0.3645833333333333\n",
      "0.6575\n",
      "0.6575\n",
      "0.6783333333333333\n",
      "\n",
      "0.38375\n",
      "0.64125\n",
      "0.64125\n",
      "0.6704166666666667\n",
      "\n",
      "0.36625\n",
      "0.6570833333333334\n",
      "0.6570833333333334\n",
      "0.6733333333333333\n",
      "\n",
      "0.37666666666666665\n",
      "0.6533333333333333\n",
      "0.6533333333333333\n",
      "0.6779166666666666\n",
      "\n",
      "0.37333333333333335\n",
      "0.6558333333333334\n",
      "0.6558333333333334\n",
      "0.675\n",
      "\n",
      "0.38333333333333336\n",
      "0.6279166666666667\n",
      "0.6279166666666667\n",
      "0.6583333333333333\n",
      "\n"
     ]
    }
   ],
   "source": [
    "for train_index, test_index in kf.split(X):\n",
    "    x_train, x_test = X[train_index], X[test_index]\n",
    "    y_train, y_test = Y2[train_index], Y2[test_index]\n",
    "    gnb.fit(x_train, y_train)\n",
    "    mnb.fit(x_train, y_train)\n",
    "    cnb.fit(x_train, y_train)\n",
    "    bnb.fit(x_train, y_train)\n",
    "    print(gnb.score(x_test, y_test))\n",
    "    print(mnb.score(x_test, y_test))\n",
    "    print(cnb.score(x_test, y_test))\n",
    "    print(bnb.score(x_test, y_test))\n",
    "    print()"
   ]
  },
  {
   "cell_type": "markdown",
   "metadata": {},
   "source": [
    "## Using the StandardScaler:"
   ]
  },
  {
   "cell_type": "code",
   "execution_count": 57,
   "metadata": {},
   "outputs": [
    {
     "name": "stdout",
     "output_type": "stream",
     "text": [
      "0.36583333333333334\n",
      "0.6775\n",
      "\n",
      "0.37416666666666665\n",
      "0.6704166666666667\n",
      "\n",
      "0.39\n",
      "0.65875\n",
      "\n",
      "0.39125\n",
      "0.6508333333333334\n",
      "\n",
      "0.3829166666666667\n",
      "0.6629166666666667\n",
      "\n",
      "0.65375\n",
      "0.67\n",
      "\n",
      "0.37416666666666665\n",
      "0.65375\n",
      "\n",
      "0.37083333333333335\n",
      "0.6704166666666667\n",
      "\n",
      "0.37041666666666667\n",
      "0.6566666666666666\n",
      "\n",
      "0.3645833333333333\n",
      "0.6745833333333333\n",
      "\n"
     ]
    }
   ],
   "source": [
    "for train_index, test_index in kf.split(X3):\n",
    "    x_train, x_test = X3[train_index], X3[test_index]\n",
    "    y_train, y_test = Y2[train_index], Y2[test_index]\n",
    "    gnb.fit(x_train, y_train)\n",
    "    # commented out as X cannot be negative for these methods to work\n",
    "    #mnb.fit(x_train, y_train)\n",
    "    #cnb.fit(x_train, y_train)\n",
    "    bnb.fit(x_train, y_train)\n",
    "    print(gnb.score(x_test, y_test))\n",
    "    #print(mnb.score(x_test, y_test))\n",
    "    #print(cnb.score(x_test, y_test))\n",
    "    print(bnb.score(x_test, y_test))\n",
    "    print()"
   ]
  },
  {
   "cell_type": "markdown",
   "metadata": {},
   "source": [
    "## Once again, results are not at expected level, lastly I will attempt a NN solution using different layers and different test sizes in attempt to fix the over-fitting issue pointed out in the comment section of the notebook"
   ]
  },
  {
   "cell_type": "code",
   "execution_count": 58,
   "metadata": {},
   "outputs": [],
   "source": [
    "from keras import optimizers"
   ]
  },
  {
   "cell_type": "code",
   "execution_count": 59,
   "metadata": {},
   "outputs": [],
   "source": [
    "def new_model(new_or_old):\n",
    "    if new_or_old:\n",
    "        model = Sequential()\n",
    "        model.add(Dense(6, input_dim = 150, activation = 'relu'))\n",
    "        model.add(Dropout(0.2))\n",
    "        model.add(Dense(10, activation = 'linear'))\n",
    "        model.add(Dropout(0.2))\n",
    "        model.add(Dense(2, activation = 'softmax'))\n",
    "        opt = optimizers.SGD(learning_rate = 0.1, momentum = 0, nesterov = True)\n",
    "        model.compile(loss = 'categorical_crossentropy', optimizer = 'adam', metrics = ['accuracy'])\n",
    "    \n",
    "    else:\n",
    "        inp = Input(shape = (max_len, ))\n",
    "        layer = Embedding(num_words, emb_size)(inp)\n",
    "        layer = Bidirectional(LSTM(50, return_sequences = True, recurrent_dropout = 0.1))(layer)\n",
    "\n",
    "        layer = GlobalMaxPool1D()(layer)\n",
    "        layer = Dropout(0.2)(layer)\n",
    "\n",
    "        layer = Dense(50, activation = 'relu')(layer)\n",
    "        layer = Dropout(0.2)(layer)\n",
    "        layer = Dense(50, activation = 'relu')(layer)\n",
    "        layer = Dropout(0.2)(layer)\n",
    "        layer = Dense(50, activation = 'relu')(layer)\n",
    "        layer = Dropout(0.2)(layer)\n",
    "\n",
    "        layer = Dense(2, activation = 'softmax')(layer)\n",
    "        model = Model(inputs = inp, outputs = layer)\n",
    "        model.compile(loss = 'binary_crossentropy', optimizer = 'nadam', metrics = ['accuracy'])\n",
    "        \n",
    "    return model"
   ]
  },
  {
   "cell_type": "code",
   "execution_count": 60,
   "metadata": {},
   "outputs": [],
   "source": [
    "first_model = new_model(False)\n",
    "second_model = new_model(True)"
   ]
  },
  {
   "cell_type": "code",
   "execution_count": 61,
   "metadata": {},
   "outputs": [],
   "source": [
    "def test_model(model):\n",
    "    results = []\n",
    "    results.append(['validation loss', 'training loss', 'test loss', 'test accuracy'])\n",
    "\n",
    "    for i in range(1, 10):\n",
    "        test_size = i/10\n",
    "        print(test_size)\n",
    "        x_train, x_test, y_train, y_test = train_test_split(X,Y, test_size = test_size, random_state = 42)\n",
    "        history = model.fit(x_train, y_train, batch_size = 32, epochs = 3, validation_split = 0.1, callbacks = [checkpoint, early_stop])\n",
    "        backs = [checkpoint, early_stop]\n",
    "        val_loss = history.history['val_loss']\n",
    "        loss = history.history['loss']\n",
    "        score = model.evaluate(x_test, y_test)\n",
    "        results.append([val_loss, loss, score[0], score[1]])\n",
    "    return results"
   ]
  },
  {
   "cell_type": "code",
   "execution_count": 62,
   "metadata": {},
   "outputs": [
    {
     "name": "stdout",
     "output_type": "stream",
     "text": [
      "0.1\n"
     ]
    },
    {
     "name": "stderr",
     "output_type": "stream",
     "text": [
      "C:\\ProgramData\\Anaconda3\\lib\\site-packages\\tensorflow_core\\python\\framework\\indexed_slices.py:433: UserWarning: Converting sparse IndexedSlices to a dense Tensor of unknown shape. This may consume a large amount of memory.\n",
      "  \"Converting sparse IndexedSlices to a dense Tensor of unknown shape. \"\n"
     ]
    },
    {
     "name": "stdout",
     "output_type": "stream",
     "text": [
      "Train on 19440 samples, validate on 2160 samples\n",
      "Epoch 1/3\n",
      "19440/19440 [==============================] - 65s 3ms/step - loss: 0.4245 - accuracy: 0.8060 - val_loss: 0.3517 - val_accuracy: 0.8458\n",
      "Epoch 2/3\n",
      "19440/19440 [==============================] - 66s 3ms/step - loss: 0.1975 - accuracy: 0.9269 - val_loss: 0.4295 - val_accuracy: 0.8528\n",
      "Epoch 3/3\n",
      "19440/19440 [==============================] - 64s 3ms/step - loss: 0.0875 - accuracy: 0.9707 - val_loss: 0.4947 - val_accuracy: 0.8440\n",
      "2400/2400 [==============================] - 2s 626us/step\n",
      "0.2\n",
      "Train on 17280 samples, validate on 1920 samples\n",
      "Epoch 1/3\n",
      "17280/17280 [==============================] - 57s 3ms/step - loss: 0.0547 - accuracy: 0.9836 - val_loss: 0.6004 - val_accuracy: 0.8474\n",
      "Epoch 2/3\n",
      "17280/17280 [==============================] - 57s 3ms/step - loss: 0.0251 - accuracy: 0.9930 - val_loss: 0.8474 - val_accuracy: 0.8500\n",
      "Epoch 3/3\n",
      "17280/17280 [==============================] - 57s 3ms/step - loss: 0.0139 - accuracy: 0.9957 - val_loss: 1.0813 - val_accuracy: 0.8318\n",
      "4800/4800 [==============================] - 3s 591us/step\n",
      "0.3\n",
      "Train on 15120 samples, validate on 1680 samples\n",
      "Epoch 1/3\n",
      "15120/15120 [==============================] - 49s 3ms/step - loss: 0.0254 - accuracy: 0.9933 - val_loss: 1.0073 - val_accuracy: 0.8405\n",
      "Epoch 2/3\n",
      "15120/15120 [==============================] - 50s 3ms/step - loss: 0.0096 - accuracy: 0.9978 - val_loss: 1.1980 - val_accuracy: 0.8440\n",
      "Epoch 3/3\n",
      "15120/15120 [==============================] - 49s 3ms/step - loss: 0.0099 - accuracy: 0.9971 - val_loss: 1.2405 - val_accuracy: 0.8411\n",
      "7200/7200 [==============================] - 4s 587us/step\n",
      "0.4\n",
      "Train on 12960 samples, validate on 1440 samples\n",
      "Epoch 1/3\n",
      "12960/12960 [==============================] - 43s 3ms/step - loss: 0.0241 - accuracy: 0.9947 - val_loss: 0.7740 - val_accuracy: 0.8340\n",
      "Epoch 2/3\n",
      "12960/12960 [==============================] - 41s 3ms/step - loss: 0.0079 - accuracy: 0.9983 - val_loss: 1.1949 - val_accuracy: 0.8486\n",
      "Epoch 3/3\n",
      "12960/12960 [==============================] - 41s 3ms/step - loss: 0.0062 - accuracy: 0.9980 - val_loss: 1.4594 - val_accuracy: 0.8410\n",
      "9600/9600 [==============================] - 5s 559us/step\n",
      "0.5\n",
      "Train on 10800 samples, validate on 1200 samples\n",
      "Epoch 1/3\n",
      "10800/10800 [==============================] - 35s 3ms/step - loss: 0.0337 - accuracy: 0.9941 - val_loss: 0.6741 - val_accuracy: 0.8275\n",
      "Epoch 2/3\n",
      "10800/10800 [==============================] - 34s 3ms/step - loss: 0.0062 - accuracy: 0.9989 - val_loss: 1.3560 - val_accuracy: 0.8442\n",
      "Epoch 3/3\n",
      "10800/10800 [==============================] - 34s 3ms/step - loss: 0.0053 - accuracy: 0.9990 - val_loss: 1.2605 - val_accuracy: 0.8292\n",
      "12000/12000 [==============================] - 7s 543us/step\n",
      "0.6\n",
      "Train on 8640 samples, validate on 960 samples\n",
      "Epoch 1/3\n",
      "8640/8640 [==============================] - 28s 3ms/step - loss: 0.0339 - accuracy: 0.9948 - val_loss: 0.6989 - val_accuracy: 0.8385\n",
      "Epoch 2/3\n",
      "8640/8640 [==============================] - 28s 3ms/step - loss: 0.0065 - accuracy: 0.9992 - val_loss: 1.4842 - val_accuracy: 0.8156\n",
      "Epoch 3/3\n",
      "8640/8640 [==============================] - 27s 3ms/step - loss: 0.0055 - accuracy: 0.9992 - val_loss: 1.2970 - val_accuracy: 0.8260\n",
      "14400/14400 [==============================] - 8s 543us/step\n",
      "0.7\n",
      "Train on 6480 samples, validate on 720 samples\n",
      "Epoch 1/3\n",
      "6480/6480 [==============================] - 20s 3ms/step - loss: 0.0388 - accuracy: 0.9920 - val_loss: 0.6977 - val_accuracy: 0.8417\n",
      "Epoch 2/3\n",
      "6480/6480 [==============================] - 21s 3ms/step - loss: 0.0038 - accuracy: 0.9991 - val_loss: 1.1773 - val_accuracy: 0.8347\n",
      "Epoch 3/3\n",
      "6480/6480 [==============================] - 21s 3ms/step - loss: 4.0138e-04 - accuracy: 1.0000 - val_loss: 1.4063 - val_accuracy: 0.8444\n",
      "16800/16800 [==============================] - 9s 559us/step\n",
      "0.8\n",
      "Train on 4320 samples, validate on 480 samples\n",
      "Epoch 1/3\n",
      "4320/4320 [==============================] - 14s 3ms/step - loss: 0.0513 - accuracy: 0.9905 - val_loss: 0.6416 - val_accuracy: 0.8396\n",
      "Epoch 2/3\n",
      "4320/4320 [==============================] - 14s 3ms/step - loss: 0.0059 - accuracy: 0.9986 - val_loss: 1.0312 - val_accuracy: 0.8396\n",
      "Epoch 3/3\n",
      "4320/4320 [==============================] - 14s 3ms/step - loss: 6.4849e-04 - accuracy: 1.0000 - val_loss: 1.3415 - val_accuracy: 0.8396\n",
      "19200/19200 [==============================] - 11s 548us/step\n",
      "0.9\n",
      "Train on 2160 samples, validate on 240 samples\n",
      "Epoch 1/3\n",
      "2160/2160 [==============================] - 7s 3ms/step - loss: 0.0955 - accuracy: 0.9815 - val_loss: 0.4200 - val_accuracy: 0.8500\n",
      "Epoch 2/3\n",
      "2160/2160 [==============================] - 7s 3ms/step - loss: 0.0193 - accuracy: 0.9963 - val_loss: 0.6494 - val_accuracy: 0.8333\n",
      "Epoch 3/3\n",
      "2160/2160 [==============================] - 7s 3ms/step - loss: 0.0017 - accuracy: 1.0000 - val_loss: 0.9803 - val_accuracy: 0.8458\n",
      "21600/21600 [==============================] - 11s 511us/step\n",
      "0.1\n",
      "Train on 19440 samples, validate on 2160 samples\n",
      "Epoch 1/3\n",
      "19440/19440 [==============================] - 1s 32us/step - loss: 77.9425 - accuracy: 0.5829 - val_loss: 1.0746 - val_accuracy: 0.6329\n",
      "Epoch 2/3\n",
      "19440/19440 [==============================] - 0s 25us/step - loss: 1.5656 - accuracy: 0.6236 - val_loss: 0.7060 - val_accuracy: 0.6324\n",
      "Epoch 3/3\n",
      "19440/19440 [==============================] - 1s 26us/step - loss: 0.8589 - accuracy: 0.6245 - val_loss: 0.6921 - val_accuracy: 0.6333\n",
      "2400/2400 [==============================] - 0s 6us/step\n",
      "0.2\n",
      "Train on 17280 samples, validate on 1920 samples\n",
      "Epoch 1/3\n",
      "17280/17280 [==============================] - 0s 26us/step - loss: 0.7167 - accuracy: 0.6230 - val_loss: 0.6750 - val_accuracy: 0.6359\n",
      "Epoch 2/3\n",
      "17280/17280 [==============================] - 0s 26us/step - loss: 0.6757 - accuracy: 0.6229 - val_loss: 0.6698 - val_accuracy: 0.6354\n",
      "Epoch 3/3\n",
      "17280/17280 [==============================] - 0s 25us/step - loss: 0.6663 - accuracy: 0.6231 - val_loss: 0.6642 - val_accuracy: 0.6354\n",
      "4800/4800 [==============================] - 0s 10us/step\n",
      "0.3\n",
      "Train on 15120 samples, validate on 1680 samples\n",
      "Epoch 1/3\n",
      "15120/15120 [==============================] - 0s 26us/step - loss: 0.6825 - accuracy: 0.6179 - val_loss: 0.6610 - val_accuracy: 0.6435\n",
      "Epoch 2/3\n",
      "15120/15120 [==============================] - 0s 26us/step - loss: 0.6673 - accuracy: 0.6180 - val_loss: 0.6624 - val_accuracy: 0.6435\n",
      "Epoch 3/3\n",
      "15120/15120 [==============================] - 0s 25us/step - loss: 0.6654 - accuracy: 0.6180 - val_loss: 0.6622 - val_accuracy: 0.6435\n",
      "7200/7200 [==============================] - 0s 11us/step\n",
      "0.4\n",
      "Train on 12960 samples, validate on 1440 samples\n",
      "Epoch 1/3\n",
      "12960/12960 [==============================] - 0s 26us/step - loss: 0.6673 - accuracy: 0.6181 - val_loss: 0.6520 - val_accuracy: 0.6486\n",
      "Epoch 2/3\n",
      "12960/12960 [==============================] - 0s 25us/step - loss: 0.6656 - accuracy: 0.6181 - val_loss: 0.6532 - val_accuracy: 0.6486\n",
      "Epoch 3/3\n",
      "12960/12960 [==============================] - 0s 25us/step - loss: 0.6651 - accuracy: 0.6182 - val_loss: 0.6524 - val_accuracy: 0.6486\n",
      "9600/9600 [==============================] - 0s 11us/step\n",
      "0.5\n",
      "Train on 10800 samples, validate on 1200 samples\n",
      "Epoch 1/3\n",
      "10800/10800 [==============================] - 0s 26us/step - loss: 0.6663 - accuracy: 0.6163 - val_loss: 0.6502 - val_accuracy: 0.6558\n",
      "Epoch 2/3\n",
      "10800/10800 [==============================] - 0s 26us/step - loss: 0.6662 - accuracy: 0.6163 - val_loss: 0.6491 - val_accuracy: 0.6558\n",
      "Epoch 3/3\n",
      "10800/10800 [==============================] - 0s 25us/step - loss: 0.6662 - accuracy: 0.6163 - val_loss: 0.6492 - val_accuracy: 0.6558\n",
      "12000/12000 [==============================] - 0s 12us/step\n",
      "0.6\n",
      "Train on 8640 samples, validate on 960 samples\n",
      "Epoch 1/3\n",
      "8640/8640 [==============================] - 0s 26us/step - loss: 0.6667 - accuracy: 0.6155 - val_loss: 0.6540 - val_accuracy: 0.6490\n",
      "Epoch 2/3\n",
      "8640/8640 [==============================] - 0s 24us/step - loss: 0.6664 - accuracy: 0.6155 - val_loss: 0.6514 - val_accuracy: 0.6490\n",
      "Epoch 3/3\n",
      "8640/8640 [==============================] - 0s 26us/step - loss: 0.6665 - accuracy: 0.6155 - val_loss: 0.6547 - val_accuracy: 0.6490\n",
      "14400/14400 [==============================] - 0s 10us/step\n",
      "0.7\n",
      "Train on 6480 samples, validate on 720 samples\n",
      "Epoch 1/3\n",
      "6480/6480 [==============================] - 0s 27us/step - loss: 0.6676 - accuracy: 0.6137 - val_loss: 0.6636 - val_accuracy: 0.6278\n",
      "Epoch 2/3\n",
      "6480/6480 [==============================] - 0s 25us/step - loss: 0.6673 - accuracy: 0.6137 - val_loss: 0.6634 - val_accuracy: 0.6278\n",
      "Epoch 3/3\n",
      "6480/6480 [==============================] - 0s 26us/step - loss: 0.6675 - accuracy: 0.6137 - val_loss: 0.6636 - val_accuracy: 0.6278\n",
      "16800/16800 [==============================] - 0s 10us/step\n",
      "0.8\n",
      "Train on 4320 samples, validate on 480 samples\n",
      "Epoch 1/3\n",
      "4320/4320 [==============================] - 0s 26us/step - loss: 0.6674 - accuracy: 0.6139 - val_loss: 0.6582 - val_accuracy: 0.6417\n",
      "Epoch 2/3\n",
      "4320/4320 [==============================] - 0s 23us/step - loss: 0.6670 - accuracy: 0.6139 - val_loss: 0.6583 - val_accuracy: 0.6417\n",
      "Epoch 3/3\n",
      "4320/4320 [==============================] - 0s 27us/step - loss: 0.6675 - accuracy: 0.6139 - val_loss: 0.6583 - val_accuracy: 0.6417\n",
      "19200/19200 [==============================] - 0s 11us/step\n",
      "0.9\n",
      "Train on 2160 samples, validate on 240 samples\n",
      "Epoch 1/3\n",
      "2160/2160 [==============================] - 0s 27us/step - loss: 0.6580 - accuracy: 0.6333 - val_loss: 0.6882 - val_accuracy: 0.5917\n",
      "Epoch 2/3\n",
      "2160/2160 [==============================] - 0s 19us/step - loss: 0.6580 - accuracy: 0.6333 - val_loss: 0.6881 - val_accuracy: 0.5917\n",
      "21600/21600 [==============================] - 0s 10us/step\n"
     ]
    }
   ],
   "source": [
    "results_1 = test_model(first_model)\n",
    "results_2 = test_model(second_model)"
   ]
  },
  {
   "cell_type": "code",
   "execution_count": 63,
   "metadata": {},
   "outputs": [
    {
     "name": "stdout",
     "output_type": "stream",
     "text": [
      "test accuracy 0.8554166555404663\n",
      "test accuracy 0.6229166388511658\n",
      "\n",
      "test accuracy 0.9037500023841858\n",
      "test accuracy 0.6287500262260437\n",
      "\n",
      "test accuracy 0.9340277910232544\n",
      "test accuracy 0.6356944441795349\n",
      "\n",
      "test accuracy 0.9460416436195374\n",
      "test accuracy 0.6307291388511658\n",
      "\n",
      "test accuracy 0.9537500143051147\n",
      "test accuracy 0.6297500133514404\n",
      "\n",
      "test accuracy 0.9613194465637207\n",
      "test accuracy 0.6290972232818604\n",
      "\n",
      "test accuracy 0.9638095498085022\n",
      "test accuracy 0.6292262077331543\n",
      "\n",
      "test accuracy 0.9639583230018616\n",
      "test accuracy 0.6270833611488342\n",
      "\n",
      "test accuracy 0.9651851654052734\n",
      "test accuracy 0.6244907379150391\n",
      "\n"
     ]
    }
   ],
   "source": [
    "for i in range(1,10):\n",
    "    #print('validation loss: ',results[i][0][-1])\n",
    "    #print('training loss: ',results[i][1][-1])\n",
    "    #print('test loss: ',results[i][2])\n",
    "    print('test accuracy',results_1[i][3])\n",
    "    print('test accuracy',results_2[i][3])\n",
    "    print()"
   ]
  },
  {
   "cell_type": "code",
   "execution_count": 64,
   "metadata": {},
   "outputs": [],
   "source": [
    "kf2 = KFold(n_splits = 10, shuffle = True)"
   ]
  },
  {
   "cell_type": "code",
   "execution_count": 65,
   "metadata": {},
   "outputs": [],
   "source": [
    "def test_model_kfold(model):\n",
    "    results = []\n",
    "    results.append(['validation loss', 'training loss', 'test loss', 'test accuracy'])\n",
    "\n",
    "    for train_index, test_index in kf.split(X):\n",
    "        x_train, x_test = X[train_index], X[test_index]\n",
    "        y_train, y_test = Y2[train_index], Y2[test_index]\n",
    "        history = model.fit(x_train, y_train, batch_size = 32, epochs = 3, validation_split = 0.1, callbacks = [checkpoint, early_stop])\n",
    "        backs = [checkpoint, early_stop]\n",
    "        val_loss = history.history['val_loss']\n",
    "        loss = history.history['loss']\n",
    "        score = model.evaluate(x_test, y_test)\n",
    "        results.append([val_loss, loss, score[0], score[1]])\n",
    "    return results"
   ]
  },
  {
   "cell_type": "code",
   "execution_count": 66,
   "metadata": {},
   "outputs": [],
   "source": [
    "fourth_model = Sequential()\n",
    "fourth_model.add(Dense(6, input_dim = 150, activation = 'relu'))\n",
    "fourth_model.add(Dropout(0.2))\n",
    "fourth_model.add(Dense(10, activation = 'linear'))\n",
    "fourth_model.add(Dense(1, activation = 'softmax'))\n",
    "opt = optimizers.SGD(learning_rate = 0.1, momentum = 0, nesterov = True)\n",
    "fourth_model.compile(loss = 'binary_crossentropy', optimizer = 'adam', metrics = ['accuracy'])\n",
    "\n",
    "inp = Input(shape = (max_len, ))\n",
    "layer = Embedding(num_words, emb_size)(inp)\n",
    "layer = Bidirectional(LSTM(50, return_sequences = True, recurrent_dropout = 0.1))(layer)\n",
    "\n",
    "layer = GlobalMaxPool1D()(layer)\n",
    "layer = Dropout(0.2)(layer)\n",
    "\n",
    "layer = Dense(50, activation = 'relu')(layer)\n",
    "layer = Dropout(0.2)(layer)\n",
    "layer = Dense(50, activation = 'relu')(layer)\n",
    "layer = Dropout(0.2)(layer)\n",
    "layer = Dense(50, activation = 'relu')(layer)\n",
    "layer = Dropout(0.2)(layer)\n",
    "\n",
    "layer = Dense(1, activation = 'softmax')(layer)\n",
    "third_model = Model(inputs = inp, outputs = layer)\n",
    "third_model.compile(loss = 'binary_crossentropy', optimizer = 'nadam', metrics = ['accuracy'])"
   ]
  },
  {
   "cell_type": "code",
   "execution_count": 67,
   "metadata": {},
   "outputs": [
    {
     "name": "stdout",
     "output_type": "stream",
     "text": [
      "Model: \"model_3\"\n",
      "_________________________________________________________________\n",
      "Layer (type)                 Output Shape              Param #   \n",
      "=================================================================\n",
      "input_3 (InputLayer)         (None, 150)               0         \n",
      "_________________________________________________________________\n",
      "embedding_3 (Embedding)      (None, 150, 128)          2560000   \n",
      "_________________________________________________________________\n",
      "bidirectional_3 (Bidirection (None, 150, 100)          71600     \n",
      "_________________________________________________________________\n",
      "global_max_pooling1d_3 (Glob (None, 100)               0         \n",
      "_________________________________________________________________\n",
      "dropout_12 (Dropout)         (None, 100)               0         \n",
      "_________________________________________________________________\n",
      "dense_15 (Dense)             (None, 50)                5050      \n",
      "_________________________________________________________________\n",
      "dropout_13 (Dropout)         (None, 50)                0         \n",
      "_________________________________________________________________\n",
      "dense_16 (Dense)             (None, 50)                2550      \n",
      "_________________________________________________________________\n",
      "dropout_14 (Dropout)         (None, 50)                0         \n",
      "_________________________________________________________________\n",
      "dense_17 (Dense)             (None, 50)                2550      \n",
      "_________________________________________________________________\n",
      "dropout_15 (Dropout)         (None, 50)                0         \n",
      "_________________________________________________________________\n",
      "dense_18 (Dense)             (None, 1)                 51        \n",
      "=================================================================\n",
      "Total params: 2,641,801\n",
      "Trainable params: 2,641,801\n",
      "Non-trainable params: 0\n",
      "_________________________________________________________________\n"
     ]
    }
   ],
   "source": [
    "third_model.summary()"
   ]
  },
  {
   "cell_type": "code",
   "execution_count": 68,
   "metadata": {},
   "outputs": [
    {
     "name": "stderr",
     "output_type": "stream",
     "text": [
      "C:\\ProgramData\\Anaconda3\\lib\\site-packages\\tensorflow_core\\python\\framework\\indexed_slices.py:433: UserWarning: Converting sparse IndexedSlices to a dense Tensor of unknown shape. This may consume a large amount of memory.\n",
      "  \"Converting sparse IndexedSlices to a dense Tensor of unknown shape. \"\n"
     ]
    },
    {
     "name": "stdout",
     "output_type": "stream",
     "text": [
      "Train on 19440 samples, validate on 2160 samples\n",
      "Epoch 1/3\n",
      "19440/19440 [==============================] - 64s 3ms/step - loss: 9.6117 - accuracy: 0.3731 - val_loss: 9.4178 - val_accuracy: 0.3824\n",
      "Epoch 2/3\n",
      "19440/19440 [==============================] - 62s 3ms/step - loss: 9.6117 - accuracy: 0.3731 - val_loss: 9.4178 - val_accuracy: 0.3824\n",
      "Epoch 3/3\n",
      "19440/19440 [==============================] - 63s 3ms/step - loss: 9.6117 - accuracy: 0.3731 - val_loss: 9.4178 - val_accuracy: 0.3824\n",
      "2400/2400 [==============================] - 1s 548us/step\n",
      "Train on 19440 samples, validate on 2160 samples\n",
      "Epoch 1/3\n",
      "19440/19440 [==============================] - 63s 3ms/step - loss: 9.5967 - accuracy: 0.3741 - val_loss: 9.3119 - val_accuracy: 0.3894\n",
      "Epoch 2/3\n",
      "19440/19440 [==============================] - 62s 3ms/step - loss: 9.5967 - accuracy: 0.3741 - val_loss: 9.3119 - val_accuracy: 0.3894\n",
      "2400/2400 [==============================] - 1s 540us/step\n",
      "Train on 19440 samples, validate on 2160 samples\n",
      "Epoch 1/3\n",
      "19440/19440 [==============================] - 64s 3ms/step - loss: 9.5770 - accuracy: 0.3754 - val_loss: 9.2978 - val_accuracy: 0.3903\n",
      "Epoch 2/3\n",
      "19440/19440 [==============================] - 61s 3ms/step - loss: 9.5770 - accuracy: 0.3754 - val_loss: 9.2978 - val_accuracy: 0.3903\n",
      "2400/2400 [==============================] - 1s 528us/step\n",
      "Train on 19440 samples, validate on 2160 samples\n",
      "Epoch 1/3\n",
      "19440/19440 [==============================] - 63s 3ms/step - loss: 9.6117 - accuracy: 0.3731 - val_loss: 9.3331 - val_accuracy: 0.3880\n",
      "Epoch 2/3\n",
      "19440/19440 [==============================] - 63s 3ms/step - loss: 9.6117 - accuracy: 0.3731 - val_loss: 9.3331 - val_accuracy: 0.3880\n",
      "Epoch 3/3\n",
      "19440/19440 [==============================] - 62s 3ms/step - loss: 9.6117 - accuracy: 0.3731 - val_loss: 9.3331 - val_accuracy: 0.3880\n",
      "2400/2400 [==============================] - 1s 537us/step\n",
      "Train on 19440 samples, validate on 2160 samples\n",
      "Epoch 1/3\n",
      "19440/19440 [==============================] - 62s 3ms/step - loss: 9.6156 - accuracy: 0.3729 - val_loss: 9.4178 - val_accuracy: 0.3824\n",
      "Epoch 2/3\n",
      "19440/19440 [==============================] - 62s 3ms/step - loss: 9.6156 - accuracy: 0.3729 - val_loss: 9.4178 - val_accuracy: 0.3824\n",
      "Epoch 3/3\n",
      "19440/19440 [==============================] - 61s 3ms/step - loss: 9.6156 - accuracy: 0.3729 - val_loss: 9.4178 - val_accuracy: 0.3824\n",
      "2400/2400 [==============================] - 1s 529us/step\n",
      "Train on 19440 samples, validate on 2160 samples\n",
      "Epoch 1/3\n",
      "19440/19440 [==============================] - 62s 3ms/step - loss: 9.6132 - accuracy: 0.3730 - val_loss: 9.3049 - val_accuracy: 0.3898\n",
      "Epoch 2/3\n",
      "19440/19440 [==============================] - 61s 3ms/step - loss: 9.6132 - accuracy: 0.3730 - val_loss: 9.3049 - val_accuracy: 0.3898\n",
      "2400/2400 [==============================] - 1s 528us/step\n",
      "Train on 19440 samples, validate on 2160 samples\n",
      "Epoch 1/3\n",
      "19440/19440 [==============================] - 62s 3ms/step - loss: 9.6251 - accuracy: 0.3723 - val_loss: 9.3119 - val_accuracy: 0.3894\n",
      "Epoch 2/3\n",
      "19440/19440 [==============================] - 61s 3ms/step - loss: 9.6251 - accuracy: 0.3723 - val_loss: 9.3119 - val_accuracy: 0.3894\n",
      "2400/2400 [==============================] - 1s 517us/step\n",
      "Train on 19440 samples, validate on 2160 samples\n",
      "Epoch 1/3\n",
      "19440/19440 [==============================] - 62s 3ms/step - loss: 9.5935 - accuracy: 0.3743 - val_loss: 9.2484 - val_accuracy: 0.3935\n",
      "Epoch 2/3\n",
      "19440/19440 [==============================] - 61s 3ms/step - loss: 9.5935 - accuracy: 0.3743 - val_loss: 9.2484 - val_accuracy: 0.3935\n",
      "2400/2400 [==============================] - 1s 510us/step\n",
      "Train on 19440 samples, validate on 2160 samples\n",
      "Epoch 1/3\n",
      "19440/19440 [==============================] - 62s 3ms/step - loss: 9.5864 - accuracy: 0.3748 - val_loss: 9.3543 - val_accuracy: 0.3866\n",
      "Epoch 2/3\n",
      "19440/19440 [==============================] - 61s 3ms/step - loss: 9.5864 - accuracy: 0.3748 - val_loss: 9.3543 - val_accuracy: 0.3866\n",
      "2400/2400 [==============================] - 1s 512us/step\n",
      "Train on 19440 samples, validate on 2160 samples\n",
      "Epoch 1/3\n",
      "19440/19440 [==============================] - 62s 3ms/step - loss: 9.6203 - accuracy: 0.3726 - val_loss: 9.3543 - val_accuracy: 0.3866\n",
      "Epoch 2/3\n",
      "19440/19440 [==============================] - 62s 3ms/step - loss: 9.6203 - accuracy: 0.3726 - val_loss: 9.3543 - val_accuracy: 0.3866\n",
      "2400/2400 [==============================] - 1s 523us/step\n",
      "Train on 19440 samples, validate on 2160 samples\n",
      "Epoch 1/3\n",
      "19440/19440 [==============================] - 1s 33us/step - loss: 9.5880 - accuracy: 0.3747 - val_loss: 9.2272 - val_accuracy: 0.3949\n",
      "Epoch 2/3\n",
      "19440/19440 [==============================] - 1s 27us/step - loss: 9.5880 - accuracy: 0.3747 - val_loss: 9.2272 - val_accuracy: 0.3949\n",
      "Epoch 3/3\n",
      "19440/19440 [==============================] - 1s 27us/step - loss: 9.5880 - accuracy: 0.3747 - val_loss: 9.2272 - val_accuracy: 0.3949\n",
      "2400/2400 [==============================] - 0s 10us/step\n",
      "Train on 19440 samples, validate on 2160 samples\n",
      "Epoch 1/3\n",
      "19440/19440 [==============================] - 1s 27us/step - loss: 9.6077 - accuracy: 0.3734 - val_loss: 9.2837 - val_accuracy: 0.3912\n",
      "Epoch 2/3\n",
      "19440/19440 [==============================] - 1s 26us/step - loss: 9.6077 - accuracy: 0.3734 - val_loss: 9.2837 - val_accuracy: 0.3912\n",
      "2400/2400 [==============================] - 0s 12us/step\n",
      "Train on 19440 samples, validate on 2160 samples\n",
      "Epoch 1/3\n",
      "19440/19440 [==============================] - 1s 26us/step - loss: 9.5888 - accuracy: 0.3746 - val_loss: 9.2907 - val_accuracy: 0.3907\n",
      "Epoch 2/3\n",
      "19440/19440 [==============================] - 1s 26us/step - loss: 9.5888 - accuracy: 0.3746 - val_loss: 9.2907 - val_accuracy: 0.3907\n",
      "2400/2400 [==============================] - 0s 11us/step\n",
      "Train on 19440 samples, validate on 2160 samples\n",
      "Epoch 1/3\n",
      "19440/19440 [==============================] - 1s 26us/step - loss: 9.6243 - accuracy: 0.3723 - val_loss: 9.3260 - val_accuracy: 0.3884\n",
      "Epoch 2/3\n",
      "19440/19440 [==============================] - 1s 26us/step - loss: 9.6243 - accuracy: 0.3723 - val_loss: 9.3260 - val_accuracy: 0.3884\n",
      "2400/2400 [==============================] - 0s 11us/step\n",
      "Train on 19440 samples, validate on 2160 samples\n",
      "Epoch 1/3\n",
      "19440/19440 [==============================] - 1s 26us/step - loss: 9.5722 - accuracy: 0.3757 - val_loss: 9.4249 - val_accuracy: 0.3819\n",
      "Epoch 2/3\n",
      "19440/19440 [==============================] - 1s 29us/step - loss: 9.5722 - accuracy: 0.3757 - val_loss: 9.4249 - val_accuracy: 0.3819\n",
      "Epoch 3/3\n",
      "19440/19440 [==============================] - 1s 28us/step - loss: 9.5722 - accuracy: 0.3757 - val_loss: 9.4249 - val_accuracy: 0.3819\n",
      "2400/2400 [==============================] - 0s 11us/step\n",
      "Train on 19440 samples, validate on 2160 samples\n",
      "Epoch 1/3\n",
      "19440/19440 [==============================] - 1s 28us/step - loss: 9.6006 - accuracy: 0.3739 - val_loss: 9.3613 - val_accuracy: 0.3861\n",
      "Epoch 2/3\n",
      "19440/19440 [==============================] - 1s 27us/step - loss: 9.6006 - accuracy: 0.3739 - val_loss: 9.3613 - val_accuracy: 0.3861\n",
      "Epoch 3/3\n",
      "19440/19440 [==============================] - 1s 26us/step - loss: 9.6006 - accuracy: 0.3739 - val_loss: 9.3613 - val_accuracy: 0.3861\n",
      "2400/2400 [==============================] - ETA:  - 0s 11us/step\n",
      "Train on 19440 samples, validate on 2160 samples\n",
      "Epoch 1/3\n",
      "19440/19440 [==============================] - 1s 27us/step - loss: 9.6156 - accuracy: 0.3729 - val_loss: 9.3402 - val_accuracy: 0.3875\n",
      "Epoch 2/3\n",
      "19440/19440 [==============================] - 1s 27us/step - loss: 9.6156 - accuracy: 0.3729 - val_loss: 9.3402 - val_accuracy: 0.3875\n",
      "Epoch 3/3\n",
      "19440/19440 [==============================] - 1s 27us/step - loss: 9.6156 - accuracy: 0.3729 - val_loss: 9.3402 - val_accuracy: 0.3875\n",
      "2400/2400 [==============================] - 0s 11us/step\n",
      "Train on 19440 samples, validate on 2160 samples\n",
      "Epoch 1/3\n",
      "19440/19440 [==============================] - 1s 27us/step - loss: 9.5998 - accuracy: 0.3739 - val_loss: 9.3260 - val_accuracy: 0.3884\n",
      "Epoch 2/3\n",
      "19440/19440 [==============================] - 1s 28us/step - loss: 9.5998 - accuracy: 0.3739 - val_loss: 9.3260 - val_accuracy: 0.3884\n",
      "Epoch 3/3\n",
      "19440/19440 [==============================] - 1s 27us/step - loss: 9.5998 - accuracy: 0.3739 - val_loss: 9.3260 - val_accuracy: 0.3884\n",
      "2400/2400 [==============================] - 0s 11us/step\n",
      "Train on 19440 samples, validate on 2160 samples\n",
      "Epoch 1/3\n",
      "19440/19440 [==============================] - 1s 26us/step - loss: 9.6345 - accuracy: 0.3717 - val_loss: 9.3331 - val_accuracy: 0.3880\n",
      "Epoch 2/3\n",
      "19440/19440 [==============================] - 1s 26us/step - loss: 9.6345 - accuracy: 0.3717 - val_loss: 9.3331 - val_accuracy: 0.3880\n",
      "Epoch 3/3\n",
      "19440/19440 [==============================] - 1s 28us/step - loss: 9.6345 - accuracy: 0.3717 - val_loss: 9.3331 - val_accuracy: 0.3880\n",
      "2400/2400 [==============================] - 0s 10us/step\n",
      "Train on 19440 samples, validate on 2160 samples\n",
      "Epoch 1/3\n",
      "19440/19440 [==============================] - 1s 26us/step - loss: 9.6235 - accuracy: 0.3724 - val_loss: 9.4037 - val_accuracy: 0.3833\n",
      "Epoch 2/3\n",
      "19440/19440 [==============================] - 1s 26us/step - loss: 9.6235 - accuracy: 0.3724 - val_loss: 9.4037 - val_accuracy: 0.3833\n",
      "Epoch 3/3\n",
      "19440/19440 [==============================] - 1s 27us/step - loss: 9.6235 - accuracy: 0.3724 - val_loss: 9.4037 - val_accuracy: 0.3833\n",
      "2400/2400 [==============================] - 0s 11us/step\n"
     ]
    }
   ],
   "source": [
    "results_3 = test_model_kfold(third_model)\n",
    "results_4 = test_model_kfold(fourth_model)"
   ]
  },
  {
   "cell_type": "code",
   "execution_count": 69,
   "metadata": {},
   "outputs": [
    {
     "name": "stdout",
     "output_type": "stream",
     "text": [
      "test accuracy 0.38333332538604736\n",
      "test accuracy 0.3595833480358124\n",
      "\n",
      "test accuracy 0.36916667222976685\n",
      "test accuracy 0.3733333349227905\n",
      "\n",
      "test accuracy 0.3579166531562805\n",
      "test accuracy 0.36375001072883606\n",
      "\n",
      "test accuracy 0.37833333015441895\n",
      "test accuracy 0.38458332419395447\n",
      "\n",
      "test accuracy 0.3854166567325592\n",
      "test accuracy 0.3629166781902313\n",
      "\n",
      "test accuracy 0.3774999976158142\n",
      "test accuracy 0.37416666746139526\n",
      "\n",
      "test accuracy 0.3841666579246521\n",
      "test accuracy 0.38083332777023315\n",
      "\n",
      "test accuracy 0.36375001072883606\n",
      "test accuracy 0.37166666984558105\n",
      "\n",
      "test accuracy 0.36625000834465027\n",
      "test accuracy 0.3904166519641876\n",
      "\n"
     ]
    }
   ],
   "source": [
    "for i in range(1,10):\n",
    "    #print('validation loss: ',results[i][0][-1])\n",
    "    #print('training loss: ',results[i][1][-1])\n",
    "    #print('test loss: ',results[i][2])\n",
    "    print('test accuracy',results_3[i][3])\n",
    "    print('test accuracy',results_4[i][3])\n",
    "    print()"
   ]
  },
  {
   "cell_type": "markdown",
   "metadata": {},
   "source": [
    "# To test the models, I pulled more recent data and tested it\n",
    "I found the code for doing this on https://github.com/lukefeilberg/onion/blob/f5643ffb7619ec80e51dac6b32ea17bbdc0fc8de/Onion.ipynb"
   ]
  },
  {
   "cell_type": "code",
   "execution_count": 70,
   "metadata": {},
   "outputs": [],
   "source": [
    "import seaborn as sns\n",
    "import warnings\n",
    "import re\n",
    "import time\n",
    "import requests\n",
    "import json\n",
    "import csv\n",
    "import datetime\n",
    "import tensorflow as tf\n",
    "\n",
    "from tensorflow import keras\n",
    "from tensorflow.keras import layers\n",
    "\n",
    "warnings.filterwarnings('ignore')"
   ]
  },
  {
   "cell_type": "code",
   "execution_count": 71,
   "metadata": {},
   "outputs": [
    {
     "data": {
      "text/plain": [
       "['01/01/2010',\n",
       " '01/06/2010',\n",
       " '01/01/2011',\n",
       " '01/06/2011',\n",
       " '01/01/2012',\n",
       " '01/06/2012',\n",
       " '01/01/2013',\n",
       " '01/06/2013',\n",
       " '01/01/2014',\n",
       " '01/06/2014',\n",
       " '01/01/2015',\n",
       " '01/06/2015',\n",
       " '01/01/2016',\n",
       " '01/06/2016',\n",
       " '01/01/2017',\n",
       " '01/06/2017',\n",
       " '01/01/2018',\n",
       " '01/06/2018',\n",
       " '01/01/2019',\n",
       " '01/06/2019',\n",
       " '01/01/2020']"
      ]
     },
     "execution_count": 71,
     "metadata": {},
     "output_type": "execute_result"
    }
   ],
   "source": [
    "dates_list = []\n",
    "\n",
    "for i in range(10,21):\n",
    "    dates_list.append('01/01/20'+str(i))\n",
    "    dates_list.append('01/06/20'+str(i))\n",
    "    \n",
    "dates_list.pop()\n",
    "dates_list"
   ]
  },
  {
   "cell_type": "code",
   "execution_count": 72,
   "metadata": {},
   "outputs": [
    {
     "data": {
      "text/plain": [
       "[1262304000,\n",
       " 1275346800,\n",
       " 1293840000,\n",
       " 1306882800,\n",
       " 1325376000,\n",
       " 1338505200,\n",
       " 1356998400,\n",
       " 1370041200,\n",
       " 1388534400,\n",
       " 1401577200,\n",
       " 1420070400,\n",
       " 1433113200,\n",
       " 1451606400,\n",
       " 1464735600,\n",
       " 1483228800,\n",
       " 1496271600,\n",
       " 1514764800,\n",
       " 1527807600,\n",
       " 1546300800,\n",
       " 1559343600,\n",
       " 1577836800]"
      ]
     },
     "execution_count": 72,
     "metadata": {},
     "output_type": "execute_result"
    }
   ],
   "source": [
    "def getTimeStamp(date_input):\n",
    "    return time.mktime(datetime.datetime.strptime(date_input, \"%d/%m/%Y\").timetuple())\n",
    "\n",
    "dates = [int(getTimeStamp(date)) for date in dates_list]\n",
    "dates"
   ]
  },
  {
   "cell_type": "code",
   "execution_count": 73,
   "metadata": {},
   "outputs": [],
   "source": [
    "def getPushshiftData(after, before, sub):\n",
    "    url = ('https://api.pushshift.io/reddit/search/submission/?size=1000&after='+\n",
    "           str(after)+'&before='+str(before)+'&subreddit='+str(sub)+'&sort_type=score'+'&sort=desc')\n",
    "    print(url)\n",
    "    r = requests.get(url)\n",
    "    data = json.loads(r.text)\n",
    "    return data['data']"
   ]
  },
  {
   "cell_type": "code",
   "execution_count": 74,
   "metadata": {},
   "outputs": [
    {
     "name": "stdout",
     "output_type": "stream",
     "text": [
      "https://api.pushshift.io/reddit/search/submission/?size=1000&after=1262304000&before=1275346800&subreddit=nottheonion&sort_type=score&sort=desc\n",
      "https://api.pushshift.io/reddit/search/submission/?size=1000&after=1275346800&before=1293840000&subreddit=nottheonion&sort_type=score&sort=desc\n",
      "https://api.pushshift.io/reddit/search/submission/?size=1000&after=1293840000&before=1306882800&subreddit=nottheonion&sort_type=score&sort=desc\n",
      "https://api.pushshift.io/reddit/search/submission/?size=1000&after=1306882800&before=1325376000&subreddit=nottheonion&sort_type=score&sort=desc\n",
      "https://api.pushshift.io/reddit/search/submission/?size=1000&after=1325376000&before=1338505200&subreddit=nottheonion&sort_type=score&sort=desc\n",
      "https://api.pushshift.io/reddit/search/submission/?size=1000&after=1338505200&before=1356998400&subreddit=nottheonion&sort_type=score&sort=desc\n",
      "https://api.pushshift.io/reddit/search/submission/?size=1000&after=1356998400&before=1370041200&subreddit=nottheonion&sort_type=score&sort=desc\n",
      "https://api.pushshift.io/reddit/search/submission/?size=1000&after=1370041200&before=1388534400&subreddit=nottheonion&sort_type=score&sort=desc\n",
      "https://api.pushshift.io/reddit/search/submission/?size=1000&after=1388534400&before=1401577200&subreddit=nottheonion&sort_type=score&sort=desc\n",
      "https://api.pushshift.io/reddit/search/submission/?size=1000&after=1401577200&before=1420070400&subreddit=nottheonion&sort_type=score&sort=desc\n",
      "https://api.pushshift.io/reddit/search/submission/?size=1000&after=1420070400&before=1433113200&subreddit=nottheonion&sort_type=score&sort=desc\n",
      "https://api.pushshift.io/reddit/search/submission/?size=1000&after=1433113200&before=1451606400&subreddit=nottheonion&sort_type=score&sort=desc\n",
      "https://api.pushshift.io/reddit/search/submission/?size=1000&after=1451606400&before=1464735600&subreddit=nottheonion&sort_type=score&sort=desc\n",
      "https://api.pushshift.io/reddit/search/submission/?size=1000&after=1464735600&before=1483228800&subreddit=nottheonion&sort_type=score&sort=desc\n",
      "https://api.pushshift.io/reddit/search/submission/?size=1000&after=1483228800&before=1496271600&subreddit=nottheonion&sort_type=score&sort=desc\n",
      "https://api.pushshift.io/reddit/search/submission/?size=1000&after=1496271600&before=1514764800&subreddit=nottheonion&sort_type=score&sort=desc\n",
      "https://api.pushshift.io/reddit/search/submission/?size=1000&after=1514764800&before=1527807600&subreddit=nottheonion&sort_type=score&sort=desc\n",
      "https://api.pushshift.io/reddit/search/submission/?size=1000&after=1527807600&before=1546300800&subreddit=nottheonion&sort_type=score&sort=desc\n",
      "https://api.pushshift.io/reddit/search/submission/?size=1000&after=1546300800&before=1559343600&subreddit=nottheonion&sort_type=score&sort=desc\n",
      "https://api.pushshift.io/reddit/search/submission/?size=1000&after=1559343600&before=1577836800&subreddit=nottheonion&sort_type=score&sort=desc\n",
      "https://api.pushshift.io/reddit/search/submission/?size=1000&after=1262304000&before=1275346800&subreddit=theonion&sort_type=score&sort=desc\n",
      "https://api.pushshift.io/reddit/search/submission/?size=1000&after=1275346800&before=1293840000&subreddit=theonion&sort_type=score&sort=desc\n",
      "https://api.pushshift.io/reddit/search/submission/?size=1000&after=1293840000&before=1306882800&subreddit=theonion&sort_type=score&sort=desc\n",
      "https://api.pushshift.io/reddit/search/submission/?size=1000&after=1306882800&before=1325376000&subreddit=theonion&sort_type=score&sort=desc\n",
      "https://api.pushshift.io/reddit/search/submission/?size=1000&after=1325376000&before=1338505200&subreddit=theonion&sort_type=score&sort=desc\n",
      "https://api.pushshift.io/reddit/search/submission/?size=1000&after=1338505200&before=1356998400&subreddit=theonion&sort_type=score&sort=desc\n",
      "https://api.pushshift.io/reddit/search/submission/?size=1000&after=1356998400&before=1370041200&subreddit=theonion&sort_type=score&sort=desc\n",
      "https://api.pushshift.io/reddit/search/submission/?size=1000&after=1370041200&before=1388534400&subreddit=theonion&sort_type=score&sort=desc\n",
      "https://api.pushshift.io/reddit/search/submission/?size=1000&after=1388534400&before=1401577200&subreddit=theonion&sort_type=score&sort=desc\n",
      "https://api.pushshift.io/reddit/search/submission/?size=1000&after=1401577200&before=1420070400&subreddit=theonion&sort_type=score&sort=desc\n",
      "https://api.pushshift.io/reddit/search/submission/?size=1000&after=1420070400&before=1433113200&subreddit=theonion&sort_type=score&sort=desc\n",
      "https://api.pushshift.io/reddit/search/submission/?size=1000&after=1433113200&before=1451606400&subreddit=theonion&sort_type=score&sort=desc\n",
      "https://api.pushshift.io/reddit/search/submission/?size=1000&after=1451606400&before=1464735600&subreddit=theonion&sort_type=score&sort=desc\n",
      "https://api.pushshift.io/reddit/search/submission/?size=1000&after=1464735600&before=1483228800&subreddit=theonion&sort_type=score&sort=desc\n",
      "https://api.pushshift.io/reddit/search/submission/?size=1000&after=1483228800&before=1496271600&subreddit=theonion&sort_type=score&sort=desc\n",
      "https://api.pushshift.io/reddit/search/submission/?size=1000&after=1496271600&before=1514764800&subreddit=theonion&sort_type=score&sort=desc\n",
      "https://api.pushshift.io/reddit/search/submission/?size=1000&after=1514764800&before=1527807600&subreddit=theonion&sort_type=score&sort=desc\n",
      "https://api.pushshift.io/reddit/search/submission/?size=1000&after=1527807600&before=1546300800&subreddit=theonion&sort_type=score&sort=desc\n",
      "https://api.pushshift.io/reddit/search/submission/?size=1000&after=1546300800&before=1559343600&subreddit=theonion&sort_type=score&sort=desc\n",
      "https://api.pushshift.io/reddit/search/submission/?size=1000&after=1559343600&before=1577836800&subreddit=theonion&sort_type=score&sort=desc\n"
     ]
    }
   ],
   "source": [
    "def getTitles(subreddit):\n",
    "    titles_new = []\n",
    "    titles = []\n",
    "    \n",
    "    for i in range(len(dates)-1):\n",
    "        after = dates[i]\n",
    "        before = dates[i+1]\n",
    "        \n",
    "        raw_json = getPushshiftData(after, before, subreddit)\n",
    "        \n",
    "        titles_new = [post['title'] for post in raw_json]\n",
    "        \n",
    "        titles = titles + titles_new\n",
    "        \n",
    "    titles = list(set(titles))\n",
    "    return titles\n",
    "\n",
    "not_onion = getTitles('nottheonion')\n",
    "onion = getTitles('theonion')\n",
    "\n",
    "onion = onion[:9000]\n",
    "not_onion = not_onion[:15000]"
   ]
  },
  {
   "cell_type": "code",
   "execution_count": 75,
   "metadata": {},
   "outputs": [
    {
     "data": {
      "text/html": [
       "<div>\n",
       "<style scoped>\n",
       "    .dataframe tbody tr th:only-of-type {\n",
       "        vertical-align: middle;\n",
       "    }\n",
       "\n",
       "    .dataframe tbody tr th {\n",
       "        vertical-align: top;\n",
       "    }\n",
       "\n",
       "    .dataframe thead th {\n",
       "        text-align: right;\n",
       "    }\n",
       "</style>\n",
       "<table border=\"1\" class=\"dataframe\">\n",
       "  <thead>\n",
       "    <tr style=\"text-align: right;\">\n",
       "      <th></th>\n",
       "      <th>text</th>\n",
       "      <th>label</th>\n",
       "    </tr>\n",
       "  </thead>\n",
       "  <tbody>\n",
       "    <tr>\n",
       "      <td>0</td>\n",
       "      <td>\"Teacher Fired for Refusing to Make Students B...</td>\n",
       "      <td>0</td>\n",
       "    </tr>\n",
       "    <tr>\n",
       "      <td>1</td>\n",
       "      <td>Nearly 40% of 2019 farm income will come from ...</td>\n",
       "      <td>0</td>\n",
       "    </tr>\n",
       "    <tr>\n",
       "      <td>2</td>\n",
       "      <td>Indiana Child to Ted Cruz: 'You Suck'</td>\n",
       "      <td>0</td>\n",
       "    </tr>\n",
       "    <tr>\n",
       "      <td>3</td>\n",
       "      <td>Turkey clears bird of spying for Israel</td>\n",
       "      <td>0</td>\n",
       "    </tr>\n",
       "    <tr>\n",
       "      <td>4</td>\n",
       "      <td>Realtor Was Not Expecting Such Hard-Hitting Qu...</td>\n",
       "      <td>1</td>\n",
       "    </tr>\n",
       "  </tbody>\n",
       "</table>\n",
       "</div>"
      ],
      "text/plain": [
       "                                                text  label\n",
       "0  \"Teacher Fired for Refusing to Make Students B...      0\n",
       "1  Nearly 40% of 2019 farm income will come from ...      0\n",
       "2              Indiana Child to Ted Cruz: 'You Suck'      0\n",
       "3            Turkey clears bird of spying for Israel      0\n",
       "4  Realtor Was Not Expecting Such Hard-Hitting Qu...      1"
      ]
     },
     "execution_count": 75,
     "metadata": {},
     "output_type": "execute_result"
    }
   ],
   "source": [
    "df1 = pd.DataFrame({'text':onion})\n",
    "df1['label'] = 1\n",
    "\n",
    "df2 = pd.DataFrame({'text':not_onion})\n",
    "df2['label'] = 0\n",
    "\n",
    "df = pd.concat([df1,df2])\n",
    "\n",
    "df = df.sample(frac=1).reset_index(drop=True)\n",
    "\n",
    "df.to_csv('NewOnionOrNot.csv', index = False)\n",
    "\n",
    "#df['text'] = df['text'].str.lower()\n",
    "#df['text'] = df['text'].str.replace(r'&amp;', 'and')\n",
    "#df['text'] = df['text'].str.replace(r'-', ' ')\n",
    "#df['text'] = df['text'].str.replace(r'[^\\s\\w]', '')\n",
    "\n",
    "#df.to_csv('NewOnionOrNotClean.csv')\n",
    "\n",
    "df.head()"
   ]
  },
  {
   "cell_type": "code",
   "execution_count": 76,
   "metadata": {},
   "outputs": [],
   "source": [
    "new_test_data = pd.read_csv('/OneDrive/Documents/GitHub/ArtificialIntelligence/NewOnionOrNot.csv')"
   ]
  },
  {
   "cell_type": "code",
   "execution_count": 77,
   "metadata": {},
   "outputs": [
    {
     "data": {
      "text/html": [
       "<div>\n",
       "<style scoped>\n",
       "    .dataframe tbody tr th:only-of-type {\n",
       "        vertical-align: middle;\n",
       "    }\n",
       "\n",
       "    .dataframe tbody tr th {\n",
       "        vertical-align: top;\n",
       "    }\n",
       "\n",
       "    .dataframe thead th {\n",
       "        text-align: right;\n",
       "    }\n",
       "</style>\n",
       "<table border=\"1\" class=\"dataframe\">\n",
       "  <thead>\n",
       "    <tr style=\"text-align: right;\">\n",
       "      <th></th>\n",
       "      <th>text</th>\n",
       "      <th>label</th>\n",
       "    </tr>\n",
       "  </thead>\n",
       "  <tbody>\n",
       "    <tr>\n",
       "      <td>0</td>\n",
       "      <td>\"Teacher Fired for Refusing to Make Students B...</td>\n",
       "      <td>0</td>\n",
       "    </tr>\n",
       "    <tr>\n",
       "      <td>1</td>\n",
       "      <td>Nearly 40% of 2019 farm income will come from ...</td>\n",
       "      <td>0</td>\n",
       "    </tr>\n",
       "    <tr>\n",
       "      <td>2</td>\n",
       "      <td>Indiana Child to Ted Cruz: 'You Suck'</td>\n",
       "      <td>0</td>\n",
       "    </tr>\n",
       "    <tr>\n",
       "      <td>3</td>\n",
       "      <td>Turkey clears bird of spying for Israel</td>\n",
       "      <td>0</td>\n",
       "    </tr>\n",
       "    <tr>\n",
       "      <td>4</td>\n",
       "      <td>Realtor Was Not Expecting Such Hard-Hitting Qu...</td>\n",
       "      <td>1</td>\n",
       "    </tr>\n",
       "  </tbody>\n",
       "</table>\n",
       "</div>"
      ],
      "text/plain": [
       "                                                text  label\n",
       "0  \"Teacher Fired for Refusing to Make Students B...      0\n",
       "1  Nearly 40% of 2019 farm income will come from ...      0\n",
       "2              Indiana Child to Ted Cruz: 'You Suck'      0\n",
       "3            Turkey clears bird of spying for Israel      0\n",
       "4  Realtor Was Not Expecting Such Hard-Hitting Qu...      1"
      ]
     },
     "execution_count": 77,
     "metadata": {},
     "output_type": "execute_result"
    }
   ],
   "source": [
    "new_test_data.head()"
   ]
  },
  {
   "cell_type": "code",
   "execution_count": 78,
   "metadata": {},
   "outputs": [
    {
     "data": {
      "text/plain": [
       "(24000, 2)"
      ]
     },
     "execution_count": 78,
     "metadata": {},
     "output_type": "execute_result"
    }
   ],
   "source": [
    "new_test_data.shape"
   ]
  },
  {
   "cell_type": "code",
   "execution_count": 79,
   "metadata": {},
   "outputs": [
    {
     "data": {
      "text/plain": [
       "(24000, 2)"
      ]
     },
     "execution_count": 79,
     "metadata": {},
     "output_type": "execute_result"
    }
   ],
   "source": [
    "data.shape"
   ]
  },
  {
   "cell_type": "code",
   "execution_count": 166,
   "metadata": {},
   "outputs": [
    {
     "name": "stdout",
     "output_type": "stream",
     "text": [
      "24000\n",
      "48000\n",
      "998\n",
      "499\n"
     ]
    }
   ],
   "source": [
    "#temp = pd.concat([new_test_data, data])\n",
    "#print(temp['text'].size)\n",
    "#temp.drop_duplicates(keep = False)\n",
    "\n",
    "temp = new_test_data.copy()\n",
    "temp.loc[temp.index.difference(data.index), ]\n",
    "print(temp['text'].size)\n",
    "print(temp.size)\n",
    "\n",
    "#data.loc[data['text'] == '\"Teacher Fired for Refusing to Make Students Buy Pricey Textbooks\"']\n",
    "\n",
    "#if data.loc[data['text'] == temp['text'][0]].empty:\n",
    "    #print('a')\n",
    "#else:\n",
    "    #print('b')\n",
    "\n",
    "temp = pd.DataFrame()\n",
    "    \n",
    "for i in range(new_test_data['text'].size):\n",
    "    if data.loc[data['text'] == new_test_data['text'][i]].empty:\n",
    "        #print(new_test_data.loc[new_test_data['text'] == new_test_data['text'][i]])\n",
    "        temp = temp.append(new_test_data.loc[new_test_data['text'] == new_test_data['text'][i]])\n",
    "        \n",
    "print(temp.size)\n",
    "print(temp['text'].size)"
   ]
  },
  {
   "cell_type": "code",
   "execution_count": 167,
   "metadata": {},
   "outputs": [
    {
     "data": {
      "text/html": [
       "<div>\n",
       "<style scoped>\n",
       "    .dataframe tbody tr th:only-of-type {\n",
       "        vertical-align: middle;\n",
       "    }\n",
       "\n",
       "    .dataframe tbody tr th {\n",
       "        vertical-align: top;\n",
       "    }\n",
       "\n",
       "    .dataframe thead th {\n",
       "        text-align: right;\n",
       "    }\n",
       "</style>\n",
       "<table border=\"1\" class=\"dataframe\">\n",
       "  <thead>\n",
       "    <tr style=\"text-align: right;\">\n",
       "      <th></th>\n",
       "      <th>text</th>\n",
       "      <th>label</th>\n",
       "    </tr>\n",
       "  </thead>\n",
       "  <tbody>\n",
       "    <tr>\n",
       "      <td>23</td>\n",
       "      <td>Teen dies from using too much deodorant</td>\n",
       "      <td>0</td>\n",
       "    </tr>\n",
       "    <tr>\n",
       "      <td>31</td>\n",
       "      <td>Susan Collins had senators in bipartisan meeti...</td>\n",
       "      <td>0</td>\n",
       "    </tr>\n",
       "    <tr>\n",
       "      <td>67</td>\n",
       "      <td>Nudist Community Upset USPS Mail Carrier Won’t...</td>\n",
       "      <td>0</td>\n",
       "    </tr>\n",
       "    <tr>\n",
       "      <td>69</td>\n",
       "      <td>Sober driver arrested for DUI when deputy blow...</td>\n",
       "      <td>0</td>\n",
       "    </tr>\n",
       "    <tr>\n",
       "      <td>123</td>\n",
       "      <td>Devin Nunes Threatens Defamation Lawsuit After...</td>\n",
       "      <td>1</td>\n",
       "    </tr>\n",
       "    <tr>\n",
       "      <td>...</td>\n",
       "      <td>...</td>\n",
       "      <td>...</td>\n",
       "    </tr>\n",
       "    <tr>\n",
       "      <td>23381</td>\n",
       "      <td>Owner of Pho King Good noodle shop says he's n...</td>\n",
       "      <td>0</td>\n",
       "    </tr>\n",
       "    <tr>\n",
       "      <td>23382</td>\n",
       "      <td>Tillerson: 'I didn't want this job ... My wife...</td>\n",
       "      <td>0</td>\n",
       "    </tr>\n",
       "    <tr>\n",
       "      <td>23525</td>\n",
       "      <td>Jerry Springer: Republicans should pay me for ...</td>\n",
       "      <td>0</td>\n",
       "    </tr>\n",
       "    <tr>\n",
       "      <td>23596</td>\n",
       "      <td>Police smell meth, raid home, kill 80 year old...</td>\n",
       "      <td>0</td>\n",
       "    </tr>\n",
       "    <tr>\n",
       "      <td>23683</td>\n",
       "      <td>Teen's Strange Ramen Addiction | Healthy Living</td>\n",
       "      <td>0</td>\n",
       "    </tr>\n",
       "  </tbody>\n",
       "</table>\n",
       "<p>499 rows × 2 columns</p>\n",
       "</div>"
      ],
      "text/plain": [
       "                                                    text  label\n",
       "23               Teen dies from using too much deodorant      0\n",
       "31     Susan Collins had senators in bipartisan meeti...      0\n",
       "67     Nudist Community Upset USPS Mail Carrier Won’t...      0\n",
       "69     Sober driver arrested for DUI when deputy blow...      0\n",
       "123    Devin Nunes Threatens Defamation Lawsuit After...      1\n",
       "...                                                  ...    ...\n",
       "23381  Owner of Pho King Good noodle shop says he's n...      0\n",
       "23382  Tillerson: 'I didn't want this job ... My wife...      0\n",
       "23525  Jerry Springer: Republicans should pay me for ...      0\n",
       "23596  Police smell meth, raid home, kill 80 year old...      0\n",
       "23683    Teen's Strange Ramen Addiction | Healthy Living      0\n",
       "\n",
       "[499 rows x 2 columns]"
      ]
     },
     "execution_count": 167,
     "metadata": {},
     "output_type": "execute_result"
    }
   ],
   "source": [
    "temp"
   ]
  },
  {
   "cell_type": "code",
   "execution_count": 168,
   "metadata": {},
   "outputs": [],
   "source": [
    "temp['text'] = temp['text'].str.replace('[^a-zA-Z]', ' ', regex=True)"
   ]
  },
  {
   "cell_type": "code",
   "execution_count": 169,
   "metadata": {},
   "outputs": [],
   "source": [
    "temp['text'] = temp['text'].str.lower()"
   ]
  },
  {
   "cell_type": "code",
   "execution_count": 170,
   "metadata": {},
   "outputs": [],
   "source": [
    "new_token = Tokenizer(num_words=num_words)"
   ]
  },
  {
   "cell_type": "code",
   "execution_count": 171,
   "metadata": {},
   "outputs": [],
   "source": [
    "new_token.fit_on_texts(list(temp))"
   ]
  },
  {
   "cell_type": "code",
   "execution_count": 172,
   "metadata": {},
   "outputs": [],
   "source": [
    "new_X = new_token.texts_to_sequences(temp)"
   ]
  },
  {
   "cell_type": "code",
   "execution_count": 180,
   "metadata": {},
   "outputs": [],
   "source": [
    "new_X = sequence.pad_sequences(new_X, maxlen = max_len)\n",
    "new_Y = pd.get_dummies(temp['label'])"
   ]
  },
  {
   "cell_type": "code",
   "execution_count": 181,
   "metadata": {},
   "outputs": [],
   "source": [
    "new_Y = new_Y.values"
   ]
  },
  {
   "cell_type": "code",
   "execution_count": 182,
   "metadata": {},
   "outputs": [
    {
     "data": {
      "text/plain": [
       "(24000, 150)"
      ]
     },
     "execution_count": 182,
     "metadata": {},
     "output_type": "execute_result"
    }
   ],
   "source": [
    "X.shape"
   ]
  },
  {
   "cell_type": "code",
   "execution_count": 183,
   "metadata": {},
   "outputs": [
    {
     "data": {
      "text/plain": [
       "(2, 150)"
      ]
     },
     "execution_count": 183,
     "metadata": {},
     "output_type": "execute_result"
    }
   ],
   "source": [
    "new_X.shape"
   ]
  },
  {
   "cell_type": "code",
   "execution_count": 184,
   "metadata": {},
   "outputs": [
    {
     "data": {
      "text/html": [
       "<div>\n",
       "<style scoped>\n",
       "    .dataframe tbody tr th:only-of-type {\n",
       "        vertical-align: middle;\n",
       "    }\n",
       "\n",
       "    .dataframe tbody tr th {\n",
       "        vertical-align: top;\n",
       "    }\n",
       "\n",
       "    .dataframe thead th {\n",
       "        text-align: right;\n",
       "    }\n",
       "</style>\n",
       "<table border=\"1\" class=\"dataframe\">\n",
       "  <thead>\n",
       "    <tr style=\"text-align: right;\">\n",
       "      <th></th>\n",
       "      <th>text</th>\n",
       "      <th>label</th>\n",
       "    </tr>\n",
       "  </thead>\n",
       "  <tbody>\n",
       "    <tr>\n",
       "      <td>23</td>\n",
       "      <td>teen dies from using too much deodorant</td>\n",
       "      <td>0</td>\n",
       "    </tr>\n",
       "    <tr>\n",
       "      <td>31</td>\n",
       "      <td>susan collins had senators in bipartisan meeti...</td>\n",
       "      <td>0</td>\n",
       "    </tr>\n",
       "    <tr>\n",
       "      <td>67</td>\n",
       "      <td>nudist community upset usps mail carrier won t...</td>\n",
       "      <td>0</td>\n",
       "    </tr>\n",
       "    <tr>\n",
       "      <td>69</td>\n",
       "      <td>sober driver arrested for dui when deputy blow...</td>\n",
       "      <td>0</td>\n",
       "    </tr>\n",
       "    <tr>\n",
       "      <td>123</td>\n",
       "      <td>devin nunes threatens defamation lawsuit after...</td>\n",
       "      <td>1</td>\n",
       "    </tr>\n",
       "  </tbody>\n",
       "</table>\n",
       "</div>"
      ],
      "text/plain": [
       "                                                  text  label\n",
       "23             teen dies from using too much deodorant      0\n",
       "31   susan collins had senators in bipartisan meeti...      0\n",
       "67   nudist community upset usps mail carrier won t...      0\n",
       "69   sober driver arrested for dui when deputy blow...      0\n",
       "123  devin nunes threatens defamation lawsuit after...      1"
      ]
     },
     "execution_count": 184,
     "metadata": {},
     "output_type": "execute_result"
    }
   ],
   "source": [
    "temp.head()"
   ]
  },
  {
   "cell_type": "code",
   "execution_count": 185,
   "metadata": {},
   "outputs": [
    {
     "data": {
      "text/plain": [
       "(499, 2)"
      ]
     },
     "execution_count": 185,
     "metadata": {},
     "output_type": "execute_result"
    }
   ],
   "source": [
    "new_Y.shape"
   ]
  },
  {
   "cell_type": "code",
   "execution_count": 186,
   "metadata": {},
   "outputs": [
    {
     "ename": "ValueError",
     "evalue": "Found input variables with inconsistent numbers of samples: [2, 499]",
     "output_type": "error",
     "traceback": [
      "\u001b[1;31m---------------------------------------------------------------------------\u001b[0m",
      "\u001b[1;31mValueError\u001b[0m                                Traceback (most recent call last)",
      "\u001b[1;32m<ipython-input-186-b92d75dd8272>\u001b[0m in \u001b[0;36m<module>\u001b[1;34m\u001b[0m\n\u001b[0;32m      4\u001b[0m \u001b[0mthird_model_test\u001b[0m \u001b[1;33m=\u001b[0m \u001b[0mthird_model\u001b[0m\u001b[1;33m.\u001b[0m\u001b[0mpredict\u001b[0m\u001b[1;33m(\u001b[0m\u001b[0mnew_X\u001b[0m\u001b[1;33m)\u001b[0m\u001b[1;33m\u001b[0m\u001b[1;33m\u001b[0m\u001b[0m\n\u001b[0;32m      5\u001b[0m \u001b[0mfourth_model_test\u001b[0m \u001b[1;33m=\u001b[0m \u001b[0mfourth_model\u001b[0m\u001b[1;33m.\u001b[0m\u001b[0mpredict\u001b[0m\u001b[1;33m(\u001b[0m\u001b[0mnew_X\u001b[0m\u001b[1;33m)\u001b[0m\u001b[1;33m\u001b[0m\u001b[1;33m\u001b[0m\u001b[0m\n\u001b[1;32m----> 6\u001b[1;33m \u001b[0mprint\u001b[0m\u001b[1;33m(\u001b[0m\u001b[0mconfusion_matrix\u001b[0m\u001b[1;33m(\u001b[0m\u001b[0mmodel_test\u001b[0m\u001b[1;33m,\u001b[0m \u001b[0mnew_Y\u001b[0m\u001b[1;33m)\u001b[0m\u001b[1;33m)\u001b[0m\u001b[1;33m\u001b[0m\u001b[1;33m\u001b[0m\u001b[0m\n\u001b[0m\u001b[0;32m      7\u001b[0m \u001b[0mprint\u001b[0m\u001b[1;33m(\u001b[0m\u001b[0mconfusion_matrix\u001b[0m\u001b[1;33m(\u001b[0m\u001b[0mfirst_model_test\u001b[0m\u001b[1;33m,\u001b[0m \u001b[0mnew_Y\u001b[0m\u001b[1;33m)\u001b[0m\u001b[1;33m)\u001b[0m\u001b[1;33m\u001b[0m\u001b[1;33m\u001b[0m\u001b[0m\n\u001b[0;32m      8\u001b[0m \u001b[0mprint\u001b[0m\u001b[1;33m(\u001b[0m\u001b[0mconfusion_matrix\u001b[0m\u001b[1;33m(\u001b[0m\u001b[0msecond_model_test\u001b[0m\u001b[1;33m,\u001b[0m \u001b[0mnew_Y\u001b[0m\u001b[1;33m)\u001b[0m\u001b[1;33m)\u001b[0m\u001b[1;33m\u001b[0m\u001b[1;33m\u001b[0m\u001b[0m\n",
      "\u001b[1;32mC:\\ProgramData\\Anaconda3\\lib\\site-packages\\sklearn\\metrics\\classification.py\u001b[0m in \u001b[0;36mconfusion_matrix\u001b[1;34m(y_true, y_pred, labels, sample_weight)\u001b[0m\n\u001b[0;32m    251\u001b[0m \u001b[1;33m\u001b[0m\u001b[0m\n\u001b[0;32m    252\u001b[0m     \"\"\"\n\u001b[1;32m--> 253\u001b[1;33m     \u001b[0my_type\u001b[0m\u001b[1;33m,\u001b[0m \u001b[0my_true\u001b[0m\u001b[1;33m,\u001b[0m \u001b[0my_pred\u001b[0m \u001b[1;33m=\u001b[0m \u001b[0m_check_targets\u001b[0m\u001b[1;33m(\u001b[0m\u001b[0my_true\u001b[0m\u001b[1;33m,\u001b[0m \u001b[0my_pred\u001b[0m\u001b[1;33m)\u001b[0m\u001b[1;33m\u001b[0m\u001b[1;33m\u001b[0m\u001b[0m\n\u001b[0m\u001b[0;32m    254\u001b[0m     \u001b[1;32mif\u001b[0m \u001b[0my_type\u001b[0m \u001b[1;32mnot\u001b[0m \u001b[1;32min\u001b[0m \u001b[1;33m(\u001b[0m\u001b[1;34m\"binary\"\u001b[0m\u001b[1;33m,\u001b[0m \u001b[1;34m\"multiclass\"\u001b[0m\u001b[1;33m)\u001b[0m\u001b[1;33m:\u001b[0m\u001b[1;33m\u001b[0m\u001b[1;33m\u001b[0m\u001b[0m\n\u001b[0;32m    255\u001b[0m         \u001b[1;32mraise\u001b[0m \u001b[0mValueError\u001b[0m\u001b[1;33m(\u001b[0m\u001b[1;34m\"%s is not supported\"\u001b[0m \u001b[1;33m%\u001b[0m \u001b[0my_type\u001b[0m\u001b[1;33m)\u001b[0m\u001b[1;33m\u001b[0m\u001b[1;33m\u001b[0m\u001b[0m\n",
      "\u001b[1;32mC:\\ProgramData\\Anaconda3\\lib\\site-packages\\sklearn\\metrics\\classification.py\u001b[0m in \u001b[0;36m_check_targets\u001b[1;34m(y_true, y_pred)\u001b[0m\n\u001b[0;32m     69\u001b[0m     \u001b[0my_pred\u001b[0m \u001b[1;33m:\u001b[0m \u001b[0marray\u001b[0m \u001b[1;32mor\u001b[0m \u001b[0mindicator\u001b[0m \u001b[0mmatrix\u001b[0m\u001b[1;33m\u001b[0m\u001b[1;33m\u001b[0m\u001b[0m\n\u001b[0;32m     70\u001b[0m     \"\"\"\n\u001b[1;32m---> 71\u001b[1;33m     \u001b[0mcheck_consistent_length\u001b[0m\u001b[1;33m(\u001b[0m\u001b[0my_true\u001b[0m\u001b[1;33m,\u001b[0m \u001b[0my_pred\u001b[0m\u001b[1;33m)\u001b[0m\u001b[1;33m\u001b[0m\u001b[1;33m\u001b[0m\u001b[0m\n\u001b[0m\u001b[0;32m     72\u001b[0m     \u001b[0mtype_true\u001b[0m \u001b[1;33m=\u001b[0m \u001b[0mtype_of_target\u001b[0m\u001b[1;33m(\u001b[0m\u001b[0my_true\u001b[0m\u001b[1;33m)\u001b[0m\u001b[1;33m\u001b[0m\u001b[1;33m\u001b[0m\u001b[0m\n\u001b[0;32m     73\u001b[0m     \u001b[0mtype_pred\u001b[0m \u001b[1;33m=\u001b[0m \u001b[0mtype_of_target\u001b[0m\u001b[1;33m(\u001b[0m\u001b[0my_pred\u001b[0m\u001b[1;33m)\u001b[0m\u001b[1;33m\u001b[0m\u001b[1;33m\u001b[0m\u001b[0m\n",
      "\u001b[1;32mC:\\ProgramData\\Anaconda3\\lib\\site-packages\\sklearn\\utils\\validation.py\u001b[0m in \u001b[0;36mcheck_consistent_length\u001b[1;34m(*arrays)\u001b[0m\n\u001b[0;32m    203\u001b[0m     \u001b[1;32mif\u001b[0m \u001b[0mlen\u001b[0m\u001b[1;33m(\u001b[0m\u001b[0muniques\u001b[0m\u001b[1;33m)\u001b[0m \u001b[1;33m>\u001b[0m \u001b[1;36m1\u001b[0m\u001b[1;33m:\u001b[0m\u001b[1;33m\u001b[0m\u001b[1;33m\u001b[0m\u001b[0m\n\u001b[0;32m    204\u001b[0m         raise ValueError(\"Found input variables with inconsistent numbers of\"\n\u001b[1;32m--> 205\u001b[1;33m                          \" samples: %r\" % [int(l) for l in lengths])\n\u001b[0m\u001b[0;32m    206\u001b[0m \u001b[1;33m\u001b[0m\u001b[0m\n\u001b[0;32m    207\u001b[0m \u001b[1;33m\u001b[0m\u001b[0m\n",
      "\u001b[1;31mValueError\u001b[0m: Found input variables with inconsistent numbers of samples: [2, 499]"
     ]
    }
   ],
   "source": [
    "model_test = model.predict(new_X)\n",
    "first_model_test = first_model.predict(new_X)\n",
    "second_model_test = second_model.predict(new_X)\n",
    "third_model_test = third_model.predict(new_X)\n",
    "fourth_model_test = fourth_model.predict(new_X)\n",
    "print(confusion_matrix(model_test, new_Y))\n",
    "print(confusion_matrix(first_model_test, new_Y))\n",
    "print(confusion_matrix(second_model_test, new_Y))\n",
    "print(confusion_matrix(third_model_test, new_Y))\n",
    "print(confusion_matrix(fourth_model_test, new_Y))"
   ]
  },
  {
   "cell_type": "code",
   "execution_count": null,
   "metadata": {},
   "outputs": [],
   "source": []
  }
 ],
 "metadata": {
  "kernelspec": {
   "display_name": "Python 3",
   "language": "python",
   "name": "python3"
  },
  "language_info": {
   "codemirror_mode": {
    "name": "ipython",
    "version": 3
   },
   "file_extension": ".py",
   "mimetype": "text/x-python",
   "name": "python",
   "nbconvert_exporter": "python",
   "pygments_lexer": "ipython3",
   "version": "3.7.4"
  }
 },
 "nbformat": 4,
 "nbformat_minor": 2
}
