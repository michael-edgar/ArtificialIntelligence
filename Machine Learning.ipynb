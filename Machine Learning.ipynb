{
 "cells": [
  {
   "cell_type": "code",
   "execution_count": null,
   "metadata": {},
   "outputs": [],
   "source": [
    "#Import modules\n",
    "#SK learn\n",
    "from sklearn.datasets import load_iris\n",
    "from sklearn.datasets import load_boston\n",
    "from sklearn.datasets import load_diabetes\n",
    "from sklearn.datasets import load_breast_cancer\n",
    "from sklearn.model_selection import train_test_split\n",
    "from sklearn.model_selection import KFold\n",
    "from sklearn.metrics import confusion_matrix\n",
    "from sklearn import svm\n",
    "from sklearn import linear_model\n",
    "from sklearn.preprocessing import StandardScaler\n",
    "from sklearn.decomposition import PCA\n",
    "from sklearn.cluster import KMeans\n",
    "import numpy as np\n",
    "import matplotlib.pyplot as plt\n",
    "import statistics"
   ]
  },
  {
   "cell_type": "code",
   "execution_count": null,
   "metadata": {},
   "outputs": [],
   "source": [
    "from keras.models import Sequential\n",
    "from keras.layers import Dense\n",
    "from keras.utils import to_categorical\n",
    "from keras import optimizers\n",
    "# import warnings filter\n",
    "from warnings import simplefilter\n",
    "# ignore all future warnings\n",
    "simplefilter(action='ignore', category=FutureWarning)"
   ]
  },
  {
   "cell_type": "markdown",
   "metadata": {},
   "source": [
    "# Iris SVC KFold"
   ]
  },
  {
   "cell_type": "code",
   "execution_count": null,
   "metadata": {},
   "outputs": [],
   "source": [
    "iris = load_iris()"
   ]
  },
  {
   "cell_type": "code",
   "execution_count": null,
   "metadata": {},
   "outputs": [],
   "source": [
    "X = iris['data']"
   ]
  },
  {
   "cell_type": "code",
   "execution_count": null,
   "metadata": {},
   "outputs": [],
   "source": [
    "#categorical for nn\n",
    "Y = to_categorical(iris['target'])\n",
    "Y2 = iris['target']"
   ]
  },
  {
   "cell_type": "code",
   "execution_count": null,
   "metadata": {},
   "outputs": [],
   "source": [
    "kf = KFold(n_splits=10, shuffle = True)"
   ]
  },
  {
   "cell_type": "code",
   "execution_count": null,
   "metadata": {},
   "outputs": [],
   "source": [
    "clf = svm.SVC(kernel='linear')"
   ]
  },
  {
   "cell_type": "code",
   "execution_count": null,
   "metadata": {},
   "outputs": [],
   "source": [
    "for train_index, test_index in kf.split(X):\n",
    "    X2_train, X2_test = X[train_index], X[test_index]\n",
    "    Y2_train, Y2_test = Y2[train_index], Y2[test_index]\n",
    "    clf.fit(X2_train, Y2_train)\n",
    "    clfTest = clf.predict(X2_test)\n",
    "    print(confusion_matrix(clfTest, Y2_test))\n",
    "    print()"
   ]
  },
  {
   "cell_type": "markdown",
   "metadata": {},
   "source": [
    "# Iris Neural Nets"
   ]
  },
  {
   "cell_type": "code",
   "execution_count": null,
   "metadata": {},
   "outputs": [],
   "source": [
    "X_train, X_test, Y_train, Y_test = train_test_split(X,Y, test_size = 0.3)"
   ]
  },
  {
   "cell_type": "code",
   "execution_count": null,
   "metadata": {},
   "outputs": [],
   "source": [
    "#Model\n",
    "model = Sequential()\n",
    "model.add(Dense(6, input_dim = 13, activation = 'relu'))\n",
    "model.add(Dense(10, activation = 'linear'))\n",
    "model.add(Dense(3, activation = 'softmax'))\n",
    "opt = optimizers.SGD(learning_rate = 0.1, momentum = 0, nesterov = True)\n",
    "model.compile(loss = 'categorical_crossentropy', optimizer = 'adam', metrics = ['accuracy'])\n"
   ]
  },
  {
   "cell_type": "code",
   "execution_count": null,
   "metadata": {},
   "outputs": [],
   "source": [
    "my_model_training = model.fit(X_train, Y_train, validation_data=(X_test, Y_test), epochs = 400)"
   ]
  },
  {
   "cell_type": "code",
   "execution_count": null,
   "metadata": {},
   "outputs": [],
   "source": [
    "plt.plot(my_model_training.history['loss'])"
   ]
  },
  {
   "cell_type": "code",
   "execution_count": null,
   "metadata": {},
   "outputs": [],
   "source": [
    "plt.plot(my_model_training.history['loss'], label='Loss')\n",
    "plt.plot(my_model_training.history['val_loss'], label='Validation Loss')\n",
    "plt.legend()"
   ]
  },
  {
   "cell_type": "code",
   "execution_count": null,
   "metadata": {},
   "outputs": [],
   "source": [
    "plt.plot(my_model_training.history['accuracy'], label='Accuracy')\n",
    "plt.plot(my_model_training.history['val_accuracy'], label='Validation Accuracy')\n",
    "plt.legend()"
   ]
  },
  {
   "cell_type": "code",
   "execution_count": null,
   "metadata": {},
   "outputs": [],
   "source": [
    "y_predicted = model.predict(X_test)\n",
    "Y_predicted = np.argmax(y_predicted, axis = 1)"
   ]
  },
  {
   "cell_type": "code",
   "execution_count": null,
   "metadata": {},
   "outputs": [],
   "source": [
    "y_test = np.argmax(Y_test, axis = 1)"
   ]
  },
  {
   "cell_type": "code",
   "execution_count": null,
   "metadata": {},
   "outputs": [],
   "source": [
    "confusion_matrix(Y_predicted, y_test)"
   ]
  },
  {
   "cell_type": "markdown",
   "metadata": {},
   "source": [
    "# Boston KFold Linear SVR"
   ]
  },
  {
   "cell_type": "code",
   "execution_count": null,
   "metadata": {},
   "outputs": [],
   "source": [
    "boston = load_boston()"
   ]
  },
  {
   "cell_type": "code",
   "execution_count": null,
   "metadata": {},
   "outputs": [],
   "source": [
    "A = boston['data']"
   ]
  },
  {
   "cell_type": "code",
   "execution_count": null,
   "metadata": {},
   "outputs": [],
   "source": [
    "B = boston['target']"
   ]
  },
  {
   "cell_type": "code",
   "execution_count": null,
   "metadata": {},
   "outputs": [],
   "source": [
    "clf2 = svm.SVR(kernel = 'linear')"
   ]
  },
  {
   "cell_type": "code",
   "execution_count": null,
   "metadata": {},
   "outputs": [],
   "source": [
    "kFold = KFold(n_splits = 11, shuffle = True)"
   ]
  },
  {
   "cell_type": "code",
   "execution_count": null,
   "metadata": {},
   "outputs": [],
   "source": [
    "for train_index, test_index in kFold.split(A):\n",
    "    A_train, A_test = A[train_index], A[test_index]\n",
    "    B_train, B_test = B[train_index], B[test_index]\n",
    "    clf2.fit(A_train, B_train)\n",
    "    print(clf2.score(A_test, B_test))\n",
    "    print()"
   ]
  },
  {
   "cell_type": "markdown",
   "metadata": {},
   "source": [
    "# Diabetes KFold Regression (multiplr models)"
   ]
  },
  {
   "cell_type": "code",
   "execution_count": null,
   "metadata": {},
   "outputs": [],
   "source": [
    "diabetes = load_diabetes()"
   ]
  },
  {
   "cell_type": "code",
   "execution_count": null,
   "metadata": {},
   "outputs": [],
   "source": [
    "C, D = diabetes['data'], diabetes['target']"
   ]
  },
  {
   "cell_type": "code",
   "execution_count": null,
   "metadata": {},
   "outputs": [],
   "source": [
    "clf3 = svm.SVR(kernel = 'linear')\n",
    "clf4 = svm.SVR(kernel = 'rbf')\n",
    "reg = linear_model.Ridge(alpha=.5)\n",
    "reg2 = linear_model.Lasso(alpha=0.1)"
   ]
  },
  {
   "cell_type": "code",
   "execution_count": null,
   "metadata": {},
   "outputs": [],
   "source": [
    "k2Fold = KFold(n_splits = 17, shuffle = True)"
   ]
  },
  {
   "cell_type": "code",
   "execution_count": null,
   "metadata": {},
   "outputs": [],
   "source": [
    "resultLinear = []\n",
    "resultRBF = []\n",
    "resultRidge = []\n",
    "resultLasso = []"
   ]
  },
  {
   "cell_type": "code",
   "execution_count": null,
   "metadata": {},
   "outputs": [],
   "source": [
    "def trainKFold(model):\n",
    "    results = []\n",
    "    for train_index, test_index in k2Fold.split(C):\n",
    "        C_train, C_test = C[train_index], C[test_index]\n",
    "        D_train, D_test = D[train_index], D[test_index]\n",
    "        model.fit(C_train, D_train)\n",
    "        results.append(model.score(C_test, D_test))\n",
    "    return sorted(results)"
   ]
  },
  {
   "cell_type": "code",
   "execution_count": null,
   "metadata": {},
   "outputs": [],
   "source": [
    "resultLinear = []\n",
    "resultRBF = []\n",
    "resultRidge = []\n",
    "resultLasso = []\n",
    "for i in range(1,11):\n",
    "    currentAlpha = i/100\n",
    "    reg = linear_model.Ridge(alpha=currentAlpha)\n",
    "    resultRidge.append(trainKFold(reg))\n",
    "    \n",
    "    reg2 = linear_model.Lasso(alpha=currentAlpha)\n",
    "    resultLasso.append(trainKFold(reg2))"
   ]
  },
  {
   "cell_type": "code",
   "execution_count": null,
   "metadata": {},
   "outputs": [],
   "source": [
    "worstRidge = -1\n",
    "bestRidge = -1\n",
    "worstLasso = -1\n",
    "bestLasso = -1\n",
    "\n",
    "for i in range(len(resultRidge)):\n",
    "    print(\"Ridge Worst: \", resultRidge[i][0])\n",
    "    #print(\"Ridge Middle: \", resultRidge[i][8])\n",
    "    #print(\"Ridge Best: \", resultRidge[i][-1])\n",
    "    print(\"Lasso Worst: \", resultLasso[i][0])\n",
    "    #print(\"Lasso Middle: \", resultLasso[i][8])\n",
    "    #print(\"Lasso Best: \", resultLasso[i][-1])\n",
    "    print()\n",
    "    if(resultRidge[i][0] > worstRidge):\n",
    "        worstRidge = resultRidge[i][0]\n",
    "    if(resultRidge[i][-1] > bestRidge):\n",
    "        bestRidge = resultRidge[i][-1]\n",
    "    if(resultLasso[i][0] > worstLasso):\n",
    "        worstLasso = resultLasso[i][0]\n",
    "    if(resultLasso[i][-1] > bestLasso):\n",
    "        bestLasso = resultLasso[i][-1]\n",
    "    \n",
    "print(\"Worst Ridge: \", worstRidge)\n",
    "print(\"Worst Lasso: \", worstLasso)\n",
    "print(\"Best Ridge: \", bestRidge)\n",
    "print(\"Best Lasso: \", bestLasso)\n",
    "    "
   ]
  },
  {
   "cell_type": "code",
   "execution_count": null,
   "metadata": {},
   "outputs": [],
   "source": [
    "results = []\n",
    "alpha = 0.06\n",
    "results.append(trainKFold(clf3))\n",
    "results.append(trainKFold(clf4))\n",
    "reg = linear_model.Ridge(alpha=alpha)\n",
    "results.append(trainKFold(reg))\n",
    "reg2 = linear_model.Lasso(alpha=alpha)\n",
    "results.append(trainKFold(reg2))"
   ]
  },
  {
   "cell_type": "code",
   "execution_count": null,
   "metadata": {},
   "outputs": [],
   "source": [
    "for i in range(len(results)):\n",
    "    print(results[i][0])\n",
    "    print(results[i][8])\n",
    "    print(results[i][-1])\n",
    "    print()"
   ]
  },
  {
   "cell_type": "code",
   "execution_count": null,
   "metadata": {},
   "outputs": [],
   "source": [
    "for i in range(10):\n",
    "    C_i = C2[:,i]\n",
    "    print(\"Feature {} has Mean {} and Standard Deviation {}\".format(i,statistics.mean(C_i), statistics.stdev(C_i)))"
   ]
  },
  {
   "cell_type": "code",
   "execution_count": null,
   "metadata": {},
   "outputs": [],
   "source": [
    "scaler = StandardScaler()"
   ]
  },
  {
   "cell_type": "code",
   "execution_count": null,
   "metadata": {},
   "outputs": [],
   "source": [
    "scaler.fit(C)"
   ]
  },
  {
   "cell_type": "code",
   "execution_count": null,
   "metadata": {},
   "outputs": [],
   "source": [
    "C2 = scaler.transform(C)"
   ]
  },
  {
   "cell_type": "code",
   "execution_count": null,
   "metadata": {},
   "outputs": [],
   "source": [
    "C2"
   ]
  },
  {
   "cell_type": "code",
   "execution_count": null,
   "metadata": {},
   "outputs": [],
   "source": [
    "pca = PCA(n_components=5)"
   ]
  },
  {
   "cell_type": "code",
   "execution_count": null,
   "metadata": {},
   "outputs": [],
   "source": [
    "pca.fit(C)"
   ]
  },
  {
   "cell_type": "code",
   "execution_count": null,
   "metadata": {},
   "outputs": [],
   "source": [
    "C_5 = pca.transform(C)"
   ]
  },
  {
   "cell_type": "code",
   "execution_count": null,
   "metadata": {},
   "outputs": [],
   "source": [
    "C_5.shape"
   ]
  },
  {
   "cell_type": "markdown",
   "metadata": {},
   "source": [
    "# Breast Cancer KFold PCA Linear SVC"
   ]
  },
  {
   "cell_type": "code",
   "execution_count": null,
   "metadata": {},
   "outputs": [],
   "source": [
    "breast_cancer = load_breast_cancer()"
   ]
  },
  {
   "cell_type": "code",
   "execution_count": null,
   "metadata": {},
   "outputs": [],
   "source": [
    "E,F = breast_cancer['data'], breast_cancer['target']"
   ]
  },
  {
   "cell_type": "code",
   "execution_count": null,
   "metadata": {},
   "outputs": [],
   "source": [
    "E.shape"
   ]
  },
  {
   "cell_type": "code",
   "execution_count": null,
   "metadata": {},
   "outputs": [],
   "source": [
    "linear = svm.SVC(kernel = 'linear')"
   ]
  },
  {
   "cell_type": "code",
   "execution_count": null,
   "metadata": {},
   "outputs": [],
   "source": [
    "K3Fold = KFold(n_splits = 10, shuffle = True)"
   ]
  },
  {
   "cell_type": "code",
   "execution_count": null,
   "metadata": {},
   "outputs": [],
   "source": [
    "results = []\n",
    "for train_index, test_index in K3Fold.split(E):\n",
    "    E_train, E_test = E[train_index], E[test_index]\n",
    "    F_train, F_test = F[train_index], F[test_index]\n",
    "    linear.fit(E_train, F_train)\n",
    "    results.append(linear.score(E_test, F_test))\n",
    "print(sorted(results))"
   ]
  },
  {
   "cell_type": "code",
   "execution_count": null,
   "metadata": {},
   "outputs": [],
   "source": [
    "#pca.fit(E)"
   ]
  },
  {
   "cell_type": "code",
   "execution_count": null,
   "metadata": {},
   "outputs": [],
   "source": [
    "E_5 = pca.fit_transform(E)"
   ]
  },
  {
   "cell_type": "code",
   "execution_count": null,
   "metadata": {},
   "outputs": [],
   "source": [
    "results = []\n",
    "for train_index, test_index in K3Fold.split(E_5):\n",
    "    E_train, E_test = E[train_index], E[test_index]\n",
    "    E_train, E_test = E_train[:,:3], E_test[:,:3]\n",
    "    F_train, F_test = F[train_index], F[test_index]\n",
    "    linear.fit(E_train, F_train)\n",
    "    results.append(linear.score(E_test, F_test))\n",
    "print(sorted(results))"
   ]
  },
  {
   "cell_type": "code",
   "execution_count": null,
   "metadata": {},
   "outputs": [],
   "source": [
    "results = []\n",
    "for train_index, test_index in K3Fold.split(E_5):\n",
    "    E_5_train, E_5_test = E_5[train_index], E_5[test_index]\n",
    "    F_train, F_test = F[train_index], F[test_index]\n",
    "    linear.fit(E_5_train, F_train)\n",
    "    results.append(linear.score(E_5_test, F_test))\n",
    "print(sorted(results))"
   ]
  },
  {
   "cell_type": "code",
   "execution_count": null,
   "metadata": {},
   "outputs": [],
   "source": [
    "pca2 = PCA()"
   ]
  },
  {
   "cell_type": "code",
   "execution_count": null,
   "metadata": {},
   "outputs": [],
   "source": [
    "pca2.fit(E)"
   ]
  },
  {
   "cell_type": "code",
   "execution_count": null,
   "metadata": {},
   "outputs": [],
   "source": [
    "plt.figure()\n",
    "plt.plot(np.cumsum(pca2.explained_variance_ratio_))\n",
    "plt.xlabel('Number of Components')\n",
    "plt.ylabel('Variance (%)')\n",
    "plt.title('Breast Cancer Dataset Explained Variance')\n",
    "plt.show()"
   ]
  },
  {
   "cell_type": "markdown",
   "metadata": {},
   "source": [
    "# Iris Classification"
   ]
  },
  {
   "cell_type": "code",
   "execution_count": null,
   "metadata": {},
   "outputs": [],
   "source": [
    "iris2 = load_iris()"
   ]
  },
  {
   "cell_type": "code",
   "execution_count": null,
   "metadata": {},
   "outputs": [],
   "source": [
    "G = iris2['data']"
   ]
  },
  {
   "cell_type": "code",
   "execution_count": null,
   "metadata": {},
   "outputs": [],
   "source": [
    "km = KMeans(n_clusters = 3, init = 'random', n_init = 100, max_iter = 300, tol = 1e-04, random_state = 0)"
   ]
  },
  {
   "cell_type": "code",
   "execution_count": null,
   "metadata": {},
   "outputs": [],
   "source": [
    "h_km = km.fit_predict(G)"
   ]
  },
  {
   "cell_type": "code",
   "execution_count": null,
   "metadata": {},
   "outputs": [],
   "source": [
    "h_km"
   ]
  },
  {
   "cell_type": "code",
   "execution_count": null,
   "metadata": {},
   "outputs": [],
   "source": [
    "confusion_matrix(h_km, iris2['target'])"
   ]
  },
  {
   "cell_type": "code",
   "execution_count": null,
   "metadata": {},
   "outputs": [],
   "source": [
    "pca3 = PCA(2)"
   ]
  },
  {
   "cell_type": "code",
   "execution_count": null,
   "metadata": {},
   "outputs": [],
   "source": [
    "G_2 = pca3.fit_transform(G)"
   ]
  },
  {
   "cell_type": "code",
   "execution_count": null,
   "metadata": {},
   "outputs": [],
   "source": [
    "h2_km = km.fit_predict(G_2)"
   ]
  },
  {
   "cell_type": "code",
   "execution_count": null,
   "metadata": {},
   "outputs": [],
   "source": [
    "confusion_matrix(h2_km, iris2['target'])"
   ]
  },
  {
   "cell_type": "code",
   "execution_count": null,
   "metadata": {},
   "outputs": [],
   "source": [
    "plt.scatter(G_2[:50,0], G_2[:50,1], c='red')\n",
    "plt.scatter(G_2[50:100,0], G_2[50:100,1], c='green')\n",
    "plt.scatter(G_2[100:,0], G_2[100:,1], c='blue')\n",
    "plt.show()"
   ]
  },
  {
   "cell_type": "code",
   "execution_count": null,
   "metadata": {},
   "outputs": [],
   "source": [
    "plt.scatter(G[:50,0], G[:50,1], c='red')\n",
    "plt.scatter(G[50:100,0], G[50:100,1], c='green')\n",
    "plt.scatter(G[100:,0], G[100:,1], c='blue')\n",
    "plt.show()"
   ]
  }
 ],
 "metadata": {
  "kernelspec": {
   "display_name": "Python 3",
   "language": "python",
   "name": "python3"
  },
  "language_info": {
   "codemirror_mode": {
    "name": "ipython",
    "version": 3
   },
   "file_extension": ".py",
   "mimetype": "text/x-python",
   "name": "python",
   "nbconvert_exporter": "python",
   "pygments_lexer": "ipython3",
   "version": "3.7.4"
  }
 },
 "nbformat": 4,
 "nbformat_minor": 2
}
